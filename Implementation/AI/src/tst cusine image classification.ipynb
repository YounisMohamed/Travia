{
 "cells": [
  {
   "cell_type": "markdown",
   "id": "0aaf2284",
   "metadata": {},
   "source": [
    "# https://huggingface.co/Kaludi/food-category-classification-v2.0"
   ]
  },
  {
   "cell_type": "code",
   "execution_count": 1,
   "id": "f8168b36",
   "metadata": {},
   "outputs": [],
   "source": [
    "import os\n",
    "os.environ[\"TRANSFORMERS_NO_TF\"] = \"1\""
   ]
  },
  {
   "cell_type": "code",
   "execution_count": 4,
   "id": "9e948b99",
   "metadata": {
    "scrolled": true
   },
   "outputs": [
    {
     "name": "stderr",
     "output_type": "stream",
     "text": [
      "Device set to use cpu\n"
     ]
    },
    {
     "name": "stdout",
     "output_type": "stream",
     "text": [
      "{'label': 'Rice', 'score': 0.4390352964401245}\n",
      "{'label': 'Noodles', 'score': 0.2662232518196106}\n",
      "{'label': 'Soup', 'score': 0.07232937216758728}\n",
      "{'label': 'Dessert', 'score': 0.06832831352949142}\n",
      "{'label': 'Fried Food', 'score': 0.059899162501096725}\n"
     ]
    }
   ],
   "source": [
    "from transformers import pipeline\n",
    "\n",
    "pipe = pipeline(\n",
    "    \"image-classification\",\n",
    "    model=\"Kaludi/food-category-classification-v2.0\"\n",
    ")\n",
    "\n",
    "# 🔹 For a local image:\n",
    "path = r\"C:\\Users\\AbdulRahman\\Desktop\\classify_food.jpg\"\n",
    "result = pipe(path)\n",
    "\n",
    "# 🔹 OR if your image is online:\n",
    "# result = pipe(\"https://yourdomain.com/yourphoto.jpg\")\n",
    "\n",
    "for x in result:\n",
    "    print(x)"
   ]
  },
  {
   "cell_type": "markdown",
   "id": "41461800",
   "metadata": {},
   "source": [
    "### https://github.com/lannguyen0910/food-recognition from cluade"
   ]
  },
  {
   "cell_type": "code",
   "execution_count": 1,
   "id": "9bc60cb2",
   "metadata": {},
   "outputs": [
    {
     "ename": "ModuleNotFoundError",
     "evalue": "No module named 'theseus.apis'",
     "output_type": "error",
     "traceback": [
      "\u001b[1;31m---------------------------------------------------------------------------\u001b[0m",
      "\u001b[1;31mModuleNotFoundError\u001b[0m                       Traceback (most recent call last)",
      "Cell \u001b[1;32mIn[1], line 4\u001b[0m\n\u001b[0;32m      2\u001b[0m \u001b[38;5;28;01mimport\u001b[39;00m\u001b[38;5;250m \u001b[39m\u001b[38;5;21;01mcv2\u001b[39;00m\n\u001b[0;32m      3\u001b[0m \u001b[38;5;28;01mimport\u001b[39;00m\u001b[38;5;250m \u001b[39m\u001b[38;5;21;01mnumpy\u001b[39;00m\u001b[38;5;250m \u001b[39m\u001b[38;5;28;01mas\u001b[39;00m\u001b[38;5;250m \u001b[39m\u001b[38;5;21;01mnp\u001b[39;00m\n\u001b[1;32m----> 4\u001b[0m \u001b[38;5;28;01mfrom\u001b[39;00m\u001b[38;5;250m \u001b[39m\u001b[38;5;21;01mtheseus\u001b[39;00m\u001b[38;5;21;01m.\u001b[39;00m\u001b[38;5;21;01mapis\u001b[39;00m\u001b[38;5;21;01m.\u001b[39;00m\u001b[38;5;21;01minference\u001b[39;00m\u001b[38;5;250m \u001b[39m\u001b[38;5;28;01mimport\u001b[39;00m DetectionPipeline\n\u001b[0;32m      5\u001b[0m \u001b[38;5;28;01mfrom\u001b[39;00m\u001b[38;5;250m \u001b[39m\u001b[38;5;21;01mtheseus\u001b[39;00m\u001b[38;5;21;01m.\u001b[39;00m\u001b[38;5;21;01mopt\u001b[39;00m\u001b[38;5;250m \u001b[39m\u001b[38;5;28;01mimport\u001b[39;00m Opts, InferenceArguments\n\u001b[0;32m      6\u001b[0m \u001b[38;5;28;01mfrom\u001b[39;00m\u001b[38;5;250m \u001b[39m\u001b[38;5;21;01mtheseus\u001b[39;00m\u001b[38;5;21;01m.\u001b[39;00m\u001b[38;5;21;01mutilities\u001b[39;00m\u001b[38;5;21;01m.\u001b[39;00m\u001b[38;5;21;01mdownload\u001b[39;00m\u001b[38;5;250m \u001b[39m\u001b[38;5;28;01mimport\u001b[39;00m download_pretrained_weights\n",
      "\u001b[1;31mModuleNotFoundError\u001b[0m: No module named 'theseus.apis'"
     ]
    }
   ],
   "source": [
    "import os\n",
    "import cv2\n",
    "import numpy as np\n",
    "from theseus.apis.inference import DetectionPipeline\n",
    "from theseus.opt import Opts, InferenceArguments\n",
    "from theseus.utilities.download import download_pretrained_weights"
   ]
  },
  {
   "cell_type": "code",
   "execution_count": 8,
   "id": "1d7f8c87",
   "metadata": {},
   "outputs": [
    {
     "name": "stdout",
     "output_type": "stream",
     "text": [
      "Defaulting to user installation because normal site-packages is not writeable\n",
      "Collecting theseus\n",
      "  Obtaining dependency information for theseus from https://files.pythonhosted.org/packages/1b/a7/eca207dbf81b5d57670693889f89c57da5bf56653afb2321db877ea005d4/theseus-0.0.5-py3-none-any.whl.metadata\n",
      "  Downloading theseus-0.0.5-py3-none-any.whl.metadata (283 bytes)\n",
      "Requirement already satisfied: matplotlib in c:\\programdata\\anaconda3\\lib\\site-packages (from theseus) (3.7.2)\n",
      "Requirement already satisfied: contourpy>=1.0.1 in c:\\programdata\\anaconda3\\lib\\site-packages (from matplotlib->theseus) (1.0.5)\n",
      "Requirement already satisfied: cycler>=0.10 in c:\\programdata\\anaconda3\\lib\\site-packages (from matplotlib->theseus) (0.11.0)\n",
      "Requirement already satisfied: fonttools>=4.22.0 in c:\\programdata\\anaconda3\\lib\\site-packages (from matplotlib->theseus) (4.25.0)\n",
      "Requirement already satisfied: kiwisolver>=1.0.1 in c:\\programdata\\anaconda3\\lib\\site-packages (from matplotlib->theseus) (1.4.4)\n",
      "Requirement already satisfied: numpy>=1.20 in c:\\users\\abdulrahman\\appdata\\roaming\\python\\python311\\site-packages (from matplotlib->theseus) (1.26.4)\n",
      "Requirement already satisfied: packaging>=20.0 in c:\\programdata\\anaconda3\\lib\\site-packages (from matplotlib->theseus) (23.1)\n",
      "Requirement already satisfied: pillow>=6.2.0 in c:\\programdata\\anaconda3\\lib\\site-packages (from matplotlib->theseus) (10.2.0)\n",
      "Requirement already satisfied: pyparsing<3.1,>=2.3.1 in c:\\programdata\\anaconda3\\lib\\site-packages (from matplotlib->theseus) (3.0.9)\n",
      "Requirement already satisfied: python-dateutil>=2.7 in c:\\programdata\\anaconda3\\lib\\site-packages (from matplotlib->theseus) (2.8.2)\n",
      "Requirement already satisfied: six>=1.5 in c:\\programdata\\anaconda3\\lib\\site-packages (from python-dateutil>=2.7->matplotlib->theseus) (1.16.0)\n",
      "Downloading theseus-0.0.5-py3-none-any.whl (4.4 kB)\n",
      "Installing collected packages: theseus\n",
      "Successfully installed theseus-0.0.5\n"
     ]
    }
   ],
   "source": [
    "!pip install theseus"
   ]
  },
  {
   "cell_type": "code",
   "execution_count": 5,
   "id": "5aba93e2",
   "metadata": {},
   "outputs": [],
   "source": [
    "def detect_food_types(input_path, model_name='yolov5s', min_conf=0.1):\n",
    "    \"\"\"\n",
    "    Detect food types from an image and return list of food names\n",
    "    \"\"\"\n",
    "    # Load and process image\n",
    "    ori_img = cv2.imread(input_path)\n",
    "    ori_img = np.array(ori_img, dtype=np.uint16)\n",
    "    ori_img = cv2.cvtColor(ori_img, cv2.COLOR_BGR2RGB)\n",
    "    \n",
    "    # Set up detection arguments\n",
    "    args = DetectionArguments(\n",
    "        model_name=model_name,\n",
    "        input_path=input_path,\n",
    "        min_conf=min_conf\n",
    "    )\n",
    "    \n",
    "    # Run detection\n",
    "    det_args = InferenceArguments(key=\"detection\")\n",
    "    opts = Opts(det_args).parse_args()\n",
    "    det_pipeline = DetectionPipeline(opts, args)\n",
    "    class_names = det_pipeline.class_names\n",
    "    \n",
    "    result_dict = det_pipeline.inference()\n",
    "    \n",
    "    # Extract results\n",
    "    result_dict['boxes'] = result_dict['boxes'][0]\n",
    "    result_dict['labels'] = result_dict['labels'][0]\n",
    "    result_dict['scores'] = result_dict['scores'][0]\n",
    "    \n",
    "    # Convert labels to food names\n",
    "    food_names = []\n",
    "    for label_idx in result_dict['labels']:\n",
    "        food_name = ' '.join(class_names[int(label_idx)].split('-'))\n",
    "        food_names.append(food_name)\n",
    "    \n",
    "    return food_names"
   ]
  },
  {
   "cell_type": "code",
   "execution_count": 6,
   "id": "196e4947",
   "metadata": {
    "scrolled": true
   },
   "outputs": [
    {
     "ename": "NameError",
     "evalue": "name 'cv2' is not defined",
     "output_type": "error",
     "traceback": [
      "\u001b[1;31m---------------------------------------------------------------------------\u001b[0m",
      "\u001b[1;31mNameError\u001b[0m                                 Traceback (most recent call last)",
      "Cell \u001b[1;32mIn[6], line 2\u001b[0m\n\u001b[0;32m      1\u001b[0m image_path \u001b[38;5;241m=\u001b[39m \u001b[38;5;124mr\u001b[39m\u001b[38;5;124m\"\u001b[39m\u001b[38;5;124mC:\u001b[39m\u001b[38;5;124m\\\u001b[39m\u001b[38;5;124mUsers\u001b[39m\u001b[38;5;124m\\\u001b[39m\u001b[38;5;124mAbdulRahman\u001b[39m\u001b[38;5;124m\\\u001b[39m\u001b[38;5;124mDesktop\u001b[39m\u001b[38;5;124m\\\u001b[39m\u001b[38;5;124mimages.jpeg\u001b[39m\u001b[38;5;124m\"\u001b[39m\n\u001b[1;32m----> 2\u001b[0m detected_foods \u001b[38;5;241m=\u001b[39m \u001b[43mdetect_food_types\u001b[49m\u001b[43m(\u001b[49m\u001b[43mimage_path\u001b[49m\u001b[43m)\u001b[49m\n\u001b[0;32m      4\u001b[0m \u001b[38;5;28mprint\u001b[39m(\u001b[38;5;124m\"\u001b[39m\u001b[38;5;124mDetected foods:\u001b[39m\u001b[38;5;124m\"\u001b[39m)\n\u001b[0;32m      5\u001b[0m \u001b[38;5;28;01mfor\u001b[39;00m food \u001b[38;5;129;01min\u001b[39;00m detected_foods:\n",
      "Cell \u001b[1;32mIn[5], line 6\u001b[0m, in \u001b[0;36mdetect_food_types\u001b[1;34m(input_path, model_name, min_conf)\u001b[0m\n\u001b[0;32m      2\u001b[0m \u001b[38;5;250m\u001b[39m\u001b[38;5;124;03m\"\"\"\u001b[39;00m\n\u001b[0;32m      3\u001b[0m \u001b[38;5;124;03mDetect food types from an image and return list of food names\u001b[39;00m\n\u001b[0;32m      4\u001b[0m \u001b[38;5;124;03m\"\"\"\u001b[39;00m\n\u001b[0;32m      5\u001b[0m \u001b[38;5;66;03m# Load and process image\u001b[39;00m\n\u001b[1;32m----> 6\u001b[0m ori_img \u001b[38;5;241m=\u001b[39m \u001b[43mcv2\u001b[49m\u001b[38;5;241m.\u001b[39mimread(input_path)\n\u001b[0;32m      7\u001b[0m ori_img \u001b[38;5;241m=\u001b[39m np\u001b[38;5;241m.\u001b[39marray(ori_img, dtype\u001b[38;5;241m=\u001b[39mnp\u001b[38;5;241m.\u001b[39muint16)\n\u001b[0;32m      8\u001b[0m ori_img \u001b[38;5;241m=\u001b[39m cv2\u001b[38;5;241m.\u001b[39mcvtColor(ori_img, cv2\u001b[38;5;241m.\u001b[39mCOLOR_BGR2RGB)\n",
      "\u001b[1;31mNameError\u001b[0m: name 'cv2' is not defined"
     ]
    }
   ],
   "source": [
    "image_path = r\"C:\\Users\\AbdulRahman\\Desktop\\images.jpeg\"\n",
    "detected_foods = detect_food_types(image_path)\n",
    "\n",
    "print(\"Detected foods:\")\n",
    "for food in detected_foods:\n",
    "    print(f\"- {food}\")"
   ]
  },
  {
   "cell_type": "code",
   "execution_count": 4,
   "id": "758769c1",
   "metadata": {},
   "outputs": [
    {
     "name": "stdout",
     "output_type": "stream",
     "text": [
      "C:\\Users\\AbdulRahman\\.conda\\envs\\python313\\python.exe\n"
     ]
    }
   ],
   "source": [
    "import sys\n",
    "print(sys.executable)"
   ]
  },
  {
   "cell_type": "code",
   "execution_count": 2,
   "id": "e108ad17",
   "metadata": {},
   "outputs": [
    {
     "name": "stdout",
     "output_type": "stream",
     "text": [
      "0.0.5\n"
     ]
    }
   ],
   "source": [
    "import theseus\n",
    "print(theseus.__version__)"
   ]
  }
 ],
 "metadata": {
  "kernelspec": {
   "display_name": "Python 3.13 (CUDA)",
   "language": "python",
   "name": "python313"
  },
  "language_info": {
   "codemirror_mode": {
    "name": "ipython",
    "version": 3
   },
   "file_extension": ".py",
   "mimetype": "text/x-python",
   "name": "python",
   "nbconvert_exporter": "python",
   "pygments_lexer": "ipython3",
   "version": "3.13.2"
  }
 },
 "nbformat": 4,
 "nbformat_minor": 5
}
