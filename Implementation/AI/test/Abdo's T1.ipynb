{
  "nbformat": 4,
  "nbformat_minor": 0,
  "metadata": {
    "colab": {
      "provenance": []
    },
    "kernelspec": {
      "name": "python3",
      "display_name": "Python 3"
    },
    "language_info": {
      "name": "python"
    }
  },
  "cells": [
    {
      "cell_type": "code",
      "execution_count": null,
      "metadata": {
        "id": "SWvq_Iu0OcG6"
      },
      "outputs": [],
      "source": [
        "# city, number of days, budget, touristic or not\n",
        "# adventures or not, family friendly or not, type of breakfast, type of lunch, type of dinner, minimum review number, rating (stars), outdoor or not, noise level,\n",
        "\n",
        "# if he choosed not family friendly then see if its romantic or not\n",
        "\n",
        "# trendy or classy or casual\n",
        "\n",
        "# while runnig the reinforcment model pass to it an attribute called (other prefrecncess) this will have the data as from the user interaction with his feed on\n",
        "# his social media\n",
        "\n",
        "user_pref = []\n",
        "\n",
        "#if family friendly = true => good for kids column is true\n",
        "#if not then"
      ]
    },
    {
      "cell_type": "code",
      "source": [
        "import pandas as pd\n",
        "import numpy as np\n",
        "from sklearn.compose import ColumnTransformer\n",
        "from sklearn.preprocessing import OneHotEncoder"
      ],
      "metadata": {
        "id": "RAnQJEAtylDw"
      },
      "execution_count": null,
      "outputs": []
    },
    {
      "cell_type": "code",
      "source": [
        "df = pd.read_csv(\"z.csv\")"
      ],
      "metadata": {
        "id": "FhO1sxENzUlQ"
      },
      "execution_count": null,
      "outputs": []
    },
    {
      "cell_type": "code",
      "source": [
        "# count of missing values in each column\n",
        "df.isna().sum()"
      ],
      "metadata": {
        "colab": {
          "base_uri": "https://localhost:8080/",
          "height": 1000
        },
        "id": "QpJrarruDCMm",
        "outputId": "371cb7b5-3a86-4de3-ed70-d310559445d9"
      },
      "execution_count": null,
      "outputs": [
        {
          "output_type": "execute_result",
          "data": {
            "text/plain": [
              "business_id                                 0\n",
              "name                                        0\n",
              "address                                   102\n",
              "city                                        0\n",
              "state                                       0\n",
              "postal_code                                 0\n",
              "latitude                                    0\n",
              "longitude                                   0\n",
              "stars                                       0\n",
              "review_count                                0\n",
              "attributes_RestaurantsDelivery           4606\n",
              "attributes_OutdoorSeating                4755\n",
              "attributes_BusinessAcceptsCreditCards     718\n",
              "attributes_RestaurantsPriceRange2        1548\n",
              "attributes_RestaurantsTakeOut            3661\n",
              "attributes_WiFi                          3035\n",
              "categories                                  0\n",
              "hours_Monday                             2513\n",
              "hours_Tuesday                            1723\n",
              "hours_Wednesday                           770\n",
              "hours_Thursday                            440\n",
              "hours_Friday                              356\n",
              "hours_Saturday                            703\n",
              "hours_Sunday                             3334\n",
              "attributes_RestaurantsGoodForGroups      4767\n",
              "attributes_RestaurantsAttire             5910\n",
              "attributes_GoodForKids                   4540\n",
              "attributes_NoiseLevel                    4511\n",
              "attributes_Ambience_touristy             5593\n",
              "attributes_Ambience_romantic             5685\n",
              "attributes_Ambience_intimate             6240\n",
              "attributes_Ambience_trendy               6706\n",
              "attributes_Ambience_classy               5762\n",
              "attributes_Ambience_casual               4953\n",
              "attributes_GoodForMeal_dessert           8716\n",
              "attributes_GoodForMeal_latenight         7906\n",
              "attributes_GoodForMeal_lunch             7188\n",
              "attributes_GoodForMeal_dinner            6232\n",
              "attributes_GoodForMeal_brunch            7978\n",
              "attributes_GoodForMeal_breakfast         7150\n",
              "dtype: int64"
            ],
            "text/html": [
              "<div>\n",
              "<style scoped>\n",
              "    .dataframe tbody tr th:only-of-type {\n",
              "        vertical-align: middle;\n",
              "    }\n",
              "\n",
              "    .dataframe tbody tr th {\n",
              "        vertical-align: top;\n",
              "    }\n",
              "\n",
              "    .dataframe thead th {\n",
              "        text-align: right;\n",
              "    }\n",
              "</style>\n",
              "<table border=\"1\" class=\"dataframe\">\n",
              "  <thead>\n",
              "    <tr style=\"text-align: right;\">\n",
              "      <th></th>\n",
              "      <th>0</th>\n",
              "    </tr>\n",
              "  </thead>\n",
              "  <tbody>\n",
              "    <tr>\n",
              "      <th>business_id</th>\n",
              "      <td>0</td>\n",
              "    </tr>\n",
              "    <tr>\n",
              "      <th>name</th>\n",
              "      <td>0</td>\n",
              "    </tr>\n",
              "    <tr>\n",
              "      <th>address</th>\n",
              "      <td>102</td>\n",
              "    </tr>\n",
              "    <tr>\n",
              "      <th>city</th>\n",
              "      <td>0</td>\n",
              "    </tr>\n",
              "    <tr>\n",
              "      <th>state</th>\n",
              "      <td>0</td>\n",
              "    </tr>\n",
              "    <tr>\n",
              "      <th>postal_code</th>\n",
              "      <td>0</td>\n",
              "    </tr>\n",
              "    <tr>\n",
              "      <th>latitude</th>\n",
              "      <td>0</td>\n",
              "    </tr>\n",
              "    <tr>\n",
              "      <th>longitude</th>\n",
              "      <td>0</td>\n",
              "    </tr>\n",
              "    <tr>\n",
              "      <th>stars</th>\n",
              "      <td>0</td>\n",
              "    </tr>\n",
              "    <tr>\n",
              "      <th>review_count</th>\n",
              "      <td>0</td>\n",
              "    </tr>\n",
              "    <tr>\n",
              "      <th>attributes_RestaurantsDelivery</th>\n",
              "      <td>4606</td>\n",
              "    </tr>\n",
              "    <tr>\n",
              "      <th>attributes_OutdoorSeating</th>\n",
              "      <td>4755</td>\n",
              "    </tr>\n",
              "    <tr>\n",
              "      <th>attributes_BusinessAcceptsCreditCards</th>\n",
              "      <td>718</td>\n",
              "    </tr>\n",
              "    <tr>\n",
              "      <th>attributes_RestaurantsPriceRange2</th>\n",
              "      <td>1548</td>\n",
              "    </tr>\n",
              "    <tr>\n",
              "      <th>attributes_RestaurantsTakeOut</th>\n",
              "      <td>3661</td>\n",
              "    </tr>\n",
              "    <tr>\n",
              "      <th>attributes_WiFi</th>\n",
              "      <td>3035</td>\n",
              "    </tr>\n",
              "    <tr>\n",
              "      <th>categories</th>\n",
              "      <td>0</td>\n",
              "    </tr>\n",
              "    <tr>\n",
              "      <th>hours_Monday</th>\n",
              "      <td>2513</td>\n",
              "    </tr>\n",
              "    <tr>\n",
              "      <th>hours_Tuesday</th>\n",
              "      <td>1723</td>\n",
              "    </tr>\n",
              "    <tr>\n",
              "      <th>hours_Wednesday</th>\n",
              "      <td>770</td>\n",
              "    </tr>\n",
              "    <tr>\n",
              "      <th>hours_Thursday</th>\n",
              "      <td>440</td>\n",
              "    </tr>\n",
              "    <tr>\n",
              "      <th>hours_Friday</th>\n",
              "      <td>356</td>\n",
              "    </tr>\n",
              "    <tr>\n",
              "      <th>hours_Saturday</th>\n",
              "      <td>703</td>\n",
              "    </tr>\n",
              "    <tr>\n",
              "      <th>hours_Sunday</th>\n",
              "      <td>3334</td>\n",
              "    </tr>\n",
              "    <tr>\n",
              "      <th>attributes_RestaurantsGoodForGroups</th>\n",
              "      <td>4767</td>\n",
              "    </tr>\n",
              "    <tr>\n",
              "      <th>attributes_RestaurantsAttire</th>\n",
              "      <td>5910</td>\n",
              "    </tr>\n",
              "    <tr>\n",
              "      <th>attributes_GoodForKids</th>\n",
              "      <td>4540</td>\n",
              "    </tr>\n",
              "    <tr>\n",
              "      <th>attributes_NoiseLevel</th>\n",
              "      <td>4511</td>\n",
              "    </tr>\n",
              "    <tr>\n",
              "      <th>attributes_Ambience_touristy</th>\n",
              "      <td>5593</td>\n",
              "    </tr>\n",
              "    <tr>\n",
              "      <th>attributes_Ambience_romantic</th>\n",
              "      <td>5685</td>\n",
              "    </tr>\n",
              "    <tr>\n",
              "      <th>attributes_Ambience_intimate</th>\n",
              "      <td>6240</td>\n",
              "    </tr>\n",
              "    <tr>\n",
              "      <th>attributes_Ambience_trendy</th>\n",
              "      <td>6706</td>\n",
              "    </tr>\n",
              "    <tr>\n",
              "      <th>attributes_Ambience_classy</th>\n",
              "      <td>5762</td>\n",
              "    </tr>\n",
              "    <tr>\n",
              "      <th>attributes_Ambience_casual</th>\n",
              "      <td>4953</td>\n",
              "    </tr>\n",
              "    <tr>\n",
              "      <th>attributes_GoodForMeal_dessert</th>\n",
              "      <td>8716</td>\n",
              "    </tr>\n",
              "    <tr>\n",
              "      <th>attributes_GoodForMeal_latenight</th>\n",
              "      <td>7906</td>\n",
              "    </tr>\n",
              "    <tr>\n",
              "      <th>attributes_GoodForMeal_lunch</th>\n",
              "      <td>7188</td>\n",
              "    </tr>\n",
              "    <tr>\n",
              "      <th>attributes_GoodForMeal_dinner</th>\n",
              "      <td>6232</td>\n",
              "    </tr>\n",
              "    <tr>\n",
              "      <th>attributes_GoodForMeal_brunch</th>\n",
              "      <td>7978</td>\n",
              "    </tr>\n",
              "    <tr>\n",
              "      <th>attributes_GoodForMeal_breakfast</th>\n",
              "      <td>7150</td>\n",
              "    </tr>\n",
              "  </tbody>\n",
              "</table>\n",
              "</div><br><label><b>dtype:</b> int64</label>"
            ]
          },
          "metadata": {},
          "execution_count": 4
        }
      ]
    },
    {
      "cell_type": "code",
      "source": [
        "# drop :\n",
        "#permenant\n",
        "#state, business id, postal code\n",
        "#temp\n",
        "#hours all week days, good for gourps, attrie, good for dinner, lunch, mid night, breakfasst\n",
        "df.drop(columns=['business_id', 'state', 'postal_code', 'state', 'attributes_WiFi', 'hours_Monday',\n",
        "                 'hours_Tuesday','hours_Wednesday','hours_Thursday','hours_Friday','hours_Saturday','hours_Sunday',\n",
        "                 'attributes_RestaurantsGoodForGroups','attributes_RestaurantsAttire','attributes_NoiseLevel',\n",
        "                 'attributes_GoodForMeal_dessert','attributes_GoodForMeal_latenight',\n",
        "                 'attributes_GoodForMeal_lunch','attributes_GoodForMeal_dinner','attributes_GoodForMeal_brunch',\n",
        "                 'attributes_GoodForMeal_breakfast'], inplace=True)"
      ],
      "metadata": {
        "id": "u9WKpVbu1_nt"
      },
      "execution_count": null,
      "outputs": []
    },
    {
      "cell_type": "code",
      "source": [
        "# count of missing values in each column\n",
        "df.isna().sum()"
      ],
      "metadata": {
        "colab": {
          "base_uri": "https://localhost:8080/",
          "height": 711
        },
        "id": "az4k23y4CuLO",
        "outputId": "fbfc8d30-d2e5-4f3d-8d84-6c50af535952"
      },
      "execution_count": null,
      "outputs": [
        {
          "output_type": "execute_result",
          "data": {
            "text/plain": [
              "name                                        0\n",
              "address                                   102\n",
              "city                                        0\n",
              "latitude                                    0\n",
              "longitude                                   0\n",
              "stars                                       0\n",
              "review_count                                0\n",
              "attributes_RestaurantsDelivery           4606\n",
              "attributes_OutdoorSeating                4755\n",
              "attributes_BusinessAcceptsCreditCards     718\n",
              "attributes_RestaurantsPriceRange2        1548\n",
              "attributes_RestaurantsTakeOut            3661\n",
              "categories                                  0\n",
              "attributes_GoodForKids                   4540\n",
              "attributes_Ambience_touristy             5593\n",
              "attributes_Ambience_romantic             5685\n",
              "attributes_Ambience_intimate             6240\n",
              "attributes_Ambience_trendy               6706\n",
              "attributes_Ambience_classy               5762\n",
              "attributes_Ambience_casual               4953\n",
              "dtype: int64"
            ],
            "text/html": [
              "<div>\n",
              "<style scoped>\n",
              "    .dataframe tbody tr th:only-of-type {\n",
              "        vertical-align: middle;\n",
              "    }\n",
              "\n",
              "    .dataframe tbody tr th {\n",
              "        vertical-align: top;\n",
              "    }\n",
              "\n",
              "    .dataframe thead th {\n",
              "        text-align: right;\n",
              "    }\n",
              "</style>\n",
              "<table border=\"1\" class=\"dataframe\">\n",
              "  <thead>\n",
              "    <tr style=\"text-align: right;\">\n",
              "      <th></th>\n",
              "      <th>0</th>\n",
              "    </tr>\n",
              "  </thead>\n",
              "  <tbody>\n",
              "    <tr>\n",
              "      <th>name</th>\n",
              "      <td>0</td>\n",
              "    </tr>\n",
              "    <tr>\n",
              "      <th>address</th>\n",
              "      <td>102</td>\n",
              "    </tr>\n",
              "    <tr>\n",
              "      <th>city</th>\n",
              "      <td>0</td>\n",
              "    </tr>\n",
              "    <tr>\n",
              "      <th>latitude</th>\n",
              "      <td>0</td>\n",
              "    </tr>\n",
              "    <tr>\n",
              "      <th>longitude</th>\n",
              "      <td>0</td>\n",
              "    </tr>\n",
              "    <tr>\n",
              "      <th>stars</th>\n",
              "      <td>0</td>\n",
              "    </tr>\n",
              "    <tr>\n",
              "      <th>review_count</th>\n",
              "      <td>0</td>\n",
              "    </tr>\n",
              "    <tr>\n",
              "      <th>attributes_RestaurantsDelivery</th>\n",
              "      <td>4606</td>\n",
              "    </tr>\n",
              "    <tr>\n",
              "      <th>attributes_OutdoorSeating</th>\n",
              "      <td>4755</td>\n",
              "    </tr>\n",
              "    <tr>\n",
              "      <th>attributes_BusinessAcceptsCreditCards</th>\n",
              "      <td>718</td>\n",
              "    </tr>\n",
              "    <tr>\n",
              "      <th>attributes_RestaurantsPriceRange2</th>\n",
              "      <td>1548</td>\n",
              "    </tr>\n",
              "    <tr>\n",
              "      <th>attributes_RestaurantsTakeOut</th>\n",
              "      <td>3661</td>\n",
              "    </tr>\n",
              "    <tr>\n",
              "      <th>categories</th>\n",
              "      <td>0</td>\n",
              "    </tr>\n",
              "    <tr>\n",
              "      <th>attributes_GoodForKids</th>\n",
              "      <td>4540</td>\n",
              "    </tr>\n",
              "    <tr>\n",
              "      <th>attributes_Ambience_touristy</th>\n",
              "      <td>5593</td>\n",
              "    </tr>\n",
              "    <tr>\n",
              "      <th>attributes_Ambience_romantic</th>\n",
              "      <td>5685</td>\n",
              "    </tr>\n",
              "    <tr>\n",
              "      <th>attributes_Ambience_intimate</th>\n",
              "      <td>6240</td>\n",
              "    </tr>\n",
              "    <tr>\n",
              "      <th>attributes_Ambience_trendy</th>\n",
              "      <td>6706</td>\n",
              "    </tr>\n",
              "    <tr>\n",
              "      <th>attributes_Ambience_classy</th>\n",
              "      <td>5762</td>\n",
              "    </tr>\n",
              "    <tr>\n",
              "      <th>attributes_Ambience_casual</th>\n",
              "      <td>4953</td>\n",
              "    </tr>\n",
              "  </tbody>\n",
              "</table>\n",
              "</div><br><label><b>dtype:</b> int64</label>"
            ]
          },
          "metadata": {},
          "execution_count": 6
        }
      ]
    },
    {
      "cell_type": "code",
      "source": [
        "df.dtypes"
      ],
      "metadata": {
        "colab": {
          "base_uri": "https://localhost:8080/",
          "height": 711
        },
        "id": "oTL_5DesDtbk",
        "outputId": "fd4a7ddf-3411-4202-ce3c-f6d389120fca"
      },
      "execution_count": null,
      "outputs": [
        {
          "output_type": "execute_result",
          "data": {
            "text/plain": [
              "name                                      object\n",
              "address                                   object\n",
              "city                                      object\n",
              "latitude                                 float64\n",
              "longitude                                float64\n",
              "stars                                    float64\n",
              "review_count                               int64\n",
              "attributes_RestaurantsDelivery            object\n",
              "attributes_OutdoorSeating                 object\n",
              "attributes_BusinessAcceptsCreditCards     object\n",
              "attributes_RestaurantsPriceRange2        float64\n",
              "attributes_RestaurantsTakeOut             object\n",
              "categories                                object\n",
              "attributes_GoodForKids                    object\n",
              "attributes_Ambience_touristy              object\n",
              "attributes_Ambience_romantic              object\n",
              "attributes_Ambience_intimate              object\n",
              "attributes_Ambience_trendy                object\n",
              "attributes_Ambience_classy                object\n",
              "attributes_Ambience_casual                object\n",
              "dtype: object"
            ],
            "text/html": [
              "<div>\n",
              "<style scoped>\n",
              "    .dataframe tbody tr th:only-of-type {\n",
              "        vertical-align: middle;\n",
              "    }\n",
              "\n",
              "    .dataframe tbody tr th {\n",
              "        vertical-align: top;\n",
              "    }\n",
              "\n",
              "    .dataframe thead th {\n",
              "        text-align: right;\n",
              "    }\n",
              "</style>\n",
              "<table border=\"1\" class=\"dataframe\">\n",
              "  <thead>\n",
              "    <tr style=\"text-align: right;\">\n",
              "      <th></th>\n",
              "      <th>0</th>\n",
              "    </tr>\n",
              "  </thead>\n",
              "  <tbody>\n",
              "    <tr>\n",
              "      <th>name</th>\n",
              "      <td>object</td>\n",
              "    </tr>\n",
              "    <tr>\n",
              "      <th>address</th>\n",
              "      <td>object</td>\n",
              "    </tr>\n",
              "    <tr>\n",
              "      <th>city</th>\n",
              "      <td>object</td>\n",
              "    </tr>\n",
              "    <tr>\n",
              "      <th>latitude</th>\n",
              "      <td>float64</td>\n",
              "    </tr>\n",
              "    <tr>\n",
              "      <th>longitude</th>\n",
              "      <td>float64</td>\n",
              "    </tr>\n",
              "    <tr>\n",
              "      <th>stars</th>\n",
              "      <td>float64</td>\n",
              "    </tr>\n",
              "    <tr>\n",
              "      <th>review_count</th>\n",
              "      <td>int64</td>\n",
              "    </tr>\n",
              "    <tr>\n",
              "      <th>attributes_RestaurantsDelivery</th>\n",
              "      <td>object</td>\n",
              "    </tr>\n",
              "    <tr>\n",
              "      <th>attributes_OutdoorSeating</th>\n",
              "      <td>object</td>\n",
              "    </tr>\n",
              "    <tr>\n",
              "      <th>attributes_BusinessAcceptsCreditCards</th>\n",
              "      <td>object</td>\n",
              "    </tr>\n",
              "    <tr>\n",
              "      <th>attributes_RestaurantsPriceRange2</th>\n",
              "      <td>float64</td>\n",
              "    </tr>\n",
              "    <tr>\n",
              "      <th>attributes_RestaurantsTakeOut</th>\n",
              "      <td>object</td>\n",
              "    </tr>\n",
              "    <tr>\n",
              "      <th>categories</th>\n",
              "      <td>object</td>\n",
              "    </tr>\n",
              "    <tr>\n",
              "      <th>attributes_GoodForKids</th>\n",
              "      <td>object</td>\n",
              "    </tr>\n",
              "    <tr>\n",
              "      <th>attributes_Ambience_touristy</th>\n",
              "      <td>object</td>\n",
              "    </tr>\n",
              "    <tr>\n",
              "      <th>attributes_Ambience_romantic</th>\n",
              "      <td>object</td>\n",
              "    </tr>\n",
              "    <tr>\n",
              "      <th>attributes_Ambience_intimate</th>\n",
              "      <td>object</td>\n",
              "    </tr>\n",
              "    <tr>\n",
              "      <th>attributes_Ambience_trendy</th>\n",
              "      <td>object</td>\n",
              "    </tr>\n",
              "    <tr>\n",
              "      <th>attributes_Ambience_classy</th>\n",
              "      <td>object</td>\n",
              "    </tr>\n",
              "    <tr>\n",
              "      <th>attributes_Ambience_casual</th>\n",
              "      <td>object</td>\n",
              "    </tr>\n",
              "  </tbody>\n",
              "</table>\n",
              "</div><br><label><b>dtype:</b> object</label>"
            ]
          },
          "metadata": {},
          "execution_count": 7
        }
      ]
    },
    {
      "cell_type": "code",
      "source": [
        "print(df)"
      ],
      "metadata": {
        "colab": {
          "base_uri": "https://localhost:8080/"
        },
        "id": "5TEN797s2aCo",
        "outputId": "3c619f9c-6584-491e-dd36-4c7104f3c09a"
      },
      "execution_count": null,
      "outputs": [
        {
          "output_type": "stream",
          "name": "stdout",
          "text": [
            "                       name             address            city   latitude  \\\n",
            "0        St Honore Pastries         935 Race St    Philadelphia  39.955505   \n",
            "1                  Tuna Bar         205 Race St    Philadelphia  39.953949   \n",
            "2                       BAP       1224 South St    Philadelphia  39.943223   \n",
            "3             Ardmore Pizza   10 Rittenhouse Pl         Ardmore  40.006707   \n",
            "4                Craft Hall  901 N Delaware Ave    Philadelphia  39.962582   \n",
            "...                     ...                 ...             ...        ...   \n",
            "16695     El Cap Restaurant       3500 4th St N  St. Petersburg  27.804140   \n",
            "16696    Sage Mediterranean       150 Bridge St    Phoenixville  40.134042   \n",
            "16697       HighWire Lounge    14 S Arizona Ave          Tucson  32.221828   \n",
            "16698    Whole Foods Market    4577 W Pine Blvd       St. Louis  38.641988   \n",
            "16699  Bittercreek Alehouse        246 N 8th St           Boise  43.616590   \n",
            "\n",
            "        longitude  stars  review_count attributes_RestaurantsDelivery  \\\n",
            "0      -75.155564    4.0            80                          False   \n",
            "1      -75.143226    4.0           245                           True   \n",
            "2      -75.162568    4.5           205                            NaN   \n",
            "3      -75.289671    3.5           109                           True   \n",
            "4      -75.135657    3.5            65                           True   \n",
            "...           ...    ...           ...                            ...   \n",
            "16695  -82.638855    3.5           414                          False   \n",
            "16696  -75.514528    4.0           118                           True   \n",
            "16697 -110.967969    3.5           111                          False   \n",
            "16698  -90.261655    4.0            71                            NaN   \n",
            "16699 -116.202383    4.5           998                            NaN   \n",
            "\n",
            "      attributes_OutdoorSeating attributes_BusinessAcceptsCreditCards  \\\n",
            "0                         False                                 False   \n",
            "1                          True                                  True   \n",
            "2                           NaN                                  True   \n",
            "3                         False                                  True   \n",
            "4                          True                                  True   \n",
            "...                         ...                                   ...   \n",
            "16695                      True                                  True   \n",
            "16696                     False                                  True   \n",
            "16697                      True                                  True   \n",
            "16698                       NaN                                  True   \n",
            "16699                       NaN                                  True   \n",
            "\n",
            "       attributes_RestaurantsPriceRange2 attributes_RestaurantsTakeOut  \\\n",
            "0                                    1.0                          True   \n",
            "1                                    2.0                          True   \n",
            "2                                    1.0                          True   \n",
            "3                                    1.0                          True   \n",
            "4                                    2.0                          True   \n",
            "...                                  ...                           ...   \n",
            "16695                                1.0                          True   \n",
            "16696                                2.0                          True   \n",
            "16697                                2.0                         False   \n",
            "16698                                3.0                          True   \n",
            "16699                                2.0                           NaN   \n",
            "\n",
            "                             categories attributes_GoodForKids  \\\n",
            "0           Restaurants_Cuisines, Cafes                    NaN   \n",
            "1                  Restaurants_Cuisines                  False   \n",
            "2                  Restaurants_Cuisines                   True   \n",
            "3                  Restaurants_Cuisines                   True   \n",
            "4                  Restaurants_Cuisines                   True   \n",
            "...                                 ...                    ...   \n",
            "16695              Restaurants_Cuisines                   True   \n",
            "16696              Restaurants_Cuisines                   True   \n",
            "16697  Bars_Night, Restaurants_Cuisines                  False   \n",
            "16698         Beauty_Health_Care, Shops                   True   \n",
            "16699  Bars_Night, Restaurants_Cuisines                  False   \n",
            "\n",
            "      attributes_Ambience_touristy attributes_Ambience_romantic  \\\n",
            "0                              NaN                          NaN   \n",
            "1                            False                        False   \n",
            "2                            False                        False   \n",
            "3                            False                        False   \n",
            "4                            False                        False   \n",
            "...                            ...                          ...   \n",
            "16695                        False                        False   \n",
            "16696                        False                        False   \n",
            "16697                        False                        False   \n",
            "16698                          NaN                          NaN   \n",
            "16699                        False                        False   \n",
            "\n",
            "      attributes_Ambience_intimate attributes_Ambience_trendy  \\\n",
            "0                              NaN                        NaN   \n",
            "1                            False                      False   \n",
            "2                              NaN                      False   \n",
            "3                            False                      False   \n",
            "4                            False                      False   \n",
            "...                            ...                        ...   \n",
            "16695                        False                      False   \n",
            "16696                        False                      False   \n",
            "16697                        False                       True   \n",
            "16698                          NaN                        NaN   \n",
            "16699                        False                       True   \n",
            "\n",
            "      attributes_Ambience_classy attributes_Ambience_casual  \n",
            "0                            NaN                        NaN  \n",
            "1                           True                      False  \n",
            "2                          False                       True  \n",
            "3                          False                       True  \n",
            "4                           True                      False  \n",
            "...                          ...                        ...  \n",
            "16695                      False                       True  \n",
            "16696                       True                       True  \n",
            "16697                       True                       True  \n",
            "16698                        NaN                        NaN  \n",
            "16699                      False                       True  \n",
            "\n",
            "[16700 rows x 20 columns]\n"
          ]
        }
      ]
    },
    {
      "cell_type": "code",
      "source": [
        "print(type(df))"
      ],
      "metadata": {
        "colab": {
          "base_uri": "https://localhost:8080/"
        },
        "id": "QyAnv5X_GrQb",
        "outputId": "0528b63b-bb4e-4570-98b4-017341e8d4f0"
      },
      "execution_count": null,
      "outputs": [
        {
          "output_type": "stream",
          "name": "stdout",
          "text": [
            "<class 'pandas.core.frame.DataFrame'>\n"
          ]
        }
      ]
    },
    {
      "cell_type": "code",
      "source": [
        "df.head()"
      ],
      "metadata": {
        "colab": {
          "base_uri": "https://localhost:8080/",
          "height": 365
        },
        "id": "a1cObIlDZXi8",
        "outputId": "98868785-6539-4cb2-b792-70dabbb785f3"
      },
      "execution_count": null,
      "outputs": [
        {
          "output_type": "execute_result",
          "data": {
            "text/plain": [
              "                 name             address          city   latitude  longitude  \\\n",
              "0  St Honore Pastries         935 Race St  Philadelphia  39.955505 -75.155564   \n",
              "1            Tuna Bar         205 Race St  Philadelphia  39.953949 -75.143226   \n",
              "2                 BAP       1224 South St  Philadelphia  39.943223 -75.162568   \n",
              "3       Ardmore Pizza   10 Rittenhouse Pl       Ardmore  40.006707 -75.289671   \n",
              "4          Craft Hall  901 N Delaware Ave  Philadelphia  39.962582 -75.135657   \n",
              "\n",
              "   stars  review_count attributes_RestaurantsDelivery  \\\n",
              "0    4.0            80                          False   \n",
              "1    4.0           245                           True   \n",
              "2    4.5           205                            NaN   \n",
              "3    3.5           109                           True   \n",
              "4    3.5            65                           True   \n",
              "\n",
              "  attributes_OutdoorSeating attributes_BusinessAcceptsCreditCards  \\\n",
              "0                     False                                 False   \n",
              "1                      True                                  True   \n",
              "2                       NaN                                  True   \n",
              "3                     False                                  True   \n",
              "4                      True                                  True   \n",
              "\n",
              "   attributes_RestaurantsPriceRange2 attributes_RestaurantsTakeOut  \\\n",
              "0                                1.0                          True   \n",
              "1                                2.0                          True   \n",
              "2                                1.0                          True   \n",
              "3                                1.0                          True   \n",
              "4                                2.0                          True   \n",
              "\n",
              "                    categories attributes_GoodForKids  \\\n",
              "0  Restaurants_Cuisines, Cafes                    NaN   \n",
              "1         Restaurants_Cuisines                  False   \n",
              "2         Restaurants_Cuisines                   True   \n",
              "3         Restaurants_Cuisines                   True   \n",
              "4         Restaurants_Cuisines                   True   \n",
              "\n",
              "  attributes_Ambience_touristy attributes_Ambience_romantic  \\\n",
              "0                          NaN                          NaN   \n",
              "1                        False                        False   \n",
              "2                        False                        False   \n",
              "3                        False                        False   \n",
              "4                        False                        False   \n",
              "\n",
              "  attributes_Ambience_intimate attributes_Ambience_trendy  \\\n",
              "0                          NaN                        NaN   \n",
              "1                        False                      False   \n",
              "2                          NaN                      False   \n",
              "3                        False                      False   \n",
              "4                        False                      False   \n",
              "\n",
              "  attributes_Ambience_classy attributes_Ambience_casual  \n",
              "0                        NaN                        NaN  \n",
              "1                       True                      False  \n",
              "2                      False                       True  \n",
              "3                      False                       True  \n",
              "4                       True                      False  "
            ],
            "text/html": [
              "\n",
              "  <div id=\"df-d2178aaa-147a-454b-b86a-210c5f14e07a\" class=\"colab-df-container\">\n",
              "    <div>\n",
              "<style scoped>\n",
              "    .dataframe tbody tr th:only-of-type {\n",
              "        vertical-align: middle;\n",
              "    }\n",
              "\n",
              "    .dataframe tbody tr th {\n",
              "        vertical-align: top;\n",
              "    }\n",
              "\n",
              "    .dataframe thead th {\n",
              "        text-align: right;\n",
              "    }\n",
              "</style>\n",
              "<table border=\"1\" class=\"dataframe\">\n",
              "  <thead>\n",
              "    <tr style=\"text-align: right;\">\n",
              "      <th></th>\n",
              "      <th>name</th>\n",
              "      <th>address</th>\n",
              "      <th>city</th>\n",
              "      <th>latitude</th>\n",
              "      <th>longitude</th>\n",
              "      <th>stars</th>\n",
              "      <th>review_count</th>\n",
              "      <th>attributes_RestaurantsDelivery</th>\n",
              "      <th>attributes_OutdoorSeating</th>\n",
              "      <th>attributes_BusinessAcceptsCreditCards</th>\n",
              "      <th>attributes_RestaurantsPriceRange2</th>\n",
              "      <th>attributes_RestaurantsTakeOut</th>\n",
              "      <th>categories</th>\n",
              "      <th>attributes_GoodForKids</th>\n",
              "      <th>attributes_Ambience_touristy</th>\n",
              "      <th>attributes_Ambience_romantic</th>\n",
              "      <th>attributes_Ambience_intimate</th>\n",
              "      <th>attributes_Ambience_trendy</th>\n",
              "      <th>attributes_Ambience_classy</th>\n",
              "      <th>attributes_Ambience_casual</th>\n",
              "    </tr>\n",
              "  </thead>\n",
              "  <tbody>\n",
              "    <tr>\n",
              "      <th>0</th>\n",
              "      <td>St Honore Pastries</td>\n",
              "      <td>935 Race St</td>\n",
              "      <td>Philadelphia</td>\n",
              "      <td>39.955505</td>\n",
              "      <td>-75.155564</td>\n",
              "      <td>4.0</td>\n",
              "      <td>80</td>\n",
              "      <td>False</td>\n",
              "      <td>False</td>\n",
              "      <td>False</td>\n",
              "      <td>1.0</td>\n",
              "      <td>True</td>\n",
              "      <td>Restaurants_Cuisines, Cafes</td>\n",
              "      <td>NaN</td>\n",
              "      <td>NaN</td>\n",
              "      <td>NaN</td>\n",
              "      <td>NaN</td>\n",
              "      <td>NaN</td>\n",
              "      <td>NaN</td>\n",
              "      <td>NaN</td>\n",
              "    </tr>\n",
              "    <tr>\n",
              "      <th>1</th>\n",
              "      <td>Tuna Bar</td>\n",
              "      <td>205 Race St</td>\n",
              "      <td>Philadelphia</td>\n",
              "      <td>39.953949</td>\n",
              "      <td>-75.143226</td>\n",
              "      <td>4.0</td>\n",
              "      <td>245</td>\n",
              "      <td>True</td>\n",
              "      <td>True</td>\n",
              "      <td>True</td>\n",
              "      <td>2.0</td>\n",
              "      <td>True</td>\n",
              "      <td>Restaurants_Cuisines</td>\n",
              "      <td>False</td>\n",
              "      <td>False</td>\n",
              "      <td>False</td>\n",
              "      <td>False</td>\n",
              "      <td>False</td>\n",
              "      <td>True</td>\n",
              "      <td>False</td>\n",
              "    </tr>\n",
              "    <tr>\n",
              "      <th>2</th>\n",
              "      <td>BAP</td>\n",
              "      <td>1224 South St</td>\n",
              "      <td>Philadelphia</td>\n",
              "      <td>39.943223</td>\n",
              "      <td>-75.162568</td>\n",
              "      <td>4.5</td>\n",
              "      <td>205</td>\n",
              "      <td>NaN</td>\n",
              "      <td>NaN</td>\n",
              "      <td>True</td>\n",
              "      <td>1.0</td>\n",
              "      <td>True</td>\n",
              "      <td>Restaurants_Cuisines</td>\n",
              "      <td>True</td>\n",
              "      <td>False</td>\n",
              "      <td>False</td>\n",
              "      <td>NaN</td>\n",
              "      <td>False</td>\n",
              "      <td>False</td>\n",
              "      <td>True</td>\n",
              "    </tr>\n",
              "    <tr>\n",
              "      <th>3</th>\n",
              "      <td>Ardmore Pizza</td>\n",
              "      <td>10 Rittenhouse Pl</td>\n",
              "      <td>Ardmore</td>\n",
              "      <td>40.006707</td>\n",
              "      <td>-75.289671</td>\n",
              "      <td>3.5</td>\n",
              "      <td>109</td>\n",
              "      <td>True</td>\n",
              "      <td>False</td>\n",
              "      <td>True</td>\n",
              "      <td>1.0</td>\n",
              "      <td>True</td>\n",
              "      <td>Restaurants_Cuisines</td>\n",
              "      <td>True</td>\n",
              "      <td>False</td>\n",
              "      <td>False</td>\n",
              "      <td>False</td>\n",
              "      <td>False</td>\n",
              "      <td>False</td>\n",
              "      <td>True</td>\n",
              "    </tr>\n",
              "    <tr>\n",
              "      <th>4</th>\n",
              "      <td>Craft Hall</td>\n",
              "      <td>901 N Delaware Ave</td>\n",
              "      <td>Philadelphia</td>\n",
              "      <td>39.962582</td>\n",
              "      <td>-75.135657</td>\n",
              "      <td>3.5</td>\n",
              "      <td>65</td>\n",
              "      <td>True</td>\n",
              "      <td>True</td>\n",
              "      <td>True</td>\n",
              "      <td>2.0</td>\n",
              "      <td>True</td>\n",
              "      <td>Restaurants_Cuisines</td>\n",
              "      <td>True</td>\n",
              "      <td>False</td>\n",
              "      <td>False</td>\n",
              "      <td>False</td>\n",
              "      <td>False</td>\n",
              "      <td>True</td>\n",
              "      <td>False</td>\n",
              "    </tr>\n",
              "  </tbody>\n",
              "</table>\n",
              "</div>\n",
              "    <div class=\"colab-df-buttons\">\n",
              "\n",
              "  <div class=\"colab-df-container\">\n",
              "    <button class=\"colab-df-convert\" onclick=\"convertToInteractive('df-d2178aaa-147a-454b-b86a-210c5f14e07a')\"\n",
              "            title=\"Convert this dataframe to an interactive table.\"\n",
              "            style=\"display:none;\">\n",
              "\n",
              "  <svg xmlns=\"http://www.w3.org/2000/svg\" height=\"24px\" viewBox=\"0 -960 960 960\">\n",
              "    <path d=\"M120-120v-720h720v720H120Zm60-500h600v-160H180v160Zm220 220h160v-160H400v160Zm0 220h160v-160H400v160ZM180-400h160v-160H180v160Zm440 0h160v-160H620v160ZM180-180h160v-160H180v160Zm440 0h160v-160H620v160Z\"/>\n",
              "  </svg>\n",
              "    </button>\n",
              "\n",
              "  <style>\n",
              "    .colab-df-container {\n",
              "      display:flex;\n",
              "      gap: 12px;\n",
              "    }\n",
              "\n",
              "    .colab-df-convert {\n",
              "      background-color: #E8F0FE;\n",
              "      border: none;\n",
              "      border-radius: 50%;\n",
              "      cursor: pointer;\n",
              "      display: none;\n",
              "      fill: #1967D2;\n",
              "      height: 32px;\n",
              "      padding: 0 0 0 0;\n",
              "      width: 32px;\n",
              "    }\n",
              "\n",
              "    .colab-df-convert:hover {\n",
              "      background-color: #E2EBFA;\n",
              "      box-shadow: 0px 1px 2px rgba(60, 64, 67, 0.3), 0px 1px 3px 1px rgba(60, 64, 67, 0.15);\n",
              "      fill: #174EA6;\n",
              "    }\n",
              "\n",
              "    .colab-df-buttons div {\n",
              "      margin-bottom: 4px;\n",
              "    }\n",
              "\n",
              "    [theme=dark] .colab-df-convert {\n",
              "      background-color: #3B4455;\n",
              "      fill: #D2E3FC;\n",
              "    }\n",
              "\n",
              "    [theme=dark] .colab-df-convert:hover {\n",
              "      background-color: #434B5C;\n",
              "      box-shadow: 0px 1px 3px 1px rgba(0, 0, 0, 0.15);\n",
              "      filter: drop-shadow(0px 1px 2px rgba(0, 0, 0, 0.3));\n",
              "      fill: #FFFFFF;\n",
              "    }\n",
              "  </style>\n",
              "\n",
              "    <script>\n",
              "      const buttonEl =\n",
              "        document.querySelector('#df-d2178aaa-147a-454b-b86a-210c5f14e07a button.colab-df-convert');\n",
              "      buttonEl.style.display =\n",
              "        google.colab.kernel.accessAllowed ? 'block' : 'none';\n",
              "\n",
              "      async function convertToInteractive(key) {\n",
              "        const element = document.querySelector('#df-d2178aaa-147a-454b-b86a-210c5f14e07a');\n",
              "        const dataTable =\n",
              "          await google.colab.kernel.invokeFunction('convertToInteractive',\n",
              "                                                    [key], {});\n",
              "        if (!dataTable) return;\n",
              "\n",
              "        const docLinkHtml = 'Like what you see? Visit the ' +\n",
              "          '<a target=\"_blank\" href=https://colab.research.google.com/notebooks/data_table.ipynb>data table notebook</a>'\n",
              "          + ' to learn more about interactive tables.';\n",
              "        element.innerHTML = '';\n",
              "        dataTable['output_type'] = 'display_data';\n",
              "        await google.colab.output.renderOutput(dataTable, element);\n",
              "        const docLink = document.createElement('div');\n",
              "        docLink.innerHTML = docLinkHtml;\n",
              "        element.appendChild(docLink);\n",
              "      }\n",
              "    </script>\n",
              "  </div>\n",
              "\n",
              "\n",
              "<div id=\"df-b1a572ff-895e-46fb-aa09-1c24bf9bd9ab\">\n",
              "  <button class=\"colab-df-quickchart\" onclick=\"quickchart('df-b1a572ff-895e-46fb-aa09-1c24bf9bd9ab')\"\n",
              "            title=\"Suggest charts\"\n",
              "            style=\"display:none;\">\n",
              "\n",
              "<svg xmlns=\"http://www.w3.org/2000/svg\" height=\"24px\"viewBox=\"0 0 24 24\"\n",
              "     width=\"24px\">\n",
              "    <g>\n",
              "        <path d=\"M19 3H5c-1.1 0-2 .9-2 2v14c0 1.1.9 2 2 2h14c1.1 0 2-.9 2-2V5c0-1.1-.9-2-2-2zM9 17H7v-7h2v7zm4 0h-2V7h2v10zm4 0h-2v-4h2v4z\"/>\n",
              "    </g>\n",
              "</svg>\n",
              "  </button>\n",
              "\n",
              "<style>\n",
              "  .colab-df-quickchart {\n",
              "      --bg-color: #E8F0FE;\n",
              "      --fill-color: #1967D2;\n",
              "      --hover-bg-color: #E2EBFA;\n",
              "      --hover-fill-color: #174EA6;\n",
              "      --disabled-fill-color: #AAA;\n",
              "      --disabled-bg-color: #DDD;\n",
              "  }\n",
              "\n",
              "  [theme=dark] .colab-df-quickchart {\n",
              "      --bg-color: #3B4455;\n",
              "      --fill-color: #D2E3FC;\n",
              "      --hover-bg-color: #434B5C;\n",
              "      --hover-fill-color: #FFFFFF;\n",
              "      --disabled-bg-color: #3B4455;\n",
              "      --disabled-fill-color: #666;\n",
              "  }\n",
              "\n",
              "  .colab-df-quickchart {\n",
              "    background-color: var(--bg-color);\n",
              "    border: none;\n",
              "    border-radius: 50%;\n",
              "    cursor: pointer;\n",
              "    display: none;\n",
              "    fill: var(--fill-color);\n",
              "    height: 32px;\n",
              "    padding: 0;\n",
              "    width: 32px;\n",
              "  }\n",
              "\n",
              "  .colab-df-quickchart:hover {\n",
              "    background-color: var(--hover-bg-color);\n",
              "    box-shadow: 0 1px 2px rgba(60, 64, 67, 0.3), 0 1px 3px 1px rgba(60, 64, 67, 0.15);\n",
              "    fill: var(--button-hover-fill-color);\n",
              "  }\n",
              "\n",
              "  .colab-df-quickchart-complete:disabled,\n",
              "  .colab-df-quickchart-complete:disabled:hover {\n",
              "    background-color: var(--disabled-bg-color);\n",
              "    fill: var(--disabled-fill-color);\n",
              "    box-shadow: none;\n",
              "  }\n",
              "\n",
              "  .colab-df-spinner {\n",
              "    border: 2px solid var(--fill-color);\n",
              "    border-color: transparent;\n",
              "    border-bottom-color: var(--fill-color);\n",
              "    animation:\n",
              "      spin 1s steps(1) infinite;\n",
              "  }\n",
              "\n",
              "  @keyframes spin {\n",
              "    0% {\n",
              "      border-color: transparent;\n",
              "      border-bottom-color: var(--fill-color);\n",
              "      border-left-color: var(--fill-color);\n",
              "    }\n",
              "    20% {\n",
              "      border-color: transparent;\n",
              "      border-left-color: var(--fill-color);\n",
              "      border-top-color: var(--fill-color);\n",
              "    }\n",
              "    30% {\n",
              "      border-color: transparent;\n",
              "      border-left-color: var(--fill-color);\n",
              "      border-top-color: var(--fill-color);\n",
              "      border-right-color: var(--fill-color);\n",
              "    }\n",
              "    40% {\n",
              "      border-color: transparent;\n",
              "      border-right-color: var(--fill-color);\n",
              "      border-top-color: var(--fill-color);\n",
              "    }\n",
              "    60% {\n",
              "      border-color: transparent;\n",
              "      border-right-color: var(--fill-color);\n",
              "    }\n",
              "    80% {\n",
              "      border-color: transparent;\n",
              "      border-right-color: var(--fill-color);\n",
              "      border-bottom-color: var(--fill-color);\n",
              "    }\n",
              "    90% {\n",
              "      border-color: transparent;\n",
              "      border-bottom-color: var(--fill-color);\n",
              "    }\n",
              "  }\n",
              "</style>\n",
              "\n",
              "  <script>\n",
              "    async function quickchart(key) {\n",
              "      const quickchartButtonEl =\n",
              "        document.querySelector('#' + key + ' button');\n",
              "      quickchartButtonEl.disabled = true;  // To prevent multiple clicks.\n",
              "      quickchartButtonEl.classList.add('colab-df-spinner');\n",
              "      try {\n",
              "        const charts = await google.colab.kernel.invokeFunction(\n",
              "            'suggestCharts', [key], {});\n",
              "      } catch (error) {\n",
              "        console.error('Error during call to suggestCharts:', error);\n",
              "      }\n",
              "      quickchartButtonEl.classList.remove('colab-df-spinner');\n",
              "      quickchartButtonEl.classList.add('colab-df-quickchart-complete');\n",
              "    }\n",
              "    (() => {\n",
              "      let quickchartButtonEl =\n",
              "        document.querySelector('#df-b1a572ff-895e-46fb-aa09-1c24bf9bd9ab button');\n",
              "      quickchartButtonEl.style.display =\n",
              "        google.colab.kernel.accessAllowed ? 'block' : 'none';\n",
              "    })();\n",
              "  </script>\n",
              "</div>\n",
              "\n",
              "    </div>\n",
              "  </div>\n"
            ],
            "application/vnd.google.colaboratory.intrinsic+json": {
              "type": "dataframe",
              "variable_name": "df",
              "summary": "{\n  \"name\": \"df\",\n  \"rows\": 16700,\n  \"fields\": [\n    {\n      \"column\": \"name\",\n      \"properties\": {\n        \"dtype\": \"string\",\n        \"num_unique_values\": 14749,\n        \"samples\": [\n          \"Rome + Fig\",\n          \"Coliseum Pizza & Steak\",\n          \"Cr\\u00e8me Cafe\"\n        ],\n        \"semantic_type\": \"\",\n        \"description\": \"\"\n      }\n    },\n    {\n      \"column\": \"address\",\n      \"properties\": {\n        \"dtype\": \"string\",\n        \"num_unique_values\": 16068,\n        \"samples\": [\n          \"1533 Chestnut St\",\n          \"658 E Godfrey Ave\",\n          \"4434 Woodson Rd\"\n        ],\n        \"semantic_type\": \"\",\n        \"description\": \"\"\n      }\n    },\n    {\n      \"column\": \"city\",\n      \"properties\": {\n        \"dtype\": \"category\",\n        \"num_unique_values\": 573,\n        \"samples\": [\n          \"NORTH WALES\",\n          \"Palm Harbor\",\n          \"Largo\"\n        ],\n        \"semantic_type\": \"\",\n        \"description\": \"\"\n      }\n    },\n    {\n      \"column\": \"latitude\",\n      \"properties\": {\n        \"dtype\": \"number\",\n        \"std\": 5.4194065520545545,\n        \"min\": 27.5644572387,\n        \"max\": 53.6497432,\n        \"num_unique_values\": 16406,\n        \"samples\": [\n          39.478612,\n          28.4611948,\n          32.2210041\n        ],\n        \"semantic_type\": \"\",\n        \"description\": \"\"\n      }\n    },\n    {\n      \"column\": \"longitude\",\n      \"properties\": {\n        \"dtype\": \"number\",\n        \"std\": 14.855780095482986,\n        \"min\": -120.000083,\n        \"max\": -74.6998420364,\n        \"num_unique_values\": 16265,\n        \"samples\": [\n          -86.7976111,\n          -82.6428728,\n          -90.0636954916\n        ],\n        \"semantic_type\": \"\",\n        \"description\": \"\"\n      }\n    },\n    {\n      \"column\": \"stars\",\n      \"properties\": {\n        \"dtype\": \"number\",\n        \"std\": 0.4177228728706837,\n        \"min\": 3.5,\n        \"max\": 5.0,\n        \"num_unique_values\": 4,\n        \"samples\": [\n          4.5,\n          5.0,\n          4.0\n        ],\n        \"semantic_type\": \"\",\n        \"description\": \"\"\n      }\n    },\n    {\n      \"column\": \"review_count\",\n      \"properties\": {\n        \"dtype\": \"number\",\n        \"std\": 289,\n        \"min\": 51,\n        \"max\": 7568,\n        \"num_unique_values\": 1063,\n        \"samples\": [\n          119,\n          1395,\n          273\n        ],\n        \"semantic_type\": \"\",\n        \"description\": \"\"\n      }\n    },\n    {\n      \"column\": \"attributes_RestaurantsDelivery\",\n      \"properties\": {\n        \"dtype\": \"category\",\n        \"num_unique_values\": 2,\n        \"samples\": [\n          true,\n          false\n        ],\n        \"semantic_type\": \"\",\n        \"description\": \"\"\n      }\n    },\n    {\n      \"column\": \"attributes_OutdoorSeating\",\n      \"properties\": {\n        \"dtype\": \"category\",\n        \"num_unique_values\": 2,\n        \"samples\": [\n          true,\n          false\n        ],\n        \"semantic_type\": \"\",\n        \"description\": \"\"\n      }\n    },\n    {\n      \"column\": \"attributes_BusinessAcceptsCreditCards\",\n      \"properties\": {\n        \"dtype\": \"category\",\n        \"num_unique_values\": 2,\n        \"samples\": [\n          true,\n          false\n        ],\n        \"semantic_type\": \"\",\n        \"description\": \"\"\n      }\n    },\n    {\n      \"column\": \"attributes_RestaurantsPriceRange2\",\n      \"properties\": {\n        \"dtype\": \"number\",\n        \"std\": 0.5452927812468544,\n        \"min\": 1.0,\n        \"max\": 4.0,\n        \"num_unique_values\": 4,\n        \"samples\": [\n          2.0,\n          4.0\n        ],\n        \"semantic_type\": \"\",\n        \"description\": \"\"\n      }\n    },\n    {\n      \"column\": \"attributes_RestaurantsTakeOut\",\n      \"properties\": {\n        \"dtype\": \"category\",\n        \"num_unique_values\": 2,\n        \"samples\": [\n          false,\n          true\n        ],\n        \"semantic_type\": \"\",\n        \"description\": \"\"\n      }\n    },\n    {\n      \"column\": \"categories\",\n      \"properties\": {\n        \"dtype\": \"category\",\n        \"num_unique_values\": 111,\n        \"samples\": [\n          \"Beauty_Health_Care, Shops, Restaurants_Cuisines\",\n          \"Bars_Night, Cafes, Restaurants_Cuisines\"\n        ],\n        \"semantic_type\": \"\",\n        \"description\": \"\"\n      }\n    },\n    {\n      \"column\": \"attributes_GoodForKids\",\n      \"properties\": {\n        \"dtype\": \"category\",\n        \"num_unique_values\": 2,\n        \"samples\": [\n          true,\n          false\n        ],\n        \"semantic_type\": \"\",\n        \"description\": \"\"\n      }\n    },\n    {\n      \"column\": \"attributes_Ambience_touristy\",\n      \"properties\": {\n        \"dtype\": \"category\",\n        \"num_unique_values\": 2,\n        \"samples\": [\n          true,\n          false\n        ],\n        \"semantic_type\": \"\",\n        \"description\": \"\"\n      }\n    },\n    {\n      \"column\": \"attributes_Ambience_romantic\",\n      \"properties\": {\n        \"dtype\": \"category\",\n        \"num_unique_values\": 2,\n        \"samples\": [\n          true,\n          false\n        ],\n        \"semantic_type\": \"\",\n        \"description\": \"\"\n      }\n    },\n    {\n      \"column\": \"attributes_Ambience_intimate\",\n      \"properties\": {\n        \"dtype\": \"category\",\n        \"num_unique_values\": 2,\n        \"samples\": [\n          true,\n          false\n        ],\n        \"semantic_type\": \"\",\n        \"description\": \"\"\n      }\n    },\n    {\n      \"column\": \"attributes_Ambience_trendy\",\n      \"properties\": {\n        \"dtype\": \"category\",\n        \"num_unique_values\": 2,\n        \"samples\": [\n          true,\n          false\n        ],\n        \"semantic_type\": \"\",\n        \"description\": \"\"\n      }\n    },\n    {\n      \"column\": \"attributes_Ambience_classy\",\n      \"properties\": {\n        \"dtype\": \"category\",\n        \"num_unique_values\": 2,\n        \"samples\": [\n          false,\n          true\n        ],\n        \"semantic_type\": \"\",\n        \"description\": \"\"\n      }\n    },\n    {\n      \"column\": \"attributes_Ambience_casual\",\n      \"properties\": {\n        \"dtype\": \"category\",\n        \"num_unique_values\": 2,\n        \"samples\": [\n          true,\n          false\n        ],\n        \"semantic_type\": \"\",\n        \"description\": \"\"\n      }\n    }\n  ]\n}"
            }
          },
          "metadata": {},
          "execution_count": 8
        }
      ]
    },
    {
      "cell_type": "code",
      "source": [
        "df_array = df.iloc[:,3:]\n",
        "\n",
        "# print(df.isna().sum())"
      ],
      "metadata": {
        "id": "7LLMYvxaFmvN"
      },
      "execution_count": null,
      "outputs": []
    },
    {
      "cell_type": "code",
      "source": [
        "print(type(df_array))"
      ],
      "metadata": {
        "colab": {
          "base_uri": "https://localhost:8080/"
        },
        "id": "Z3JvIhXeM2Sg",
        "outputId": "5bb6c769-eb7f-46ac-b9b3-ca0a23ee114d"
      },
      "execution_count": null,
      "outputs": [
        {
          "output_type": "stream",
          "name": "stdout",
          "text": [
            "<class 'pandas.core.frame.DataFrame'>\n"
          ]
        }
      ]
    },
    {
      "cell_type": "code",
      "source": [
        "df_array"
      ],
      "metadata": {
        "colab": {
          "base_uri": "https://localhost:8080/",
          "height": 513
        },
        "id": "LpNs6LqYGz9k",
        "outputId": "84bf2fb1-787b-4d5a-b6d8-44390c085567"
      },
      "execution_count": null,
      "outputs": [
        {
          "output_type": "execute_result",
          "data": {
            "text/plain": [
              "        latitude   longitude  stars  review_count  \\\n",
              "0      39.955505  -75.155564    4.0            80   \n",
              "1      39.953949  -75.143226    4.0           245   \n",
              "2      39.943223  -75.162568    4.5           205   \n",
              "3      40.006707  -75.289671    3.5           109   \n",
              "4      39.962582  -75.135657    3.5            65   \n",
              "...          ...         ...    ...           ...   \n",
              "16695  27.804140  -82.638855    3.5           414   \n",
              "16696  40.134042  -75.514528    4.0           118   \n",
              "16697  32.221828 -110.967969    3.5           111   \n",
              "16698  38.641988  -90.261655    4.0            71   \n",
              "16699  43.616590 -116.202383    4.5           998   \n",
              "\n",
              "      attributes_RestaurantsDelivery attributes_OutdoorSeating  \\\n",
              "0                              False                     False   \n",
              "1                               True                      True   \n",
              "2                                NaN                       NaN   \n",
              "3                               True                     False   \n",
              "4                               True                      True   \n",
              "...                              ...                       ...   \n",
              "16695                          False                      True   \n",
              "16696                           True                     False   \n",
              "16697                          False                      True   \n",
              "16698                            NaN                       NaN   \n",
              "16699                            NaN                       NaN   \n",
              "\n",
              "      attributes_BusinessAcceptsCreditCards  \\\n",
              "0                                     False   \n",
              "1                                      True   \n",
              "2                                      True   \n",
              "3                                      True   \n",
              "4                                      True   \n",
              "...                                     ...   \n",
              "16695                                  True   \n",
              "16696                                  True   \n",
              "16697                                  True   \n",
              "16698                                  True   \n",
              "16699                                  True   \n",
              "\n",
              "       attributes_RestaurantsPriceRange2 attributes_RestaurantsTakeOut  \\\n",
              "0                                    1.0                          True   \n",
              "1                                    2.0                          True   \n",
              "2                                    1.0                          True   \n",
              "3                                    1.0                          True   \n",
              "4                                    2.0                          True   \n",
              "...                                  ...                           ...   \n",
              "16695                                1.0                          True   \n",
              "16696                                2.0                          True   \n",
              "16697                                2.0                         False   \n",
              "16698                                3.0                          True   \n",
              "16699                                2.0                           NaN   \n",
              "\n",
              "                             categories attributes_GoodForKids  \\\n",
              "0           Restaurants_Cuisines, Cafes                    NaN   \n",
              "1                  Restaurants_Cuisines                  False   \n",
              "2                  Restaurants_Cuisines                   True   \n",
              "3                  Restaurants_Cuisines                   True   \n",
              "4                  Restaurants_Cuisines                   True   \n",
              "...                                 ...                    ...   \n",
              "16695              Restaurants_Cuisines                   True   \n",
              "16696              Restaurants_Cuisines                   True   \n",
              "16697  Bars_Night, Restaurants_Cuisines                  False   \n",
              "16698         Beauty_Health_Care, Shops                   True   \n",
              "16699  Bars_Night, Restaurants_Cuisines                  False   \n",
              "\n",
              "      attributes_Ambience_touristy attributes_Ambience_romantic  \\\n",
              "0                              NaN                          NaN   \n",
              "1                            False                        False   \n",
              "2                            False                        False   \n",
              "3                            False                        False   \n",
              "4                            False                        False   \n",
              "...                            ...                          ...   \n",
              "16695                        False                        False   \n",
              "16696                        False                        False   \n",
              "16697                        False                        False   \n",
              "16698                          NaN                          NaN   \n",
              "16699                        False                        False   \n",
              "\n",
              "      attributes_Ambience_intimate attributes_Ambience_trendy  \\\n",
              "0                              NaN                        NaN   \n",
              "1                            False                      False   \n",
              "2                              NaN                      False   \n",
              "3                            False                      False   \n",
              "4                            False                      False   \n",
              "...                            ...                        ...   \n",
              "16695                        False                      False   \n",
              "16696                        False                      False   \n",
              "16697                        False                       True   \n",
              "16698                          NaN                        NaN   \n",
              "16699                        False                       True   \n",
              "\n",
              "      attributes_Ambience_classy attributes_Ambience_casual  \n",
              "0                            NaN                        NaN  \n",
              "1                           True                      False  \n",
              "2                          False                       True  \n",
              "3                          False                       True  \n",
              "4                           True                      False  \n",
              "...                          ...                        ...  \n",
              "16695                      False                       True  \n",
              "16696                       True                       True  \n",
              "16697                       True                       True  \n",
              "16698                        NaN                        NaN  \n",
              "16699                      False                       True  \n",
              "\n",
              "[16700 rows x 17 columns]"
            ],
            "text/html": [
              "\n",
              "  <div id=\"df-557a35be-cbad-402e-b9d5-13b922fd1d60\" class=\"colab-df-container\">\n",
              "    <div>\n",
              "<style scoped>\n",
              "    .dataframe tbody tr th:only-of-type {\n",
              "        vertical-align: middle;\n",
              "    }\n",
              "\n",
              "    .dataframe tbody tr th {\n",
              "        vertical-align: top;\n",
              "    }\n",
              "\n",
              "    .dataframe thead th {\n",
              "        text-align: right;\n",
              "    }\n",
              "</style>\n",
              "<table border=\"1\" class=\"dataframe\">\n",
              "  <thead>\n",
              "    <tr style=\"text-align: right;\">\n",
              "      <th></th>\n",
              "      <th>latitude</th>\n",
              "      <th>longitude</th>\n",
              "      <th>stars</th>\n",
              "      <th>review_count</th>\n",
              "      <th>attributes_RestaurantsDelivery</th>\n",
              "      <th>attributes_OutdoorSeating</th>\n",
              "      <th>attributes_BusinessAcceptsCreditCards</th>\n",
              "      <th>attributes_RestaurantsPriceRange2</th>\n",
              "      <th>attributes_RestaurantsTakeOut</th>\n",
              "      <th>categories</th>\n",
              "      <th>attributes_GoodForKids</th>\n",
              "      <th>attributes_Ambience_touristy</th>\n",
              "      <th>attributes_Ambience_romantic</th>\n",
              "      <th>attributes_Ambience_intimate</th>\n",
              "      <th>attributes_Ambience_trendy</th>\n",
              "      <th>attributes_Ambience_classy</th>\n",
              "      <th>attributes_Ambience_casual</th>\n",
              "    </tr>\n",
              "  </thead>\n",
              "  <tbody>\n",
              "    <tr>\n",
              "      <th>0</th>\n",
              "      <td>39.955505</td>\n",
              "      <td>-75.155564</td>\n",
              "      <td>4.0</td>\n",
              "      <td>80</td>\n",
              "      <td>False</td>\n",
              "      <td>False</td>\n",
              "      <td>False</td>\n",
              "      <td>1.0</td>\n",
              "      <td>True</td>\n",
              "      <td>Restaurants_Cuisines, Cafes</td>\n",
              "      <td>NaN</td>\n",
              "      <td>NaN</td>\n",
              "      <td>NaN</td>\n",
              "      <td>NaN</td>\n",
              "      <td>NaN</td>\n",
              "      <td>NaN</td>\n",
              "      <td>NaN</td>\n",
              "    </tr>\n",
              "    <tr>\n",
              "      <th>1</th>\n",
              "      <td>39.953949</td>\n",
              "      <td>-75.143226</td>\n",
              "      <td>4.0</td>\n",
              "      <td>245</td>\n",
              "      <td>True</td>\n",
              "      <td>True</td>\n",
              "      <td>True</td>\n",
              "      <td>2.0</td>\n",
              "      <td>True</td>\n",
              "      <td>Restaurants_Cuisines</td>\n",
              "      <td>False</td>\n",
              "      <td>False</td>\n",
              "      <td>False</td>\n",
              "      <td>False</td>\n",
              "      <td>False</td>\n",
              "      <td>True</td>\n",
              "      <td>False</td>\n",
              "    </tr>\n",
              "    <tr>\n",
              "      <th>2</th>\n",
              "      <td>39.943223</td>\n",
              "      <td>-75.162568</td>\n",
              "      <td>4.5</td>\n",
              "      <td>205</td>\n",
              "      <td>NaN</td>\n",
              "      <td>NaN</td>\n",
              "      <td>True</td>\n",
              "      <td>1.0</td>\n",
              "      <td>True</td>\n",
              "      <td>Restaurants_Cuisines</td>\n",
              "      <td>True</td>\n",
              "      <td>False</td>\n",
              "      <td>False</td>\n",
              "      <td>NaN</td>\n",
              "      <td>False</td>\n",
              "      <td>False</td>\n",
              "      <td>True</td>\n",
              "    </tr>\n",
              "    <tr>\n",
              "      <th>3</th>\n",
              "      <td>40.006707</td>\n",
              "      <td>-75.289671</td>\n",
              "      <td>3.5</td>\n",
              "      <td>109</td>\n",
              "      <td>True</td>\n",
              "      <td>False</td>\n",
              "      <td>True</td>\n",
              "      <td>1.0</td>\n",
              "      <td>True</td>\n",
              "      <td>Restaurants_Cuisines</td>\n",
              "      <td>True</td>\n",
              "      <td>False</td>\n",
              "      <td>False</td>\n",
              "      <td>False</td>\n",
              "      <td>False</td>\n",
              "      <td>False</td>\n",
              "      <td>True</td>\n",
              "    </tr>\n",
              "    <tr>\n",
              "      <th>4</th>\n",
              "      <td>39.962582</td>\n",
              "      <td>-75.135657</td>\n",
              "      <td>3.5</td>\n",
              "      <td>65</td>\n",
              "      <td>True</td>\n",
              "      <td>True</td>\n",
              "      <td>True</td>\n",
              "      <td>2.0</td>\n",
              "      <td>True</td>\n",
              "      <td>Restaurants_Cuisines</td>\n",
              "      <td>True</td>\n",
              "      <td>False</td>\n",
              "      <td>False</td>\n",
              "      <td>False</td>\n",
              "      <td>False</td>\n",
              "      <td>True</td>\n",
              "      <td>False</td>\n",
              "    </tr>\n",
              "    <tr>\n",
              "      <th>...</th>\n",
              "      <td>...</td>\n",
              "      <td>...</td>\n",
              "      <td>...</td>\n",
              "      <td>...</td>\n",
              "      <td>...</td>\n",
              "      <td>...</td>\n",
              "      <td>...</td>\n",
              "      <td>...</td>\n",
              "      <td>...</td>\n",
              "      <td>...</td>\n",
              "      <td>...</td>\n",
              "      <td>...</td>\n",
              "      <td>...</td>\n",
              "      <td>...</td>\n",
              "      <td>...</td>\n",
              "      <td>...</td>\n",
              "      <td>...</td>\n",
              "    </tr>\n",
              "    <tr>\n",
              "      <th>16695</th>\n",
              "      <td>27.804140</td>\n",
              "      <td>-82.638855</td>\n",
              "      <td>3.5</td>\n",
              "      <td>414</td>\n",
              "      <td>False</td>\n",
              "      <td>True</td>\n",
              "      <td>True</td>\n",
              "      <td>1.0</td>\n",
              "      <td>True</td>\n",
              "      <td>Restaurants_Cuisines</td>\n",
              "      <td>True</td>\n",
              "      <td>False</td>\n",
              "      <td>False</td>\n",
              "      <td>False</td>\n",
              "      <td>False</td>\n",
              "      <td>False</td>\n",
              "      <td>True</td>\n",
              "    </tr>\n",
              "    <tr>\n",
              "      <th>16696</th>\n",
              "      <td>40.134042</td>\n",
              "      <td>-75.514528</td>\n",
              "      <td>4.0</td>\n",
              "      <td>118</td>\n",
              "      <td>True</td>\n",
              "      <td>False</td>\n",
              "      <td>True</td>\n",
              "      <td>2.0</td>\n",
              "      <td>True</td>\n",
              "      <td>Restaurants_Cuisines</td>\n",
              "      <td>True</td>\n",
              "      <td>False</td>\n",
              "      <td>False</td>\n",
              "      <td>False</td>\n",
              "      <td>False</td>\n",
              "      <td>True</td>\n",
              "      <td>True</td>\n",
              "    </tr>\n",
              "    <tr>\n",
              "      <th>16697</th>\n",
              "      <td>32.221828</td>\n",
              "      <td>-110.967969</td>\n",
              "      <td>3.5</td>\n",
              "      <td>111</td>\n",
              "      <td>False</td>\n",
              "      <td>True</td>\n",
              "      <td>True</td>\n",
              "      <td>2.0</td>\n",
              "      <td>False</td>\n",
              "      <td>Bars_Night, Restaurants_Cuisines</td>\n",
              "      <td>False</td>\n",
              "      <td>False</td>\n",
              "      <td>False</td>\n",
              "      <td>False</td>\n",
              "      <td>True</td>\n",
              "      <td>True</td>\n",
              "      <td>True</td>\n",
              "    </tr>\n",
              "    <tr>\n",
              "      <th>16698</th>\n",
              "      <td>38.641988</td>\n",
              "      <td>-90.261655</td>\n",
              "      <td>4.0</td>\n",
              "      <td>71</td>\n",
              "      <td>NaN</td>\n",
              "      <td>NaN</td>\n",
              "      <td>True</td>\n",
              "      <td>3.0</td>\n",
              "      <td>True</td>\n",
              "      <td>Beauty_Health_Care, Shops</td>\n",
              "      <td>True</td>\n",
              "      <td>NaN</td>\n",
              "      <td>NaN</td>\n",
              "      <td>NaN</td>\n",
              "      <td>NaN</td>\n",
              "      <td>NaN</td>\n",
              "      <td>NaN</td>\n",
              "    </tr>\n",
              "    <tr>\n",
              "      <th>16699</th>\n",
              "      <td>43.616590</td>\n",
              "      <td>-116.202383</td>\n",
              "      <td>4.5</td>\n",
              "      <td>998</td>\n",
              "      <td>NaN</td>\n",
              "      <td>NaN</td>\n",
              "      <td>True</td>\n",
              "      <td>2.0</td>\n",
              "      <td>NaN</td>\n",
              "      <td>Bars_Night, Restaurants_Cuisines</td>\n",
              "      <td>False</td>\n",
              "      <td>False</td>\n",
              "      <td>False</td>\n",
              "      <td>False</td>\n",
              "      <td>True</td>\n",
              "      <td>False</td>\n",
              "      <td>True</td>\n",
              "    </tr>\n",
              "  </tbody>\n",
              "</table>\n",
              "<p>16700 rows × 17 columns</p>\n",
              "</div>\n",
              "    <div class=\"colab-df-buttons\">\n",
              "\n",
              "  <div class=\"colab-df-container\">\n",
              "    <button class=\"colab-df-convert\" onclick=\"convertToInteractive('df-557a35be-cbad-402e-b9d5-13b922fd1d60')\"\n",
              "            title=\"Convert this dataframe to an interactive table.\"\n",
              "            style=\"display:none;\">\n",
              "\n",
              "  <svg xmlns=\"http://www.w3.org/2000/svg\" height=\"24px\" viewBox=\"0 -960 960 960\">\n",
              "    <path d=\"M120-120v-720h720v720H120Zm60-500h600v-160H180v160Zm220 220h160v-160H400v160Zm0 220h160v-160H400v160ZM180-400h160v-160H180v160Zm440 0h160v-160H620v160ZM180-180h160v-160H180v160Zm440 0h160v-160H620v160Z\"/>\n",
              "  </svg>\n",
              "    </button>\n",
              "\n",
              "  <style>\n",
              "    .colab-df-container {\n",
              "      display:flex;\n",
              "      gap: 12px;\n",
              "    }\n",
              "\n",
              "    .colab-df-convert {\n",
              "      background-color: #E8F0FE;\n",
              "      border: none;\n",
              "      border-radius: 50%;\n",
              "      cursor: pointer;\n",
              "      display: none;\n",
              "      fill: #1967D2;\n",
              "      height: 32px;\n",
              "      padding: 0 0 0 0;\n",
              "      width: 32px;\n",
              "    }\n",
              "\n",
              "    .colab-df-convert:hover {\n",
              "      background-color: #E2EBFA;\n",
              "      box-shadow: 0px 1px 2px rgba(60, 64, 67, 0.3), 0px 1px 3px 1px rgba(60, 64, 67, 0.15);\n",
              "      fill: #174EA6;\n",
              "    }\n",
              "\n",
              "    .colab-df-buttons div {\n",
              "      margin-bottom: 4px;\n",
              "    }\n",
              "\n",
              "    [theme=dark] .colab-df-convert {\n",
              "      background-color: #3B4455;\n",
              "      fill: #D2E3FC;\n",
              "    }\n",
              "\n",
              "    [theme=dark] .colab-df-convert:hover {\n",
              "      background-color: #434B5C;\n",
              "      box-shadow: 0px 1px 3px 1px rgba(0, 0, 0, 0.15);\n",
              "      filter: drop-shadow(0px 1px 2px rgba(0, 0, 0, 0.3));\n",
              "      fill: #FFFFFF;\n",
              "    }\n",
              "  </style>\n",
              "\n",
              "    <script>\n",
              "      const buttonEl =\n",
              "        document.querySelector('#df-557a35be-cbad-402e-b9d5-13b922fd1d60 button.colab-df-convert');\n",
              "      buttonEl.style.display =\n",
              "        google.colab.kernel.accessAllowed ? 'block' : 'none';\n",
              "\n",
              "      async function convertToInteractive(key) {\n",
              "        const element = document.querySelector('#df-557a35be-cbad-402e-b9d5-13b922fd1d60');\n",
              "        const dataTable =\n",
              "          await google.colab.kernel.invokeFunction('convertToInteractive',\n",
              "                                                    [key], {});\n",
              "        if (!dataTable) return;\n",
              "\n",
              "        const docLinkHtml = 'Like what you see? Visit the ' +\n",
              "          '<a target=\"_blank\" href=https://colab.research.google.com/notebooks/data_table.ipynb>data table notebook</a>'\n",
              "          + ' to learn more about interactive tables.';\n",
              "        element.innerHTML = '';\n",
              "        dataTable['output_type'] = 'display_data';\n",
              "        await google.colab.output.renderOutput(dataTable, element);\n",
              "        const docLink = document.createElement('div');\n",
              "        docLink.innerHTML = docLinkHtml;\n",
              "        element.appendChild(docLink);\n",
              "      }\n",
              "    </script>\n",
              "  </div>\n",
              "\n",
              "\n",
              "<div id=\"df-b7656ee5-8a67-445d-beb0-f3272ee9ee20\">\n",
              "  <button class=\"colab-df-quickchart\" onclick=\"quickchart('df-b7656ee5-8a67-445d-beb0-f3272ee9ee20')\"\n",
              "            title=\"Suggest charts\"\n",
              "            style=\"display:none;\">\n",
              "\n",
              "<svg xmlns=\"http://www.w3.org/2000/svg\" height=\"24px\"viewBox=\"0 0 24 24\"\n",
              "     width=\"24px\">\n",
              "    <g>\n",
              "        <path d=\"M19 3H5c-1.1 0-2 .9-2 2v14c0 1.1.9 2 2 2h14c1.1 0 2-.9 2-2V5c0-1.1-.9-2-2-2zM9 17H7v-7h2v7zm4 0h-2V7h2v10zm4 0h-2v-4h2v4z\"/>\n",
              "    </g>\n",
              "</svg>\n",
              "  </button>\n",
              "\n",
              "<style>\n",
              "  .colab-df-quickchart {\n",
              "      --bg-color: #E8F0FE;\n",
              "      --fill-color: #1967D2;\n",
              "      --hover-bg-color: #E2EBFA;\n",
              "      --hover-fill-color: #174EA6;\n",
              "      --disabled-fill-color: #AAA;\n",
              "      --disabled-bg-color: #DDD;\n",
              "  }\n",
              "\n",
              "  [theme=dark] .colab-df-quickchart {\n",
              "      --bg-color: #3B4455;\n",
              "      --fill-color: #D2E3FC;\n",
              "      --hover-bg-color: #434B5C;\n",
              "      --hover-fill-color: #FFFFFF;\n",
              "      --disabled-bg-color: #3B4455;\n",
              "      --disabled-fill-color: #666;\n",
              "  }\n",
              "\n",
              "  .colab-df-quickchart {\n",
              "    background-color: var(--bg-color);\n",
              "    border: none;\n",
              "    border-radius: 50%;\n",
              "    cursor: pointer;\n",
              "    display: none;\n",
              "    fill: var(--fill-color);\n",
              "    height: 32px;\n",
              "    padding: 0;\n",
              "    width: 32px;\n",
              "  }\n",
              "\n",
              "  .colab-df-quickchart:hover {\n",
              "    background-color: var(--hover-bg-color);\n",
              "    box-shadow: 0 1px 2px rgba(60, 64, 67, 0.3), 0 1px 3px 1px rgba(60, 64, 67, 0.15);\n",
              "    fill: var(--button-hover-fill-color);\n",
              "  }\n",
              "\n",
              "  .colab-df-quickchart-complete:disabled,\n",
              "  .colab-df-quickchart-complete:disabled:hover {\n",
              "    background-color: var(--disabled-bg-color);\n",
              "    fill: var(--disabled-fill-color);\n",
              "    box-shadow: none;\n",
              "  }\n",
              "\n",
              "  .colab-df-spinner {\n",
              "    border: 2px solid var(--fill-color);\n",
              "    border-color: transparent;\n",
              "    border-bottom-color: var(--fill-color);\n",
              "    animation:\n",
              "      spin 1s steps(1) infinite;\n",
              "  }\n",
              "\n",
              "  @keyframes spin {\n",
              "    0% {\n",
              "      border-color: transparent;\n",
              "      border-bottom-color: var(--fill-color);\n",
              "      border-left-color: var(--fill-color);\n",
              "    }\n",
              "    20% {\n",
              "      border-color: transparent;\n",
              "      border-left-color: var(--fill-color);\n",
              "      border-top-color: var(--fill-color);\n",
              "    }\n",
              "    30% {\n",
              "      border-color: transparent;\n",
              "      border-left-color: var(--fill-color);\n",
              "      border-top-color: var(--fill-color);\n",
              "      border-right-color: var(--fill-color);\n",
              "    }\n",
              "    40% {\n",
              "      border-color: transparent;\n",
              "      border-right-color: var(--fill-color);\n",
              "      border-top-color: var(--fill-color);\n",
              "    }\n",
              "    60% {\n",
              "      border-color: transparent;\n",
              "      border-right-color: var(--fill-color);\n",
              "    }\n",
              "    80% {\n",
              "      border-color: transparent;\n",
              "      border-right-color: var(--fill-color);\n",
              "      border-bottom-color: var(--fill-color);\n",
              "    }\n",
              "    90% {\n",
              "      border-color: transparent;\n",
              "      border-bottom-color: var(--fill-color);\n",
              "    }\n",
              "  }\n",
              "</style>\n",
              "\n",
              "  <script>\n",
              "    async function quickchart(key) {\n",
              "      const quickchartButtonEl =\n",
              "        document.querySelector('#' + key + ' button');\n",
              "      quickchartButtonEl.disabled = true;  // To prevent multiple clicks.\n",
              "      quickchartButtonEl.classList.add('colab-df-spinner');\n",
              "      try {\n",
              "        const charts = await google.colab.kernel.invokeFunction(\n",
              "            'suggestCharts', [key], {});\n",
              "      } catch (error) {\n",
              "        console.error('Error during call to suggestCharts:', error);\n",
              "      }\n",
              "      quickchartButtonEl.classList.remove('colab-df-spinner');\n",
              "      quickchartButtonEl.classList.add('colab-df-quickchart-complete');\n",
              "    }\n",
              "    (() => {\n",
              "      let quickchartButtonEl =\n",
              "        document.querySelector('#df-b7656ee5-8a67-445d-beb0-f3272ee9ee20 button');\n",
              "      quickchartButtonEl.style.display =\n",
              "        google.colab.kernel.accessAllowed ? 'block' : 'none';\n",
              "    })();\n",
              "  </script>\n",
              "</div>\n",
              "\n",
              "  <div id=\"id_2501b4a5-c845-4485-b348-0e56d369e0ee\">\n",
              "    <style>\n",
              "      .colab-df-generate {\n",
              "        background-color: #E8F0FE;\n",
              "        border: none;\n",
              "        border-radius: 50%;\n",
              "        cursor: pointer;\n",
              "        display: none;\n",
              "        fill: #1967D2;\n",
              "        height: 32px;\n",
              "        padding: 0 0 0 0;\n",
              "        width: 32px;\n",
              "      }\n",
              "\n",
              "      .colab-df-generate:hover {\n",
              "        background-color: #E2EBFA;\n",
              "        box-shadow: 0px 1px 2px rgba(60, 64, 67, 0.3), 0px 1px 3px 1px rgba(60, 64, 67, 0.15);\n",
              "        fill: #174EA6;\n",
              "      }\n",
              "\n",
              "      [theme=dark] .colab-df-generate {\n",
              "        background-color: #3B4455;\n",
              "        fill: #D2E3FC;\n",
              "      }\n",
              "\n",
              "      [theme=dark] .colab-df-generate:hover {\n",
              "        background-color: #434B5C;\n",
              "        box-shadow: 0px 1px 3px 1px rgba(0, 0, 0, 0.15);\n",
              "        filter: drop-shadow(0px 1px 2px rgba(0, 0, 0, 0.3));\n",
              "        fill: #FFFFFF;\n",
              "      }\n",
              "    </style>\n",
              "    <button class=\"colab-df-generate\" onclick=\"generateWithVariable('df_array')\"\n",
              "            title=\"Generate code using this dataframe.\"\n",
              "            style=\"display:none;\">\n",
              "\n",
              "  <svg xmlns=\"http://www.w3.org/2000/svg\" height=\"24px\"viewBox=\"0 0 24 24\"\n",
              "       width=\"24px\">\n",
              "    <path d=\"M7,19H8.4L18.45,9,17,7.55,7,17.6ZM5,21V16.75L18.45,3.32a2,2,0,0,1,2.83,0l1.4,1.43a1.91,1.91,0,0,1,.58,1.4,1.91,1.91,0,0,1-.58,1.4L9.25,21ZM18.45,9,17,7.55Zm-12,3A5.31,5.31,0,0,0,4.9,8.1,5.31,5.31,0,0,0,1,6.5,5.31,5.31,0,0,0,4.9,4.9,5.31,5.31,0,0,0,6.5,1,5.31,5.31,0,0,0,8.1,4.9,5.31,5.31,0,0,0,12,6.5,5.46,5.46,0,0,0,6.5,12Z\"/>\n",
              "  </svg>\n",
              "    </button>\n",
              "    <script>\n",
              "      (() => {\n",
              "      const buttonEl =\n",
              "        document.querySelector('#id_2501b4a5-c845-4485-b348-0e56d369e0ee button.colab-df-generate');\n",
              "      buttonEl.style.display =\n",
              "        google.colab.kernel.accessAllowed ? 'block' : 'none';\n",
              "\n",
              "      buttonEl.onclick = () => {\n",
              "        google.colab.notebook.generateWithVariable('df_array');\n",
              "      }\n",
              "      })();\n",
              "    </script>\n",
              "  </div>\n",
              "\n",
              "    </div>\n",
              "  </div>\n"
            ],
            "application/vnd.google.colaboratory.intrinsic+json": {
              "type": "dataframe",
              "variable_name": "df_array",
              "summary": "{\n  \"name\": \"df_array\",\n  \"rows\": 16700,\n  \"fields\": [\n    {\n      \"column\": \"latitude\",\n      \"properties\": {\n        \"dtype\": \"number\",\n        \"std\": 5.4194065520545545,\n        \"min\": 27.5644572387,\n        \"max\": 53.6497432,\n        \"num_unique_values\": 16406,\n        \"samples\": [\n          39.478612,\n          28.4611948,\n          32.2210041\n        ],\n        \"semantic_type\": \"\",\n        \"description\": \"\"\n      }\n    },\n    {\n      \"column\": \"longitude\",\n      \"properties\": {\n        \"dtype\": \"number\",\n        \"std\": 14.855780095482986,\n        \"min\": -120.000083,\n        \"max\": -74.6998420364,\n        \"num_unique_values\": 16265,\n        \"samples\": [\n          -86.7976111,\n          -82.6428728,\n          -90.0636954916\n        ],\n        \"semantic_type\": \"\",\n        \"description\": \"\"\n      }\n    },\n    {\n      \"column\": \"stars\",\n      \"properties\": {\n        \"dtype\": \"number\",\n        \"std\": 0.4177228728706837,\n        \"min\": 3.5,\n        \"max\": 5.0,\n        \"num_unique_values\": 4,\n        \"samples\": [\n          4.5,\n          5.0,\n          4.0\n        ],\n        \"semantic_type\": \"\",\n        \"description\": \"\"\n      }\n    },\n    {\n      \"column\": \"review_count\",\n      \"properties\": {\n        \"dtype\": \"number\",\n        \"std\": 289,\n        \"min\": 51,\n        \"max\": 7568,\n        \"num_unique_values\": 1063,\n        \"samples\": [\n          119,\n          1395,\n          273\n        ],\n        \"semantic_type\": \"\",\n        \"description\": \"\"\n      }\n    },\n    {\n      \"column\": \"attributes_RestaurantsDelivery\",\n      \"properties\": {\n        \"dtype\": \"category\",\n        \"num_unique_values\": 2,\n        \"samples\": [\n          true,\n          false\n        ],\n        \"semantic_type\": \"\",\n        \"description\": \"\"\n      }\n    },\n    {\n      \"column\": \"attributes_OutdoorSeating\",\n      \"properties\": {\n        \"dtype\": \"category\",\n        \"num_unique_values\": 2,\n        \"samples\": [\n          true,\n          false\n        ],\n        \"semantic_type\": \"\",\n        \"description\": \"\"\n      }\n    },\n    {\n      \"column\": \"attributes_BusinessAcceptsCreditCards\",\n      \"properties\": {\n        \"dtype\": \"category\",\n        \"num_unique_values\": 2,\n        \"samples\": [\n          true,\n          false\n        ],\n        \"semantic_type\": \"\",\n        \"description\": \"\"\n      }\n    },\n    {\n      \"column\": \"attributes_RestaurantsPriceRange2\",\n      \"properties\": {\n        \"dtype\": \"number\",\n        \"std\": 0.5452927812468544,\n        \"min\": 1.0,\n        \"max\": 4.0,\n        \"num_unique_values\": 4,\n        \"samples\": [\n          2.0,\n          4.0\n        ],\n        \"semantic_type\": \"\",\n        \"description\": \"\"\n      }\n    },\n    {\n      \"column\": \"attributes_RestaurantsTakeOut\",\n      \"properties\": {\n        \"dtype\": \"category\",\n        \"num_unique_values\": 2,\n        \"samples\": [\n          false,\n          true\n        ],\n        \"semantic_type\": \"\",\n        \"description\": \"\"\n      }\n    },\n    {\n      \"column\": \"categories\",\n      \"properties\": {\n        \"dtype\": \"category\",\n        \"num_unique_values\": 111,\n        \"samples\": [\n          \"Beauty_Health_Care, Shops, Restaurants_Cuisines\",\n          \"Bars_Night, Cafes, Restaurants_Cuisines\"\n        ],\n        \"semantic_type\": \"\",\n        \"description\": \"\"\n      }\n    },\n    {\n      \"column\": \"attributes_GoodForKids\",\n      \"properties\": {\n        \"dtype\": \"category\",\n        \"num_unique_values\": 2,\n        \"samples\": [\n          true,\n          false\n        ],\n        \"semantic_type\": \"\",\n        \"description\": \"\"\n      }\n    },\n    {\n      \"column\": \"attributes_Ambience_touristy\",\n      \"properties\": {\n        \"dtype\": \"category\",\n        \"num_unique_values\": 2,\n        \"samples\": [\n          true,\n          false\n        ],\n        \"semantic_type\": \"\",\n        \"description\": \"\"\n      }\n    },\n    {\n      \"column\": \"attributes_Ambience_romantic\",\n      \"properties\": {\n        \"dtype\": \"category\",\n        \"num_unique_values\": 2,\n        \"samples\": [\n          true,\n          false\n        ],\n        \"semantic_type\": \"\",\n        \"description\": \"\"\n      }\n    },\n    {\n      \"column\": \"attributes_Ambience_intimate\",\n      \"properties\": {\n        \"dtype\": \"category\",\n        \"num_unique_values\": 2,\n        \"samples\": [\n          true,\n          false\n        ],\n        \"semantic_type\": \"\",\n        \"description\": \"\"\n      }\n    },\n    {\n      \"column\": \"attributes_Ambience_trendy\",\n      \"properties\": {\n        \"dtype\": \"category\",\n        \"num_unique_values\": 2,\n        \"samples\": [\n          true,\n          false\n        ],\n        \"semantic_type\": \"\",\n        \"description\": \"\"\n      }\n    },\n    {\n      \"column\": \"attributes_Ambience_classy\",\n      \"properties\": {\n        \"dtype\": \"category\",\n        \"num_unique_values\": 2,\n        \"samples\": [\n          false,\n          true\n        ],\n        \"semantic_type\": \"\",\n        \"description\": \"\"\n      }\n    },\n    {\n      \"column\": \"attributes_Ambience_casual\",\n      \"properties\": {\n        \"dtype\": \"category\",\n        \"num_unique_values\": 2,\n        \"samples\": [\n          true,\n          false\n        ],\n        \"semantic_type\": \"\",\n        \"description\": \"\"\n      }\n    }\n  ]\n}"
            }
          },
          "metadata": {},
          "execution_count": 11
        }
      ]
    },
    {
      "cell_type": "code",
      "source": [
        "df = df.values\n",
        "print(df)"
      ],
      "metadata": {
        "colab": {
          "base_uri": "https://localhost:8080/"
        },
        "id": "aurgmXK4DXRd",
        "outputId": "8af5ad3d-f65a-42c8-fd52-8557daa3752b"
      },
      "execution_count": null,
      "outputs": [
        {
          "output_type": "stream",
          "name": "stdout",
          "text": [
            "[['St Honore Pastries' '935 Race St' 'Philadelphia' ... nan nan nan]\n",
            " ['Tuna Bar' '205 Race St' 'Philadelphia' ... False True False]\n",
            " ['BAP' '1224 South St' 'Philadelphia' ... False False True]\n",
            " ...\n",
            " ['HighWire Lounge' '14 S Arizona Ave' 'Tucson' ... True True True]\n",
            " ['Whole Foods Market' '4577 W Pine Blvd' 'St. Louis' ... nan nan nan]\n",
            " ['Bittercreek Alehouse' '246 N 8th St' 'Boise' ... True False True]]\n"
          ]
        }
      ]
    },
    {
      "cell_type": "code",
      "source": [
        "name_address_city = df[:,:3]\n",
        "df = df[:,3:]"
      ],
      "metadata": {
        "id": "z2srb3ru2BYG"
      },
      "execution_count": null,
      "outputs": []
    },
    {
      "cell_type": "code",
      "source": [
        "print(name_address_city)"
      ],
      "metadata": {
        "colab": {
          "base_uri": "https://localhost:8080/"
        },
        "id": "rDFK3Cyr2f1E",
        "outputId": "96957aac-f2ee-4d2b-d939-4705256ef144"
      },
      "execution_count": null,
      "outputs": [
        {
          "output_type": "stream",
          "name": "stdout",
          "text": [
            "[['St Honore Pastries' '935 Race St' 'Philadelphia']\n",
            " ['Tuna Bar' '205 Race St' 'Philadelphia']\n",
            " ['BAP' '1224 South St' 'Philadelphia']\n",
            " ...\n",
            " ['HighWire Lounge' '14 S Arizona Ave' 'Tucson']\n",
            " ['Whole Foods Market' '4577 W Pine Blvd' 'St. Louis']\n",
            " ['Bittercreek Alehouse' '246 N 8th St' 'Boise']]\n"
          ]
        }
      ]
    },
    {
      "cell_type": "code",
      "source": [
        "from sklearn.impute import SimpleImputer\n",
        "imputer = SimpleImputer(missing_values=np.nan, strategy='most_frequent')\n",
        "imputer.fit(df)\n",
        "df = imputer.transform(df)"
      ],
      "metadata": {
        "id": "1L0Y-eF73IMJ"
      },
      "execution_count": null,
      "outputs": []
    },
    {
      "cell_type": "code",
      "source": [
        "from sklearn.preprocessing import LabelEncoder\n",
        "le = LabelEncoder()\n",
        "df[:,4] = le.fit_transform(df[:,4])\n",
        "#\n",
        "lst = [4, 5, 6, 8, 10, 11, 12, 13, 14, 15, 16]\n",
        "for x in lst:\n",
        "    df[:, x] = le.fit_transform(df[:, x])\n",
        "#df[:, [4, 5, 6, 8, 10, 11, 12, 13, 14, 15, 16]] = df[:, [4, 5, 6, 8, 10, 11, 12, 13, 14, 15, 16]].apply(le.fit_transform)"
      ],
      "metadata": {
        "id": "KsTp5kVT3Z2X"
      },
      "execution_count": null,
      "outputs": []
    },
    {
      "cell_type": "code",
      "source": [
        "df[0][:]"
      ],
      "metadata": {
        "colab": {
          "base_uri": "https://localhost:8080/"
        },
        "id": "b1MuJmDREuPr",
        "outputId": "77546723-6604-4287-8b72-4f65214f8ff7"
      },
      "execution_count": null,
      "outputs": [
        {
          "output_type": "execute_result",
          "data": {
            "text/plain": [
              "array([39.9555052, -75.1555641, 4.0, 80, 0, 0, 0, 1.0, 1,\n",
              "       'Restaurants_Cuisines, Cafes', 1, 0, 0, 0, 0, 0, 1], dtype=object)"
            ]
          },
          "metadata": {},
          "execution_count": 17
        }
      ]
    },
    {
      "cell_type": "code",
      "source": [
        "category = df[:,9]\n",
        "print(category)"
      ],
      "metadata": {
        "colab": {
          "base_uri": "https://localhost:8080/"
        },
        "id": "8g30xqc_99eQ",
        "outputId": "1a29a3b3-f336-4e16-f42d-07472281b346"
      },
      "execution_count": null,
      "outputs": [
        {
          "output_type": "stream",
          "name": "stdout",
          "text": [
            "['Restaurants_Cuisines, Cafes' 'Restaurants_Cuisines'\n",
            " 'Restaurants_Cuisines' ... 'Bars_Night, Restaurants_Cuisines'\n",
            " 'Beauty_Health_Care, Shops' 'Bars_Night, Restaurants_Cuisines']\n"
          ]
        }
      ]
    },
    {
      "cell_type": "code",
      "source": [
        "category[0][:]"
      ],
      "metadata": {
        "colab": {
          "base_uri": "https://localhost:8080/",
          "height": 36
        },
        "id": "f-DnYTRW-gw3",
        "outputId": "693c10da-2f63-49d3-d606-b2273b28b62b"
      },
      "execution_count": null,
      "outputs": [
        {
          "output_type": "execute_result",
          "data": {
            "text/plain": [
              "'Restaurants_Cuisines, Cafes'"
            ],
            "application/vnd.google.colaboratory.intrinsic+json": {
              "type": "string"
            }
          },
          "metadata": {},
          "execution_count": 19
        }
      ]
    },
    {
      "cell_type": "code",
      "source": [
        "dfcateg = df_array.iloc[:,9]"
      ],
      "metadata": {
        "id": "UxIPRZOfK8QA"
      },
      "execution_count": null,
      "outputs": []
    },
    {
      "cell_type": "code",
      "source": [
        "dfcateg = dfcateg.apply(lambda x: x.split(', '))"
      ],
      "metadata": {
        "id": "i6fFUq2FJuy7"
      },
      "execution_count": null,
      "outputs": []
    },
    {
      "cell_type": "code",
      "source": [
        "dfcateg = dfcateg.values"
      ],
      "metadata": {
        "id": "CCUaiuHkKXPO"
      },
      "execution_count": null,
      "outputs": []
    },
    {
      "cell_type": "code",
      "source": [
        "print(type(dfcateg))\n",
        "print(dfcateg.shape)"
      ],
      "metadata": {
        "colab": {
          "base_uri": "https://localhost:8080/"
        },
        "id": "3LquCWnbKeqh",
        "outputId": "42bdf512-e6c2-4b05-9eab-b370d3cadf7b"
      },
      "execution_count": null,
      "outputs": [
        {
          "output_type": "stream",
          "name": "stdout",
          "text": [
            "<class 'numpy.ndarray'>\n",
            "(16700,)\n"
          ]
        }
      ]
    },
    {
      "cell_type": "code",
      "source": [
        "from sklearn.preprocessing import MultiLabelBinarizer\n",
        "\n",
        "mlb = MultiLabelBinarizer()\n",
        "category_transformed = mlb.fit_transform(dfcateg)\n"
      ],
      "metadata": {
        "id": "z8gsPRHWy1sq"
      },
      "execution_count": null,
      "outputs": []
    },
    {
      "cell_type": "code",
      "source": [
        "print(mlb.classes_)"
      ],
      "metadata": {
        "colab": {
          "base_uri": "https://localhost:8080/"
        },
        "id": "S4PxYQtjI2Rr",
        "outputId": "f5f57500-c1e9-4625-a9f5-80bc4410269a"
      },
      "execution_count": null,
      "outputs": [
        {
          "output_type": "stream",
          "name": "stdout",
          "text": [
            "['Bars_Night' 'Beauty_Health_Care' 'Cafes' 'GYM' 'Restaurants_Cuisines'\n",
            " 'Shops']\n"
          ]
        }
      ]
    },
    {
      "cell_type": "code",
      "source": [
        "print(category_transformed[0])"
      ],
      "metadata": {
        "colab": {
          "base_uri": "https://localhost:8080/"
        },
        "id": "gBU0mBc3Ioi-",
        "outputId": "30ca62d9-c4a7-4504-e899-5857e95304b4"
      },
      "execution_count": null,
      "outputs": [
        {
          "output_type": "stream",
          "name": "stdout",
          "text": [
            "[0 0 1 0 1 0]\n"
          ]
        }
      ]
    },
    {
      "cell_type": "code",
      "source": [
        "type(df_array)"
      ],
      "metadata": {
        "colab": {
          "base_uri": "https://localhost:8080/",
          "height": 203
        },
        "id": "NS3rqdryM49_",
        "outputId": "940e1cf3-fcd4-401e-835a-aed76dc8a75e"
      },
      "execution_count": null,
      "outputs": [
        {
          "output_type": "execute_result",
          "data": {
            "text/plain": [
              "pandas.core.frame.DataFrame"
            ],
            "text/html": [
              "<div style=\"max-width:800px; border: 1px solid var(--colab-border-color);\"><style>\n",
              "      pre.function-repr-contents {\n",
              "        overflow-x: auto;\n",
              "        padding: 8px 12px;\n",
              "        max-height: 500px;\n",
              "      }\n",
              "\n",
              "      pre.function-repr-contents.function-repr-contents-collapsed {\n",
              "        cursor: pointer;\n",
              "        max-height: 100px;\n",
              "      }\n",
              "    </style>\n",
              "    <pre style=\"white-space: initial; background:\n",
              "         var(--colab-secondary-surface-color); padding: 8px 12px;\n",
              "         border-bottom: 1px solid var(--colab-border-color);\"><b>pandas.core.frame.DataFrame</b><br/>def __init__(data=None, index: Axes | None=None, columns: Axes | None=None, dtype: Dtype | None=None, copy: bool | None=None) -&gt; None</pre><pre class=\"function-repr-contents function-repr-contents-collapsed\" style=\"\"><a class=\"filepath\" style=\"display:none\" href=\"#\">/usr/local/lib/python3.10/dist-packages/pandas/core/frame.py</a>Two-dimensional, size-mutable, potentially heterogeneous tabular data.\n",
              "\n",
              "Data structure also contains labeled axes (rows and columns).\n",
              "Arithmetic operations align on both row and column labels. Can be\n",
              "thought of as a dict-like container for Series objects. The primary\n",
              "pandas data structure.\n",
              "\n",
              "Parameters\n",
              "----------\n",
              "data : ndarray (structured or homogeneous), Iterable, dict, or DataFrame\n",
              "    Dict can contain Series, arrays, constants, dataclass or list-like objects. If\n",
              "    data is a dict, column order follows insertion-order. If a dict contains Series\n",
              "    which have an index defined, it is aligned by its index. This alignment also\n",
              "    occurs if data is a Series or a DataFrame itself. Alignment is done on\n",
              "    Series/DataFrame inputs.\n",
              "\n",
              "    If data is a list of dicts, column order follows insertion-order.\n",
              "\n",
              "index : Index or array-like\n",
              "    Index to use for resulting frame. Will default to RangeIndex if\n",
              "    no indexing information part of input data and no index provided.\n",
              "columns : Index or array-like\n",
              "    Column labels to use for resulting frame when data does not have them,\n",
              "    defaulting to RangeIndex(0, 1, 2, ..., n). If data contains column labels,\n",
              "    will perform column selection instead.\n",
              "dtype : dtype, default None\n",
              "    Data type to force. Only a single dtype is allowed. If None, infer.\n",
              "copy : bool or None, default None\n",
              "    Copy data from inputs.\n",
              "    For dict data, the default of None behaves like ``copy=True``.  For DataFrame\n",
              "    or 2d ndarray input, the default of None behaves like ``copy=False``.\n",
              "    If data is a dict containing one or more Series (possibly of different dtypes),\n",
              "    ``copy=False`` will ensure that these inputs are not copied.\n",
              "\n",
              "    .. versionchanged:: 1.3.0\n",
              "\n",
              "See Also\n",
              "--------\n",
              "DataFrame.from_records : Constructor from tuples, also record arrays.\n",
              "DataFrame.from_dict : From dicts of Series, arrays, or dicts.\n",
              "read_csv : Read a comma-separated values (csv) file into DataFrame.\n",
              "read_table : Read general delimited file into DataFrame.\n",
              "read_clipboard : Read text from clipboard into DataFrame.\n",
              "\n",
              "Notes\n",
              "-----\n",
              "Please reference the :ref:`User Guide &lt;basics.dataframe&gt;` for more information.\n",
              "\n",
              "Examples\n",
              "--------\n",
              "Constructing DataFrame from a dictionary.\n",
              "\n",
              "&gt;&gt;&gt; d = {&#x27;col1&#x27;: [1, 2], &#x27;col2&#x27;: [3, 4]}\n",
              "&gt;&gt;&gt; df = pd.DataFrame(data=d)\n",
              "&gt;&gt;&gt; df\n",
              "   col1  col2\n",
              "0     1     3\n",
              "1     2     4\n",
              "\n",
              "Notice that the inferred dtype is int64.\n",
              "\n",
              "&gt;&gt;&gt; df.dtypes\n",
              "col1    int64\n",
              "col2    int64\n",
              "dtype: object\n",
              "\n",
              "To enforce a single dtype:\n",
              "\n",
              "&gt;&gt;&gt; df = pd.DataFrame(data=d, dtype=np.int8)\n",
              "&gt;&gt;&gt; df.dtypes\n",
              "col1    int8\n",
              "col2    int8\n",
              "dtype: object\n",
              "\n",
              "Constructing DataFrame from a dictionary including Series:\n",
              "\n",
              "&gt;&gt;&gt; d = {&#x27;col1&#x27;: [0, 1, 2, 3], &#x27;col2&#x27;: pd.Series([2, 3], index=[2, 3])}\n",
              "&gt;&gt;&gt; pd.DataFrame(data=d, index=[0, 1, 2, 3])\n",
              "   col1  col2\n",
              "0     0   NaN\n",
              "1     1   NaN\n",
              "2     2   2.0\n",
              "3     3   3.0\n",
              "\n",
              "Constructing DataFrame from numpy ndarray:\n",
              "\n",
              "&gt;&gt;&gt; df2 = pd.DataFrame(np.array([[1, 2, 3], [4, 5, 6], [7, 8, 9]]),\n",
              "...                    columns=[&#x27;a&#x27;, &#x27;b&#x27;, &#x27;c&#x27;])\n",
              "&gt;&gt;&gt; df2\n",
              "   a  b  c\n",
              "0  1  2  3\n",
              "1  4  5  6\n",
              "2  7  8  9\n",
              "\n",
              "Constructing DataFrame from a numpy ndarray that has labeled columns:\n",
              "\n",
              "&gt;&gt;&gt; data = np.array([(1, 2, 3), (4, 5, 6), (7, 8, 9)],\n",
              "...                 dtype=[(&quot;a&quot;, &quot;i4&quot;), (&quot;b&quot;, &quot;i4&quot;), (&quot;c&quot;, &quot;i4&quot;)])\n",
              "&gt;&gt;&gt; df3 = pd.DataFrame(data, columns=[&#x27;c&#x27;, &#x27;a&#x27;])\n",
              "...\n",
              "&gt;&gt;&gt; df3\n",
              "   c  a\n",
              "0  3  1\n",
              "1  6  4\n",
              "2  9  7\n",
              "\n",
              "Constructing DataFrame from dataclass:\n",
              "\n",
              "&gt;&gt;&gt; from dataclasses import make_dataclass\n",
              "&gt;&gt;&gt; Point = make_dataclass(&quot;Point&quot;, [(&quot;x&quot;, int), (&quot;y&quot;, int)])\n",
              "&gt;&gt;&gt; pd.DataFrame([Point(0, 0), Point(0, 3), Point(2, 3)])\n",
              "   x  y\n",
              "0  0  0\n",
              "1  0  3\n",
              "2  2  3\n",
              "\n",
              "Constructing DataFrame from Series/DataFrame:\n",
              "\n",
              "&gt;&gt;&gt; ser = pd.Series([1, 2, 3], index=[&quot;a&quot;, &quot;b&quot;, &quot;c&quot;])\n",
              "&gt;&gt;&gt; df = pd.DataFrame(data=ser, index=[&quot;a&quot;, &quot;c&quot;])\n",
              "&gt;&gt;&gt; df\n",
              "   0\n",
              "a  1\n",
              "c  3\n",
              "\n",
              "&gt;&gt;&gt; df1 = pd.DataFrame([1, 2, 3], index=[&quot;a&quot;, &quot;b&quot;, &quot;c&quot;], columns=[&quot;x&quot;])\n",
              "&gt;&gt;&gt; df2 = pd.DataFrame(data=df1, index=[&quot;a&quot;, &quot;c&quot;])\n",
              "&gt;&gt;&gt; df2\n",
              "   x\n",
              "a  1\n",
              "c  3</pre>\n",
              "      <script>\n",
              "      if (google.colab.kernel.accessAllowed && google.colab.files && google.colab.files.view) {\n",
              "        for (const element of document.querySelectorAll('.filepath')) {\n",
              "          element.style.display = 'block'\n",
              "          element.onclick = (event) => {\n",
              "            event.preventDefault();\n",
              "            event.stopPropagation();\n",
              "            google.colab.files.view(element.textContent, 509);\n",
              "          };\n",
              "        }\n",
              "      }\n",
              "      for (const element of document.querySelectorAll('.function-repr-contents')) {\n",
              "        element.onclick = (event) => {\n",
              "          event.preventDefault();\n",
              "          event.stopPropagation();\n",
              "          element.classList.toggle('function-repr-contents-collapsed');\n",
              "        };\n",
              "      }\n",
              "      </script>\n",
              "      </div>"
            ]
          },
          "metadata": {},
          "execution_count": 31
        }
      ]
    },
    {
      "cell_type": "code",
      "source": [
        "import pandas as pd\n",
        "category_df = pd.DataFrame(category_transformed, columns=mlb.classes_)\n",
        "category_df.index = df_array.index\n",
        "\n",
        "dfd = df_array.join(category_df)\n",
        "dfd = dfd.drop(columns=['categories'])\n",
        "print(dfd)\n"
      ],
      "metadata": {
        "colab": {
          "base_uri": "https://localhost:8080/"
        },
        "id": "kGilBK3vMVRg",
        "outputId": "c5c73f40-4461-4cdc-c1a5-6273d5617212"
      },
      "execution_count": null,
      "outputs": [
        {
          "output_type": "stream",
          "name": "stdout",
          "text": [
            "        latitude   longitude  stars  review_count  \\\n",
            "0      39.955505  -75.155564    4.0            80   \n",
            "1      39.953949  -75.143226    4.0           245   \n",
            "2      39.943223  -75.162568    4.5           205   \n",
            "3      40.006707  -75.289671    3.5           109   \n",
            "4      39.962582  -75.135657    3.5            65   \n",
            "...          ...         ...    ...           ...   \n",
            "16695  27.804140  -82.638855    3.5           414   \n",
            "16696  40.134042  -75.514528    4.0           118   \n",
            "16697  32.221828 -110.967969    3.5           111   \n",
            "16698  38.641988  -90.261655    4.0            71   \n",
            "16699  43.616590 -116.202383    4.5           998   \n",
            "\n",
            "      attributes_RestaurantsDelivery attributes_OutdoorSeating  \\\n",
            "0                              False                     False   \n",
            "1                               True                      True   \n",
            "2                                NaN                       NaN   \n",
            "3                               True                     False   \n",
            "4                               True                      True   \n",
            "...                              ...                       ...   \n",
            "16695                          False                      True   \n",
            "16696                           True                     False   \n",
            "16697                          False                      True   \n",
            "16698                            NaN                       NaN   \n",
            "16699                            NaN                       NaN   \n",
            "\n",
            "      attributes_BusinessAcceptsCreditCards  \\\n",
            "0                                     False   \n",
            "1                                      True   \n",
            "2                                      True   \n",
            "3                                      True   \n",
            "4                                      True   \n",
            "...                                     ...   \n",
            "16695                                  True   \n",
            "16696                                  True   \n",
            "16697                                  True   \n",
            "16698                                  True   \n",
            "16699                                  True   \n",
            "\n",
            "       attributes_RestaurantsPriceRange2 attributes_RestaurantsTakeOut  \\\n",
            "0                                    1.0                          True   \n",
            "1                                    2.0                          True   \n",
            "2                                    1.0                          True   \n",
            "3                                    1.0                          True   \n",
            "4                                    2.0                          True   \n",
            "...                                  ...                           ...   \n",
            "16695                                1.0                          True   \n",
            "16696                                2.0                          True   \n",
            "16697                                2.0                         False   \n",
            "16698                                3.0                          True   \n",
            "16699                                2.0                           NaN   \n",
            "\n",
            "      attributes_GoodForKids  ... attributes_Ambience_intimate  \\\n",
            "0                        NaN  ...                          NaN   \n",
            "1                      False  ...                        False   \n",
            "2                       True  ...                          NaN   \n",
            "3                       True  ...                        False   \n",
            "4                       True  ...                        False   \n",
            "...                      ...  ...                          ...   \n",
            "16695                   True  ...                        False   \n",
            "16696                   True  ...                        False   \n",
            "16697                  False  ...                        False   \n",
            "16698                   True  ...                          NaN   \n",
            "16699                  False  ...                        False   \n",
            "\n",
            "      attributes_Ambience_trendy attributes_Ambience_classy  \\\n",
            "0                            NaN                        NaN   \n",
            "1                          False                       True   \n",
            "2                          False                      False   \n",
            "3                          False                      False   \n",
            "4                          False                       True   \n",
            "...                          ...                        ...   \n",
            "16695                      False                      False   \n",
            "16696                      False                       True   \n",
            "16697                       True                       True   \n",
            "16698                        NaN                        NaN   \n",
            "16699                       True                      False   \n",
            "\n",
            "      attributes_Ambience_casual Bars_Night Beauty_Health_Care  Cafes  GYM  \\\n",
            "0                            NaN          0                  0      1    0   \n",
            "1                          False          0                  0      0    0   \n",
            "2                           True          0                  0      0    0   \n",
            "3                           True          0                  0      0    0   \n",
            "4                          False          0                  0      0    0   \n",
            "...                          ...        ...                ...    ...  ...   \n",
            "16695                       True          0                  0      0    0   \n",
            "16696                       True          0                  0      0    0   \n",
            "16697                       True          1                  0      0    0   \n",
            "16698                        NaN          0                  1      0    0   \n",
            "16699                       True          1                  0      0    0   \n",
            "\n",
            "       Restaurants_Cuisines  Shops  \n",
            "0                         1      0  \n",
            "1                         1      0  \n",
            "2                         1      0  \n",
            "3                         1      0  \n",
            "4                         1      0  \n",
            "...                     ...    ...  \n",
            "16695                     1      0  \n",
            "16696                     1      0  \n",
            "16697                     1      0  \n",
            "16698                     0      1  \n",
            "16699                     1      0  \n",
            "\n",
            "[16700 rows x 22 columns]\n"
          ]
        }
      ]
    },
    {
      "cell_type": "code",
      "source": [
        "category_df = pd.DataFrame(category_transformed, columns=mlb.classes_)\n",
        "df_array_df = pd.DataFrame(df)\n",
        "\n",
        "df_array_df = df_array_df.drop(columns=[9])\n",
        "df_array_df = pd.concat([df_array_df, category_df.reset_index(drop=True)], axis=1)\n",
        "updated_array = df_array_df.to_numpy()\n",
        "print(updated_array)\n"
      ],
      "metadata": {
        "colab": {
          "base_uri": "https://localhost:8080/"
        },
        "id": "06jeZVFwOCQX",
        "outputId": "4c9e0c25-8f85-4e09-9284-aa2a63cd5c92"
      },
      "execution_count": null,
      "outputs": [
        {
          "output_type": "stream",
          "name": "stdout",
          "text": [
            "[[39.9555052 -75.1555641 4.0 ... 0 1 0]\n",
            " [39.953949 -75.1432262 4.0 ... 0 1 0]\n",
            " [39.943223 -75.162568 4.5 ... 0 1 0]\n",
            " ...\n",
            " [32.2218278 -110.9679691 3.5 ... 0 1 0]\n",
            " [38.64198815 -90.26165498 4.0 ... 0 0 1]\n",
            " [43.6165895082 -116.2023831706 4.5 ... 0 1 0]]\n"
          ]
        }
      ]
    },
    {
      "cell_type": "code",
      "source": [
        "print(updated_array[0][:])"
      ],
      "metadata": {
        "colab": {
          "base_uri": "https://localhost:8080/"
        },
        "id": "8xVb-1eJONXm",
        "outputId": "f0ad3328-2cab-4dab-e4a9-44ad24ad4366"
      },
      "execution_count": null,
      "outputs": [
        {
          "output_type": "stream",
          "name": "stdout",
          "text": [
            "[39.9555052 -75.1555641 4.0 80 0 0 0 1.0 1 1 0 0 0 0 0 1 0 0 1 0 1 0]\n"
          ]
        }
      ]
    },
    {
      "cell_type": "code",
      "source": [
        "#array([39.9555052, -75.1555641, 4.0, 80, 0, 0, 0, 1.0, 1,\n",
        "#       'Restaurants_Cuisines, Cafes', 1, 0, 0, 0, 0, 0, 1], dtype=object)"
      ],
      "metadata": {
        "id": "JVq_P95WOd32"
      },
      "execution_count": null,
      "outputs": []
    },
    {
      "cell_type": "code",
      "source": [
        "#to be scaled : 0 1 3"
      ],
      "metadata": {
        "id": "ygcQfeJmOtUH"
      },
      "execution_count": null,
      "outputs": []
    },
    {
      "cell_type": "code",
      "source": [
        "from sklearn.preprocessing import StandardScaler\n",
        "sc = StandardScaler()\n",
        "updated_array[:, [0, 1, 3]] = sc.fit_transform(updated_array[:, [0, 1, 3]])"
      ],
      "metadata": {
        "id": "BXBWowzbP_w6"
      },
      "execution_count": null,
      "outputs": []
    },
    {
      "cell_type": "code",
      "source": [
        "print(updated_array[0][:])"
      ],
      "metadata": {
        "colab": {
          "base_uri": "https://localhost:8080/"
        },
        "id": "tNS3NXBIQEeG",
        "outputId": "f0a31b85-b831-4eb9-d369-cc4e6dc5bd45"
      },
      "execution_count": null,
      "outputs": [
        {
          "output_type": "stream",
          "name": "stdout",
          "text": [
            "[0.7066994607087881 0.9662662834110118 4.0 -0.4152793929083627 0 0 0 1.0 1\n",
            " 1 0 0 0 0 0 1 0 0 1 0 1 0]\n"
          ]
        }
      ]
    },
    {
      "cell_type": "code",
      "source": [
        "import matplotlib.pyplot as plt"
      ],
      "metadata": {
        "id": "8vNmo18Pebpa"
      },
      "execution_count": null,
      "outputs": []
    },
    {
      "cell_type": "code",
      "source": [
        "from sklearn.metrics import silhouette_score\n",
        "from sklearn.cluster import KMeans\n",
        "\n",
        "\n",
        "silhouette_scores = []\n",
        "range_of_clusters = range(2, 11)  # We need at least 2 clusters to calculate the silhouette score\n",
        "\n",
        "for k in range_of_clusters:\n",
        "    kmeans = KMeans(n_clusters=k, random_state=42)\n",
        "    kmeans_labels = kmeans.fit_predict(updated_array)\n",
        "    score = silhouette_score(updated_array, kmeans_labels)\n",
        "    silhouette_scores.append(score)\n",
        "\n",
        "# Plotting the Silhouette Score\n",
        "plt.plot(range_of_clusters, silhouette_scores, marker='o')\n",
        "plt.xlabel('Number of Clusters')\n",
        "plt.ylabel('Silhouette Score')\n",
        "plt.title('Silhouette Score vs Number of Clusters')\n",
        "plt.show()"
      ],
      "metadata": {
        "colab": {
          "base_uri": "https://localhost:8080/",
          "height": 472
        },
        "id": "rte1HEvbTIaC",
        "outputId": "487133a0-267e-4dc7-c987-17fb018088ab"
      },
      "execution_count": null,
      "outputs": [
        {
          "output_type": "display_data",
          "data": {
            "text/plain": [
              "<Figure size 640x480 with 1 Axes>"
            ],
            "image/png": "[encoded data removed]"
          },
          "metadata": {}
        }
      ]
    },
    {
      "cell_type": "code",
      "source": [
        "def getpercentage(score):\n",
        "    accuracy_percentage = (score + 1) / 2 * 100\n",
        "    return accuracy_percentage"
      ],
      "metadata": {
        "id": "jf5h2XrAT46D"
      },
      "execution_count": null,
      "outputs": []
    },
    {
      "cell_type": "code",
      "source": [
        "getpercentage(0.24)"
      ],
      "metadata": {
        "colab": {
          "base_uri": "https://localhost:8080/"
        },
        "id": "i-FcSY7vUAp0",
        "outputId": "b1267afd-e963-49c6-bd77-6eb1c52e0718"
      },
      "execution_count": null,
      "outputs": [
        {
          "output_type": "execute_result",
          "data": {
            "text/plain": [
              "62.0"
            ]
          },
          "metadata": {},
          "execution_count": 60
        }
      ]
    },
    {
      "cell_type": "code",
      "source": [
        "from sklearn.cluster import AgglomerativeClustering\n",
        "\n",
        "silhouette_scores_agglomerative = []\n",
        "range_of_clusters = range(2, 11)\n",
        "\n",
        "for k in range_of_clusters:\n",
        "    agglomerative = AgglomerativeClustering(n_clusters=k)\n",
        "    agglomerative_labels = agglomerative.fit_predict(updated_array)\n",
        "    score = silhouette_score(updated_array, agglomerative_labels)\n",
        "    silhouette_scores_agglomerative.append(score)\n",
        "\n",
        "plt.plot(range_of_clusters, silhouette_scores_agglomerative, marker='o')\n",
        "plt.xlabel('Number of Clusters')\n",
        "plt.ylabel('Silhouette Score')\n",
        "plt.title('Agglomerative Clustering Silhouette Score vs Number of Clusters')\n",
        "plt.show()\n"
      ],
      "metadata": {
        "colab": {
          "base_uri": "https://localhost:8080/",
          "height": 472
        },
        "id": "OmVwvfyMUM-y",
        "outputId": "c666a358-fab0-489f-c481-9c9aeda89a27"
      },
      "execution_count": null,
      "outputs": [
        {
          "output_type": "display_data",
          "data": {
            "text/plain": [
              "<Figure size 640x480 with 1 Axes>"
            ],
            "image/png": "[encoded data removed]"
          },
          "metadata": {}
        }
      ]
    },
    {
      "cell_type": "code",
      "source": [
        "getpercentage(0.26)"
      ],
      "metadata": {
        "colab": {
          "base_uri": "https://localhost:8080/"
        },
        "id": "c8BwqEf7V-TJ",
        "outputId": "899fbe6f-58d2-4ab0-91ac-cb57004c5caa"
      },
      "execution_count": null,
      "outputs": [
        {
          "output_type": "execute_result",
          "data": {
            "text/plain": [
              "63.0"
            ]
          },
          "metadata": {},
          "execution_count": 63
        }
      ]
    },
    {
      "cell_type": "code",
      "source": [
        "dbscan = DBSCAN(eps=0.8, min_samples=2)\n",
        "dbscan_labels = dbscan.fit_predict(updated_array)\n",
        "print(dbscan_labels)\n",
        "if len(set(dbscan_labels)) > 1 :\n",
        "    score = silhouette_score(updated_array, dbscan_labels)\n",
        "    print(score)\n",
        "\n",
        "plt.plot(0.8, score, marker='o')\n",
        "plt.xlabel('Epsilon (eps)')\n",
        "plt.ylabel('Silhouette Score')\n",
        "plt.title('DBSCAN Silhouette Score vs Epsilon')\n",
        "plt.show()\n"
      ],
      "metadata": {
        "colab": {
          "base_uri": "https://localhost:8080/",
          "height": 507
        },
        "id": "k3qPnNtEYE3P",
        "outputId": "46d65624-bfb4-4379-c969-5f9cfd7881ff"
      },
      "execution_count": null,
      "outputs": [
        {
          "output_type": "stream",
          "name": "stdout",
          "text": [
            "[  0   1   2 ...  -1 315  -1]\n",
            "0.1582404188705536\n"
          ]
        },
        {
          "output_type": "display_data",
          "data": {
            "text/plain": [
              "<Figure size 640x480 with 1 Axes>"
            ],
            "image/png": "[encoded data removed]"
          },
          "metadata": {}
        }
      ]
    },
    {
      "cell_type": "code",
      "source": [
        "from sklearn.cluster import DBSCAN\n",
        "#DBSCAN\n",
        "silhouette_scores_dbscan = []\n",
        "eps_range = [0.1, 0.2, 0.3, 0.4, 0.5]\n",
        "\n",
        "for eps in eps_range:\n",
        "    dbscan = DBSCAN(eps=eps, min_samples=5)\n",
        "    dbscan_labels = dbscan.fit_predict(updated_array)\n",
        "\n",
        "    # DBSCAN might label points as -1 (noise), so we only calculate silhouette score for labeled points\n",
        "    if len(set(dbscan_labels)) > 1:\n",
        "        score = silhouette_score(updated_array, dbscan_labels)\n",
        "        silhouette_scores_dbscan.append(score)\n",
        "    else:\n",
        "        silhouette_scores_dbscan.append(-1)  # In case DBSCAN has no clusters or all points are noise\n",
        "\n",
        "plt.plot(eps_range, silhouette_scores_dbscan, marker='o')\n",
        "plt.xlabel('Epsilon (eps)')\n",
        "plt.ylabel('Silhouette Score')\n",
        "plt.title('DBSCAN Silhouette Score vs Epsilon')\n",
        "plt.show()\n"
      ],
      "metadata": {
        "colab": {
          "base_uri": "https://localhost:8080/",
          "height": 472
        },
        "id": "APDUA-jjUV_E",
        "outputId": "439f1918-18de-422a-bbb7-f492ed437f19"
      },
      "execution_count": null,
      "outputs": [
        {
          "output_type": "display_data",
          "data": {
            "text/plain": [
              "<Figure size 640x480 with 1 Axes>"
            ],
            "image/png": "[encoded data removed]"
          },
          "metadata": {}
        }
      ]
    },
    {
      "cell_type": "code",
      "source": [
        "eps_range = [0.1, 0.2, 0.3, 0.4, 0.5]\n",
        "\n",
        "# Create a plot\n",
        "fig, axes = plt.subplots(1, len(eps_range), figsize=(15, 5))\n",
        "\n",
        "for i, eps in enumerate(eps_range):\n",
        "    dbscan = DBSCAN(eps=eps, min_samples=5)\n",
        "    dbscan_labels = dbscan.fit_predict(updated_array)\n",
        "\n",
        "    # Plotting\n",
        "    axes[i].scatter(updated_array[:, 0], updated_array[:, 1], c=dbscan_labels, cmap='viridis')\n",
        "    axes[i].set_title(f\"DBSCAN eps={eps}\")\n",
        "    axes[i].set_xlabel('Feature 1')\n",
        "    axes[i].set_ylabel('Feature 2')\n",
        "\n",
        "plt.tight_layout()\n",
        "plt.show()"
      ],
      "metadata": {
        "colab": {
          "base_uri": "https://localhost:8080/",
          "height": 383
        },
        "id": "wUL4e9fSWliz",
        "outputId": "2f7cda55-5de2-415c-d52c-61e2f523798c"
      },
      "execution_count": null,
      "outputs": [
        {
          "output_type": "display_data",
          "data": {
            "text/plain": [
              "<Figure size 1500x500 with 5 Axes>"
            ],
            "image/png": "[encoded data removed]"
          },
          "metadata": {}
        }
      ]
    },
    {
      "cell_type": "code",
      "source": [
        "from sklearn.cluster import MeanShift\n",
        "\n",
        "# MeanShift doesn't require a number of clusters, so we can experiment with bandwidth values\n",
        "silhouette_scores_meanshift = []\n",
        "bandwidth_range = [0.1, 0.2, 0.3, 0.4, 0.5]  # Varying bandwidth values\n",
        "\n",
        "for bandwidth in bandwidth_range:\n",
        "    meanshift = MeanShift(bandwidth=bandwidth)\n",
        "    meanshift_labels = meanshift.fit_predict(updated_array)\n",
        "\n",
        "    # Only calculate silhouette score if there are more than 1 cluster\n",
        "    if len(set(meanshift_labels)) > 1:\n",
        "        score = silhouette_score(updated_array, meanshift_labels)\n",
        "        silhouette_scores_meanshift.append(score)\n",
        "    else:\n",
        "        silhouette_scores_meanshift.append(-1)  # If only 1 cluster, silhouette score is not meaningful\n",
        "\n",
        "# Plotting the Silhouette Score for MeanShift\n",
        "plt.plot(bandwidth_range, silhouette_scores_meanshift, marker='o')\n",
        "plt.xlabel('Bandwidth')\n",
        "plt.ylabel('Silhouette Score')\n",
        "plt.title('MeanShift Silhouette Score vs Bandwidth')\n",
        "plt.show()\n"
      ],
      "metadata": {
        "colab": {
          "base_uri": "https://localhost:8080/",
          "height": 472
        },
        "id": "f-uoKhRPUXKC",
        "outputId": "bdca1770-5f7a-483e-bcd6-2d95fd56dda6"
      },
      "execution_count": null,
      "outputs": [
        {
          "output_type": "display_data",
          "data": {
            "text/plain": [
              "<Figure size 640x480 with 1 Axes>"
            ],
            "image/png": "[encoded data removed]"
          },
          "metadata": {}
        }
      ]
    },
    {
      "cell_type": "code",
      "source": [
        "getpercentage(0.45)"
      ],
      "metadata": {
        "colab": {
          "base_uri": "https://localhost:8080/"
        },
        "id": "CxbD02YMXvep",
        "outputId": "2becaa34-6d5b-4913-fc26-dbbad8d25328"
      },
      "execution_count": null,
      "outputs": [
        {
          "output_type": "execute_result",
          "data": {
            "text/plain": [
              "72.5"
            ]
          },
          "metadata": {},
          "execution_count": 67
        }
      ]
    },
    {
      "cell_type": "code",
      "source": [
        "silhouette_scores_gmm = []\n",
        "n_components_range = range(2, 11)  # We need at least 2 clusters to calculate the silhouette score\n",
        "from sklearn.mixture import GaussianMixture\n",
        "\n",
        "for n_components in n_components_range:\n",
        "    gmm = GaussianMixture(n_components=n_components, random_state=42)\n",
        "    gmm_labels = gmm.fit_predict(updated_array)\n",
        "\n",
        "    # Calculate Silhouette Score\n",
        "    score = silhouette_score(updated_array, gmm_labels)\n",
        "    silhouette_scores_gmm.append(score)\n",
        "\n",
        "# Plotting the Silhouette Score for GMM\n",
        "plt.plot(n_components_range, silhouette_scores_gmm, marker='o')\n",
        "plt.xlabel('Number of Components (Clusters)')\n",
        "plt.ylabel('Silhouette Score')\n",
        "plt.title('GMM Silhouette Score vs Number of Components')\n",
        "plt.show()"
      ],
      "metadata": {
        "colab": {
          "base_uri": "https://localhost:8080/",
          "height": 472
        },
        "id": "5oVgr3nnaNNI",
        "outputId": "08ae433a-7d29-486f-be6e-0d81c24ef6b2"
      },
      "execution_count": null,
      "outputs": [
        {
          "output_type": "display_data",
          "data": {
            "text/plain": [
              "<Figure size 640x480 with 1 Axes>"
            ],
            "image/png": "[encoded data removed]"
          },
          "metadata": {}
        }
      ]
    },
    {
      "cell_type": "code",
      "source": [
        "from sklearn.cluster import AgglomerativeClustering\n",
        "from sklearn.metrics import silhouette_score\n",
        "import matplotlib.pyplot as plt\n",
        "\n",
        "# Hierarchical Clustering (Agglomerative)\n",
        "silhouette_scores_agg = []\n",
        "range_of_clusters = range(2, 11)\n",
        "\n",
        "for k in range_of_clusters:\n",
        "    agg = AgglomerativeClustering(n_clusters=k)\n",
        "    agg_labels = agg.fit_predict(updated_array)\n",
        "    score = silhouette_score(updated_array, agg_labels)\n",
        "    silhouette_scores_agg.append(score)\n",
        "\n",
        "# Plotting the Silhouette Score for Agglomerative Clustering\n",
        "plt.plot(range_of_clusters, silhouette_scores_agg, marker='o')\n",
        "plt.xlabel('Number of Clusters')\n",
        "plt.ylabel('Silhouette Score')\n",
        "plt.title('Agglomerative Clustering Silhouette Score vs Number of Clusters')\n",
        "plt.show()\n"
      ],
      "metadata": {
        "colab": {
          "base_uri": "https://localhost:8080/",
          "height": 472
        },
        "id": "DGz7lp3jbC7-",
        "outputId": "04d1510f-78e6-4334-f663-d190cfdf1ee3"
      },
      "execution_count": null,
      "outputs": [
        {
          "output_type": "display_data",
          "data": {
            "text/plain": [
              "<Figure size 640x480 with 1 Axes>"
            ],
            "image/png": "[encoded data removed]"
          },
          "metadata": {}
        }
      ]
    },
    {
      "cell_type": "code",
      "source": [
        "from sklearn.cluster import SpectralClustering\n",
        "from sklearn.metrics import silhouette_score\n",
        "import matplotlib.pyplot as plt\n",
        "\n",
        "# Spectral Clustering\n",
        "silhouette_scores_spectral = []\n",
        "range_of_clusters = range(2, 11)\n",
        "\n",
        "for k in range_of_clusters:\n",
        "    spectral = SpectralClustering(n_clusters=k, affinity='nearest_neighbors', random_state=42)\n",
        "    spectral_labels = spectral.fit_predict(updated_array)\n",
        "    score = silhouette_score(updated_array, spectral_labels)\n",
        "    silhouette_scores_spectral.append(score)\n",
        "\n",
        "# Plotting the Silhouette Score for Spectral Clustering\n",
        "plt.plot(range_of_clusters, silhouette_scores_spectral, marker='o')\n",
        "plt.xlabel('Number of Clusters')\n",
        "plt.ylabel('Silhouette Score')\n",
        "plt.title('Spectral Clustering Silhouette Score vs Number of Clusters')\n",
        "plt.show()\n"
      ],
      "metadata": {
        "colab": {
          "base_uri": "https://localhost:8080/",
          "height": 804
        },
        "id": "8cIE3AL4bHa8",
        "outputId": "3b26bcf5-d0a2-4c0b-cce9-0bf2d75449e3"
      },
      "execution_count": null,
      "outputs": [
        {
          "output_type": "stream",
          "name": "stderr",
          "text": [
            "/usr/local/lib/python3.10/dist-packages/sklearn/manifold/_spectral_embedding.py:329: UserWarning: Graph is not fully connected, spectral embedding may not work as expected.\n",
            "  warnings.warn(\n",
            "/usr/local/lib/python3.10/dist-packages/sklearn/manifold/_spectral_embedding.py:329: UserWarning: Graph is not fully connected, spectral embedding may not work as expected.\n",
            "  warnings.warn(\n",
            "/usr/local/lib/python3.10/dist-packages/sklearn/manifold/_spectral_embedding.py:329: UserWarning: Graph is not fully connected, spectral embedding may not work as expected.\n",
            "  warnings.warn(\n",
            "/usr/local/lib/python3.10/dist-packages/sklearn/manifold/_spectral_embedding.py:329: UserWarning: Graph is not fully connected, spectral embedding may not work as expected.\n",
            "  warnings.warn(\n",
            "/usr/local/lib/python3.10/dist-packages/sklearn/manifold/_spectral_embedding.py:329: UserWarning: Graph is not fully connected, spectral embedding may not work as expected.\n",
            "  warnings.warn(\n",
            "/usr/local/lib/python3.10/dist-packages/sklearn/manifold/_spectral_embedding.py:329: UserWarning: Graph is not fully connected, spectral embedding may not work as expected.\n",
            "  warnings.warn(\n",
            "/usr/local/lib/python3.10/dist-packages/sklearn/manifold/_spectral_embedding.py:329: UserWarning: Graph is not fully connected, spectral embedding may not work as expected.\n",
            "  warnings.warn(\n",
            "/usr/local/lib/python3.10/dist-packages/sklearn/manifold/_spectral_embedding.py:329: UserWarning: Graph is not fully connected, spectral embedding may not work as expected.\n",
            "  warnings.warn(\n",
            "/usr/local/lib/python3.10/dist-packages/sklearn/manifold/_spectral_embedding.py:329: UserWarning: Graph is not fully connected, spectral embedding may not work as expected.\n",
            "  warnings.warn(\n"
          ]
        },
        {
          "output_type": "display_data",
          "data": {
            "text/plain": [
              "<Figure size 640x480 with 1 Axes>"
            ],
            "image/png": "[encoded data removed]"
          },
          "metadata": {}
        }
      ]
    },
    {
      "cell_type": "code",
      "source": [
        "pip install scikit-learn-extra"
      ],
      "metadata": {
        "colab": {
          "base_uri": "https://localhost:8080/"
        },
        "id": "bCpNuQmFd_wb",
        "outputId": "9d15bab7-428d-4c63-95c0-e76060117f79"
      },
      "execution_count": null,
      "outputs": [
        {
          "output_type": "stream",
          "name": "stdout",
          "text": [
            "Collecting scikit-learn-extra\n",
            "  Downloading scikit_learn_extra-0.3.0-cp310-cp310-manylinux_2_17_x86_64.manylinux2014_x86_64.whl.metadata (3.6 kB)\n",
            "Requirement already satisfied: numpy>=1.13.3 in /usr/local/lib/python3.10/dist-packages (from scikit-learn-extra) (1.26.4)\n",
            "Requirement already satisfied: scipy>=0.19.1 in /usr/local/lib/python3.10/dist-packages (from scikit-learn-extra) (1.13.1)\n",
            "Requirement already satisfied: scikit-learn>=0.23.0 in /usr/local/lib/python3.10/dist-packages (from scikit-learn-extra) (1.6.0)\n",
            "Requirement already satisfied: joblib>=1.2.0 in /usr/local/lib/python3.10/dist-packages (from scikit-learn>=0.23.0->scikit-learn-extra) (1.4.2)\n",
            "Requirement already satisfied: threadpoolctl>=3.1.0 in /usr/local/lib/python3.10/dist-packages (from scikit-learn>=0.23.0->scikit-learn-extra) (3.5.0)\n",
            "Downloading scikit_learn_extra-0.3.0-cp310-cp310-manylinux_2_17_x86_64.manylinux2014_x86_64.whl (2.0 MB)\n",
            "\u001b[2K   \u001b[90m━━━━━━━━━━━━━━━━━━━━━━━━━━━━━━━━━━━━━━━━\u001b[0m \u001b[32m2.0/2.0 MB\u001b[0m \u001b[31m13.6 MB/s\u001b[0m eta \u001b[36m0:00:00\u001b[0m\n",
            "\u001b[?25hInstalling collected packages: scikit-learn-extra\n",
            "Successfully installed scikit-learn-extra-0.3.0\n"
          ]
        }
      ]
    },
    {
      "cell_type": "code",
      "source": [
        "from sklearn_extra.cluster import KMedoids\n",
        "from sklearn.metrics import silhouette_score\n",
        "import matplotlib.pyplot as plt\n",
        "\n",
        "# K-Medoids Clustering (PAM)\n",
        "silhouette_scores_kmedoids = []\n",
        "range_of_clusters = range(2, 11)\n",
        "\n",
        "for k in range_of_clusters:\n",
        "    kmedoids = KMedoids(n_clusters=k, random_state=42)\n",
        "    kmedoids_labels = kmedoids.fit_predict(updated_array)\n",
        "    score = silhouette_score(updated_array, kmedoids_labels)\n",
        "    silhouette_scores_kmedoids.append(score)\n",
        "\n",
        "# Plotting the Silhouette Score for K-Medoids\n",
        "plt.plot(range_of_clusters, silhouette_scores_kmedoids, marker='o')\n",
        "plt.xlabel('Number of Clusters')\n",
        "plt.ylabel('Silhouette Score')\n",
        "plt.title('K-Medoids Silhouette Score vs Number of Clusters')\n",
        "plt.show()\n"
      ],
      "metadata": {
        "colab": {
          "base_uri": "https://localhost:8080/",
          "height": 472
        },
        "id": "oGWuWUwPbJgN",
        "outputId": "e5a90d39-ba8a-4a58-85f9-b1b8f7cfd8e3"
      },
      "execution_count": null,
      "outputs": [
        {
          "output_type": "display_data",
          "data": {
            "text/plain": [
              "<Figure size 640x480 with 1 Axes>"
            ],
            "image/png": "[encoded data removed]"
          },
          "metadata": {}
        }
      ]
    },
    {
      "cell_type": "code",
      "source": [
        "pip install fuzzy-c-means\n"
      ],
      "metadata": {
        "colab": {
          "base_uri": "https://localhost:8080/"
        },
        "id": "NuL2b8JcbM1g",
        "outputId": "84704bfe-57e6-4081-d85d-5624c2ebcc9a"
      },
      "execution_count": null,
      "outputs": [
        {
          "output_type": "stream",
          "name": "stdout",
          "text": [
            "Requirement already satisfied: fuzzy-c-means in /usr/local/lib/python3.10/dist-packages (1.7.2)\n",
            "Requirement already satisfied: joblib<2.0.0,>=1.2.0 in /usr/local/lib/python3.10/dist-packages (from fuzzy-c-means) (1.4.2)\n",
            "Requirement already satisfied: numpy<2.0.0,>=1.21.1 in /usr/local/lib/python3.10/dist-packages (from fuzzy-c-means) (1.26.4)\n",
            "Requirement already satisfied: pydantic<3.0.0,>=2.6.4 in /usr/local/lib/python3.10/dist-packages (from fuzzy-c-means) (2.10.3)\n",
            "Requirement already satisfied: tabulate<0.9.0,>=0.8.9 in /usr/local/lib/python3.10/dist-packages (from fuzzy-c-means) (0.8.10)\n",
            "Requirement already satisfied: tqdm<5.0.0,>=4.64.1 in /usr/local/lib/python3.10/dist-packages (from fuzzy-c-means) (4.67.1)\n",
            "Requirement already satisfied: typer<0.10.0,>=0.9.0 in /usr/local/lib/python3.10/dist-packages (from fuzzy-c-means) (0.9.4)\n",
            "Requirement already satisfied: annotated-types>=0.6.0 in /usr/local/lib/python3.10/dist-packages (from pydantic<3.0.0,>=2.6.4->fuzzy-c-means) (0.7.0)\n",
            "Requirement already satisfied: pydantic-core==2.27.1 in /usr/local/lib/python3.10/dist-packages (from pydantic<3.0.0,>=2.6.4->fuzzy-c-means) (2.27.1)\n",
            "Requirement already satisfied: typing-extensions>=4.12.2 in /usr/local/lib/python3.10/dist-packages (from pydantic<3.0.0,>=2.6.4->fuzzy-c-means) (4.12.2)\n",
            "Requirement already satisfied: click<9.0.0,>=7.1.1 in /usr/local/lib/python3.10/dist-packages (from typer<0.10.0,>=0.9.0->fuzzy-c-means) (8.1.7)\n"
          ]
        }
      ]
    },
    {
      "cell_type": "code",
      "source": [
        "print(type(updated_array))"
      ],
      "metadata": {
        "colab": {
          "base_uri": "https://localhost:8080/"
        },
        "id": "1u4wwIlKgRo9",
        "outputId": "d58f1e6c-c935-410d-ecd9-789f597988c1"
      },
      "execution_count": null,
      "outputs": [
        {
          "output_type": "stream",
          "name": "stdout",
          "text": [
            "<class 'numpy.ndarray'>\n"
          ]
        }
      ]
    },
    {
      "cell_type": "code",
      "source": [
        "from fcmeans import FCM\n",
        "from sklearn.metrics import silhouette_score\n",
        "import numpy as np\n",
        "import matplotlib.pyplot as plt\n",
        "from sklearn.preprocessing import StandardScaler\n",
        "\n",
        "# Ensure updated_array is a 2D array (samples, features)\n",
        "print(f\"Initial shape of updated_array: {updated_array.shape}\")\n",
        "\n",
        "# Check if there are NaN or infinite values in the data\n",
        "if np.any(np.isnan(updated_array)) or np.any(np.isinf(updated_array)):\n",
        "    print(\"There are NaN or infinite values in the data. Handling them...\")\n",
        "    # Replace NaN or infinite values with zeros (or other appropriate handling)\n",
        "    updated_array = np.nan_to_num(updated_array)\n",
        "\n",
        "# Optionally, standardize the data\n",
        "scaler = StandardScaler()\n",
        "updated_array = scaler.fit_transform(updated_array)\n",
        "\n",
        "# Verify the shape after transformation\n",
        "print(f\"Shape of updated_array after scaling: {updated_array.shape}\")\n",
        "\n",
        "# Fuzzy C-Means Clustering\n",
        "silhouette_scores_fcm = []\n",
        "range_of_clusters = range(2, 11)\n",
        "\n",
        "for k in range_of_clusters:\n",
        "    fcm = FCM(n_clusters=k)\n",
        "    fcm.fit(updated_array)\n",
        "    fcm_labels = fcm.predict(updated_array).argmax(axis=1)\n",
        "    score = silhouette_score(updated_array, fcm_labels)\n",
        "    silhouette_scores_fcm.append(score)\n",
        "\n",
        "# Plotting the Silhouette Score for Fuzzy C-Means\n",
        "plt.plot(range_of_clusters, silhouette_scores_fcm, marker='o')\n",
        "plt.xlabel('Number of Clusters')\n",
        "plt.ylabel('Silhouette Score')\n",
        "plt.title('Fuzzy C-Means Silhouette Score vs Number of Clusters')\n",
        "plt.show()\n"
      ],
      "metadata": {
        "colab": {
          "base_uri": "https://localhost:8080/",
          "height": 245
        },
        "id": "8NNLRZg0bOwV",
        "outputId": "166f5d55-1e95-42d5-9604-f4ace6fbb5ce"
      },
      "execution_count": null,
      "outputs": [
        {
          "output_type": "stream",
          "name": "stdout",
          "text": [
            "Initial shape of updated_array: (16700, 22)\n"
          ]
        },
        {
          "output_type": "error",
          "ename": "TypeError",
          "evalue": "ufunc 'isnan' not supported for the input types, and the inputs could not be safely coerced to any supported types according to the casting rule ''safe''",
          "traceback": [
            "\u001b[0;31m---------------------------------------------------------------------------\u001b[0m",
            "\u001b[0;31mTypeError\u001b[0m                                 Traceback (most recent call last)",
            "\u001b[0;32m<ipython-input-43-36b9c4cabbda>\u001b[0m in \u001b[0;36m<cell line: 11>\u001b[0;34m()\u001b[0m\n\u001b[1;32m      9\u001b[0m \u001b[0;34m\u001b[0m\u001b[0m\n\u001b[1;32m     10\u001b[0m \u001b[0;31m# Check if there are NaN or infinite values in the data\u001b[0m\u001b[0;34m\u001b[0m\u001b[0;34m\u001b[0m\u001b[0m\n\u001b[0;32m---> 11\u001b[0;31m \u001b[0;32mif\u001b[0m \u001b[0mnp\u001b[0m\u001b[0;34m.\u001b[0m\u001b[0many\u001b[0m\u001b[0;34m(\u001b[0m\u001b[0mnp\u001b[0m\u001b[0;34m.\u001b[0m\u001b[0misnan\u001b[0m\u001b[0;34m(\u001b[0m\u001b[0mupdated_array\u001b[0m\u001b[0;34m)\u001b[0m\u001b[0;34m)\u001b[0m \u001b[0;32mor\u001b[0m \u001b[0mnp\u001b[0m\u001b[0;34m.\u001b[0m\u001b[0many\u001b[0m\u001b[0;34m(\u001b[0m\u001b[0mnp\u001b[0m\u001b[0;34m.\u001b[0m\u001b[0misinf\u001b[0m\u001b[0;34m(\u001b[0m\u001b[0mupdated_array\u001b[0m\u001b[0;34m)\u001b[0m\u001b[0;34m)\u001b[0m\u001b[0;34m:\u001b[0m\u001b[0;34m\u001b[0m\u001b[0;34m\u001b[0m\u001b[0m\n\u001b[0m\u001b[1;32m     12\u001b[0m     \u001b[0mprint\u001b[0m\u001b[0;34m(\u001b[0m\u001b[0;34m\"There are NaN or infinite values in the data. Handling them...\"\u001b[0m\u001b[0;34m)\u001b[0m\u001b[0;34m\u001b[0m\u001b[0;34m\u001b[0m\u001b[0m\n\u001b[1;32m     13\u001b[0m     \u001b[0;31m# Replace NaN or infinite values with zeros (or other appropriate handling)\u001b[0m\u001b[0;34m\u001b[0m\u001b[0;34m\u001b[0m\u001b[0m\n",
            "\u001b[0;31mTypeError\u001b[0m: ufunc 'isnan' not supported for the input types, and the inputs could not be safely coerced to any supported types according to the casting rule ''safe''"
          ]
        }
      ]
    },
    {
      "cell_type": "code",
      "source": [
        "pip install hdbscan"
      ],
      "metadata": {
        "colab": {
          "base_uri": "https://localhost:8080/"
        },
        "id": "5uWxPDQ2gYrl",
        "outputId": "a3091c68-c672-4995-ce6d-0ca096fdb964"
      },
      "execution_count": null,
      "outputs": [
        {
          "output_type": "stream",
          "name": "stdout",
          "text": [
            "Collecting hdbscan\n",
            "  Downloading hdbscan-0.8.40-cp310-cp310-manylinux_2_17_x86_64.manylinux2014_x86_64.whl.metadata (15 kB)\n",
            "Requirement already satisfied: numpy<3,>=1.20 in /usr/local/lib/python3.10/dist-packages (from hdbscan) (1.26.4)\n",
            "Requirement already satisfied: scipy>=1.0 in /usr/local/lib/python3.10/dist-packages (from hdbscan) (1.13.1)\n",
            "Requirement already satisfied: scikit-learn>=0.20 in /usr/local/lib/python3.10/dist-packages (from hdbscan) (1.6.0)\n",
            "Requirement already satisfied: joblib>=1.0 in /usr/local/lib/python3.10/dist-packages (from hdbscan) (1.4.2)\n",
            "Requirement already satisfied: threadpoolctl>=3.1.0 in /usr/local/lib/python3.10/dist-packages (from scikit-learn>=0.20->hdbscan) (3.5.0)\n",
            "Downloading hdbscan-0.8.40-cp310-cp310-manylinux_2_17_x86_64.manylinux2014_x86_64.whl (4.2 MB)\n",
            "\u001b[2K   \u001b[90m━━━━━━━━━━━━━━━━━━━━━━━━━━━━━━━━━━━━━━━━\u001b[0m \u001b[32m4.2/4.2 MB\u001b[0m \u001b[31m33.6 MB/s\u001b[0m eta \u001b[36m0:00:00\u001b[0m\n",
            "\u001b[?25hInstalling collected packages: hdbscan\n",
            "Successfully installed hdbscan-0.8.40\n"
          ]
        }
      ]
    },
    {
      "cell_type": "code",
      "source": [
        "pip install minisom"
      ],
      "metadata": {
        "colab": {
          "base_uri": "https://localhost:8080/"
        },
        "id": "uKxW10rDi5R1",
        "outputId": "7f926423-98eb-457f-8b93-b53c7ff472f2"
      },
      "execution_count": null,
      "outputs": [
        {
          "output_type": "stream",
          "name": "stdout",
          "text": [
            "Collecting minisom\n",
            "  Downloading MiniSom-2.3.3.tar.gz (11 kB)\n",
            "  Preparing metadata (setup.py) ... \u001b[?25l\u001b[?25hdone\n",
            "Building wheels for collected packages: minisom\n",
            "  Building wheel for minisom (setup.py) ... \u001b[?25l\u001b[?25hdone\n",
            "  Created wheel for minisom: filename=MiniSom-2.3.3-py3-none-any.whl size=11706 sha256=4e4b96da4c1533e88ccb14e8ded6f6a0889a18be3b0277d2ce2f609ec08fadfd\n",
            "  Stored in directory: /root/.cache/pip/wheels/96/98/a5/52dee3e8ed1dbfc4d77e4da41b6d89dd7ab9ead1b921e766f8\n",
            "Successfully built minisom\n",
            "Installing collected packages: minisom\n",
            "Successfully installed minisom-2.3.3\n"
          ]
        }
      ]
    },
    {
      "cell_type": "code",
      "source": [
        "from minisom import MiniSom\n",
        "from sklearn.metrics import silhouette_score\n",
        "import matplotlib.pyplot as plt\n",
        "\n",
        "# Self-Organizing Maps (SOM)\n",
        "silhouette_scores_som = []\n",
        "range_of_clusters = range(2, 11)\n",
        "\n",
        "for k in range_of_clusters:\n",
        "    som = MiniSom(10, 10, updated_array.shape[1], sigma=1.0, learning_rate=0.5)\n",
        "    som.train(updated_array, 100)\n",
        "    som_labels = [som.winner(x) for x in updated_array]\n",
        "    som_labels = [x[0] * 10 + x[1] for x in som_labels]  # Flattening the 2D grid to 1D\n",
        "    score = silhouette_score(updated_array, som_labels)\n",
        "    silhouette_scores_som.append(score)\n",
        "\n",
        "# Plotting the Silhouette Score for SOM\n",
        "plt.plot(range_of_clusters, silhouette_scores_som, marker='o')\n",
        "plt.xlabel('Number of Clusters')\n",
        "plt.ylabel('Silhouette Score')\n",
        "plt.title('SOM Silhouette Score vs Number of Clusters')\n",
        "plt.show()\n"
      ],
      "metadata": {
        "colab": {
          "base_uri": "https://localhost:8080/",
          "height": 443
        },
        "id": "F9MdCdWzbSPN",
        "outputId": "2c707326-3356-492f-cc25-690718ad624e"
      },
      "execution_count": null,
      "outputs": [
        {
          "output_type": "error",
          "ename": "TypeError",
          "evalue": "loop of ufunc does not support argument 0 of type float which has no callable sqrt method",
          "traceback": [
            "\u001b[0;31m---------------------------------------------------------------------------\u001b[0m",
            "\u001b[0;31mAttributeError\u001b[0m                            Traceback (most recent call last)",
            "\u001b[0;31mAttributeError\u001b[0m: 'float' object has no attribute 'sqrt'",
            "\nThe above exception was the direct cause of the following exception:\n",
            "\u001b[0;31mTypeError\u001b[0m                                 Traceback (most recent call last)",
            "\u001b[0;32m<ipython-input-48-0bf36cf26935>\u001b[0m in \u001b[0;36m<cell line: 9>\u001b[0;34m()\u001b[0m\n\u001b[1;32m      9\u001b[0m \u001b[0;32mfor\u001b[0m \u001b[0mk\u001b[0m \u001b[0;32min\u001b[0m \u001b[0mrange_of_clusters\u001b[0m\u001b[0;34m:\u001b[0m\u001b[0;34m\u001b[0m\u001b[0;34m\u001b[0m\u001b[0m\n\u001b[1;32m     10\u001b[0m     \u001b[0msom\u001b[0m \u001b[0;34m=\u001b[0m \u001b[0mMiniSom\u001b[0m\u001b[0;34m(\u001b[0m\u001b[0;36m10\u001b[0m\u001b[0;34m,\u001b[0m \u001b[0;36m10\u001b[0m\u001b[0;34m,\u001b[0m \u001b[0mupdated_array\u001b[0m\u001b[0;34m.\u001b[0m\u001b[0mshape\u001b[0m\u001b[0;34m[\u001b[0m\u001b[0;36m1\u001b[0m\u001b[0;34m]\u001b[0m\u001b[0;34m,\u001b[0m \u001b[0msigma\u001b[0m\u001b[0;34m=\u001b[0m\u001b[0;36m1.0\u001b[0m\u001b[0;34m,\u001b[0m \u001b[0mlearning_rate\u001b[0m\u001b[0;34m=\u001b[0m\u001b[0;36m0.5\u001b[0m\u001b[0;34m)\u001b[0m\u001b[0;34m\u001b[0m\u001b[0;34m\u001b[0m\u001b[0m\n\u001b[0;32m---> 11\u001b[0;31m     \u001b[0msom\u001b[0m\u001b[0;34m.\u001b[0m\u001b[0mtrain\u001b[0m\u001b[0;34m(\u001b[0m\u001b[0mupdated_array\u001b[0m\u001b[0;34m,\u001b[0m \u001b[0;36m100\u001b[0m\u001b[0;34m)\u001b[0m\u001b[0;34m\u001b[0m\u001b[0;34m\u001b[0m\u001b[0m\n\u001b[0m\u001b[1;32m     12\u001b[0m     \u001b[0msom_labels\u001b[0m \u001b[0;34m=\u001b[0m \u001b[0;34m[\u001b[0m\u001b[0msom\u001b[0m\u001b[0;34m.\u001b[0m\u001b[0mwinner\u001b[0m\u001b[0;34m(\u001b[0m\u001b[0mx\u001b[0m\u001b[0;34m)\u001b[0m \u001b[0;32mfor\u001b[0m \u001b[0mx\u001b[0m \u001b[0;32min\u001b[0m \u001b[0mupdated_array\u001b[0m\u001b[0;34m]\u001b[0m\u001b[0;34m\u001b[0m\u001b[0;34m\u001b[0m\u001b[0m\n\u001b[1;32m     13\u001b[0m     \u001b[0msom_labels\u001b[0m \u001b[0;34m=\u001b[0m \u001b[0;34m[\u001b[0m\u001b[0mx\u001b[0m\u001b[0;34m[\u001b[0m\u001b[0;36m0\u001b[0m\u001b[0;34m]\u001b[0m \u001b[0;34m*\u001b[0m \u001b[0;36m10\u001b[0m \u001b[0;34m+\u001b[0m \u001b[0mx\u001b[0m\u001b[0;34m[\u001b[0m\u001b[0;36m1\u001b[0m\u001b[0;34m]\u001b[0m \u001b[0;32mfor\u001b[0m \u001b[0mx\u001b[0m \u001b[0;32min\u001b[0m \u001b[0msom_labels\u001b[0m\u001b[0;34m]\u001b[0m  \u001b[0;31m# Flattening the 2D grid to 1D\u001b[0m\u001b[0;34m\u001b[0m\u001b[0;34m\u001b[0m\u001b[0m\n",
            "\u001b[0;32m/usr/local/lib/python3.10/dist-packages/minisom.py\u001b[0m in \u001b[0;36mtrain\u001b[0;34m(self, data, num_iteration, random_order, verbose, use_epochs, fixed_points)\u001b[0m\n\u001b[1;32m    523\u001b[0m             self.update(data[iteration],\n\u001b[1;32m    524\u001b[0m                         fixed_points.get(iteration,\n\u001b[0;32m--> 525\u001b[0;31m                                          self.winner(data[iteration])),\n\u001b[0m\u001b[1;32m    526\u001b[0m                         decay_rate, num_iteration)\n\u001b[1;32m    527\u001b[0m         \u001b[0;32mif\u001b[0m \u001b[0mverbose\u001b[0m\u001b[0;34m:\u001b[0m\u001b[0;34m\u001b[0m\u001b[0;34m\u001b[0m\u001b[0m\n",
            "\u001b[0;32m/usr/local/lib/python3.10/dist-packages/minisom.py\u001b[0m in \u001b[0;36mwinner\u001b[0;34m(self, x)\u001b[0m\n\u001b[1;32m    376\u001b[0m     \u001b[0;32mdef\u001b[0m \u001b[0mwinner\u001b[0m\u001b[0;34m(\u001b[0m\u001b[0mself\u001b[0m\u001b[0;34m,\u001b[0m \u001b[0mx\u001b[0m\u001b[0;34m)\u001b[0m\u001b[0;34m:\u001b[0m\u001b[0;34m\u001b[0m\u001b[0;34m\u001b[0m\u001b[0m\n\u001b[1;32m    377\u001b[0m         \u001b[0;34m\"\"\"Computes the coordinates of the winning neuron for the sample x.\"\"\"\u001b[0m\u001b[0;34m\u001b[0m\u001b[0;34m\u001b[0m\u001b[0m\n\u001b[0;32m--> 378\u001b[0;31m         \u001b[0mself\u001b[0m\u001b[0;34m.\u001b[0m\u001b[0m_activate\u001b[0m\u001b[0;34m(\u001b[0m\u001b[0mx\u001b[0m\u001b[0;34m)\u001b[0m\u001b[0;34m\u001b[0m\u001b[0;34m\u001b[0m\u001b[0m\n\u001b[0m\u001b[1;32m    379\u001b[0m         return unravel_index(self._activation_map.argmin(),\n\u001b[1;32m    380\u001b[0m                              self._activation_map.shape)\n",
            "\u001b[0;32m/usr/local/lib/python3.10/dist-packages/minisom.py\u001b[0m in \u001b[0;36m_activate\u001b[0;34m(self, x)\u001b[0m\n\u001b[1;32m    278\u001b[0m         \"\"\"Updates matrix activation_map, in this matrix\n\u001b[1;32m    279\u001b[0m            the element i,j is the response of the neuron i,j to x.\"\"\"\n\u001b[0;32m--> 280\u001b[0;31m         \u001b[0mself\u001b[0m\u001b[0;34m.\u001b[0m\u001b[0m_activation_map\u001b[0m \u001b[0;34m=\u001b[0m \u001b[0mself\u001b[0m\u001b[0;34m.\u001b[0m\u001b[0m_activation_distance\u001b[0m\u001b[0;34m(\u001b[0m\u001b[0mx\u001b[0m\u001b[0;34m,\u001b[0m \u001b[0mself\u001b[0m\u001b[0;34m.\u001b[0m\u001b[0m_weights\u001b[0m\u001b[0;34m)\u001b[0m\u001b[0;34m\u001b[0m\u001b[0;34m\u001b[0m\u001b[0m\n\u001b[0m\u001b[1;32m    281\u001b[0m \u001b[0;34m\u001b[0m\u001b[0m\n\u001b[1;32m    282\u001b[0m     \u001b[0;32mdef\u001b[0m \u001b[0mactivate\u001b[0m\u001b[0;34m(\u001b[0m\u001b[0mself\u001b[0m\u001b[0;34m,\u001b[0m \u001b[0mx\u001b[0m\u001b[0;34m)\u001b[0m\u001b[0;34m:\u001b[0m\u001b[0;34m\u001b[0m\u001b[0;34m\u001b[0m\u001b[0m\n",
            "\u001b[0;32m/usr/local/lib/python3.10/dist-packages/minisom.py\u001b[0m in \u001b[0;36m_euclidean_distance\u001b[0;34m(self, x, w)\u001b[0m\n\u001b[1;32m    354\u001b[0m \u001b[0;34m\u001b[0m\u001b[0m\n\u001b[1;32m    355\u001b[0m     \u001b[0;32mdef\u001b[0m \u001b[0m_euclidean_distance\u001b[0m\u001b[0;34m(\u001b[0m\u001b[0mself\u001b[0m\u001b[0;34m,\u001b[0m \u001b[0mx\u001b[0m\u001b[0;34m,\u001b[0m \u001b[0mw\u001b[0m\u001b[0;34m)\u001b[0m\u001b[0;34m:\u001b[0m\u001b[0;34m\u001b[0m\u001b[0;34m\u001b[0m\u001b[0m\n\u001b[0;32m--> 356\u001b[0;31m         \u001b[0;32mreturn\u001b[0m \u001b[0mlinalg\u001b[0m\u001b[0;34m.\u001b[0m\u001b[0mnorm\u001b[0m\u001b[0;34m(\u001b[0m\u001b[0msubtract\u001b[0m\u001b[0;34m(\u001b[0m\u001b[0mx\u001b[0m\u001b[0;34m,\u001b[0m \u001b[0mw\u001b[0m\u001b[0;34m)\u001b[0m\u001b[0;34m,\u001b[0m \u001b[0maxis\u001b[0m\u001b[0;34m=\u001b[0m\u001b[0;34m-\u001b[0m\u001b[0;36m1\u001b[0m\u001b[0;34m)\u001b[0m\u001b[0;34m\u001b[0m\u001b[0;34m\u001b[0m\u001b[0m\n\u001b[0m\u001b[1;32m    357\u001b[0m \u001b[0;34m\u001b[0m\u001b[0m\n\u001b[1;32m    358\u001b[0m     \u001b[0;32mdef\u001b[0m \u001b[0m_manhattan_distance\u001b[0m\u001b[0;34m(\u001b[0m\u001b[0mself\u001b[0m\u001b[0;34m,\u001b[0m \u001b[0mx\u001b[0m\u001b[0;34m,\u001b[0m \u001b[0mw\u001b[0m\u001b[0;34m)\u001b[0m\u001b[0;34m:\u001b[0m\u001b[0;34m\u001b[0m\u001b[0;34m\u001b[0m\u001b[0m\n",
            "\u001b[0;32m/usr/local/lib/python3.10/dist-packages/numpy/linalg/linalg.py\u001b[0m in \u001b[0;36mnorm\u001b[0;34m(x, ord, axis, keepdims)\u001b[0m\n\u001b[1;32m   2581\u001b[0m             \u001b[0;31m# special case for speedup\u001b[0m\u001b[0;34m\u001b[0m\u001b[0;34m\u001b[0m\u001b[0m\n\u001b[1;32m   2582\u001b[0m             \u001b[0ms\u001b[0m \u001b[0;34m=\u001b[0m \u001b[0;34m(\u001b[0m\u001b[0mx\u001b[0m\u001b[0;34m.\u001b[0m\u001b[0mconj\u001b[0m\u001b[0;34m(\u001b[0m\u001b[0;34m)\u001b[0m \u001b[0;34m*\u001b[0m \u001b[0mx\u001b[0m\u001b[0;34m)\u001b[0m\u001b[0;34m.\u001b[0m\u001b[0mreal\u001b[0m\u001b[0;34m\u001b[0m\u001b[0;34m\u001b[0m\u001b[0m\n\u001b[0;32m-> 2583\u001b[0;31m             \u001b[0;32mreturn\u001b[0m \u001b[0msqrt\u001b[0m\u001b[0;34m(\u001b[0m\u001b[0madd\u001b[0m\u001b[0;34m.\u001b[0m\u001b[0mreduce\u001b[0m\u001b[0;34m(\u001b[0m\u001b[0ms\u001b[0m\u001b[0;34m,\u001b[0m \u001b[0maxis\u001b[0m\u001b[0;34m=\u001b[0m\u001b[0maxis\u001b[0m\u001b[0;34m,\u001b[0m \u001b[0mkeepdims\u001b[0m\u001b[0;34m=\u001b[0m\u001b[0mkeepdims\u001b[0m\u001b[0;34m)\u001b[0m\u001b[0;34m)\u001b[0m\u001b[0;34m\u001b[0m\u001b[0;34m\u001b[0m\u001b[0m\n\u001b[0m\u001b[1;32m   2584\u001b[0m         \u001b[0;31m# None of the str-type keywords for ord ('fro', 'nuc')\u001b[0m\u001b[0;34m\u001b[0m\u001b[0;34m\u001b[0m\u001b[0m\n\u001b[1;32m   2585\u001b[0m         \u001b[0;31m# are valid for vectors\u001b[0m\u001b[0;34m\u001b[0m\u001b[0;34m\u001b[0m\u001b[0m\n",
            "\u001b[0;31mTypeError\u001b[0m: loop of ufunc does not support argument 0 of type float which has no callable sqrt method"
          ]
        }
      ]
    },
    {
      "cell_type": "code",
      "source": [
        "from sklearn.cluster import OPTICS\n",
        "from sklearn.metrics import silhouette_score\n",
        "import matplotlib.pyplot as plt\n",
        "\n",
        "# OPTICS Clustering\n",
        "silhouette_scores_optics = []\n",
        "min_samples_range = [5, 10, 15, 20]\n",
        "\n",
        "for min_samples in min_samples_range:\n",
        "    optics = OPTICS(min_samples=min_samples)\n",
        "    optics_labels = optics.fit_predict(updated_array)\n",
        "\n",
        "    # OPTICS might label points as -1 (noise), so we only calculate silhouette score for labeled points\n",
        "    if len(set(optics_labels)) > 1 and -1 not in optics_labels:\n",
        "        score = silhouette_score(updated_array, optics_labels)\n",
        "        silhouette_scores_optics.append(score)\n",
        "    else:\n",
        "        silhouette_scores_optics.append(-1)\n",
        "\n",
        "# Plotting the Silhouette Score for OPTICS\n",
        "plt.plot(min_samples_range, silhouette_scores_optics, marker='o')\n",
        "plt.xlabel('Min Samples')\n",
        "plt.ylabel('Silhouette Score')\n",
        "plt.title('OPTICS Silhouette Score vs Min Samples')\n",
        "plt.show()\n"
      ],
      "metadata": {
        "colab": {
          "base_uri": "https://localhost:8080/",
          "height": 472
        },
        "id": "AX5za9j3bTsl",
        "outputId": "aeaaa288-d8d1-4141-f622-ed1935fbb1b0"
      },
      "execution_count": null,
      "outputs": [
        {
          "output_type": "display_data",
          "data": {
            "text/plain": [
              "<Figure size 640x480 with 1 Axes>"
            ],
            "image/png": "[encoded data removed]"
          },
          "metadata": {}
        }
      ]
    },
    {
      "cell_type": "code",
      "source": [
        "from sklearn.cluster import AffinityPropagation\n",
        "from sklearn.metrics import silhouette_score\n",
        "import matplotlib.pyplot as plt\n",
        "\n",
        "# Affinity Propagation Clustering\n",
        "silhouette_scores_affinity = []\n",
        "preference_range = range(-100, 0, 10)\n",
        "\n",
        "for preference in preference_range:\n",
        "    affinity = AffinityPropagation(preference=preference)\n",
        "    affinity_labels = affinity.fit_predict(updated_array)\n",
        "    score = silhouette_score(updated_array, affinity_labels)\n",
        "    silhouette_scores_affinity.append(score)\n",
        "\n",
        "# Plotting the Silhouette Score for Affinity Propagation\n",
        "plt.plot(preference_range, silhouette_scores_affinity, marker='o')\n",
        "plt.xlabel('Preference')\n",
        "plt.ylabel('Silhouette Score')\n",
        "plt.title('Affinity Propagation Silhouette Score vs Preference')\n",
        "plt.show()\n"
      ],
      "metadata": {
        "colab": {
          "base_uri": "https://localhost:8080/",
          "height": 356
        },
        "id": "IEfLDuEEbVI3",
        "outputId": "4b334d81-0fa5-430d-9352-a84fe91527da"
      },
      "execution_count": null,
      "outputs": [
        {
          "output_type": "error",
          "ename": "KeyboardInterrupt",
          "evalue": "",
          "traceback": [
            "\u001b[0;31m---------------------------------------------------------------------------\u001b[0m",
            "\u001b[0;31mKeyboardInterrupt\u001b[0m                         Traceback (most recent call last)",
            "\u001b[0;32m<ipython-input-50-76ec38439db5>\u001b[0m in \u001b[0;36m<cell line: 9>\u001b[0;34m()\u001b[0m\n\u001b[1;32m      9\u001b[0m \u001b[0;32mfor\u001b[0m \u001b[0mpreference\u001b[0m \u001b[0;32min\u001b[0m \u001b[0mpreference_range\u001b[0m\u001b[0;34m:\u001b[0m\u001b[0;34m\u001b[0m\u001b[0;34m\u001b[0m\u001b[0m\n\u001b[1;32m     10\u001b[0m     \u001b[0maffinity\u001b[0m \u001b[0;34m=\u001b[0m \u001b[0mAffinityPropagation\u001b[0m\u001b[0;34m(\u001b[0m\u001b[0mpreference\u001b[0m\u001b[0;34m=\u001b[0m\u001b[0mpreference\u001b[0m\u001b[0;34m)\u001b[0m\u001b[0;34m\u001b[0m\u001b[0;34m\u001b[0m\u001b[0m\n\u001b[0;32m---> 11\u001b[0;31m     \u001b[0maffinity_labels\u001b[0m \u001b[0;34m=\u001b[0m \u001b[0maffinity\u001b[0m\u001b[0;34m.\u001b[0m\u001b[0mfit_predict\u001b[0m\u001b[0;34m(\u001b[0m\u001b[0mupdated_array\u001b[0m\u001b[0;34m)\u001b[0m\u001b[0;34m\u001b[0m\u001b[0;34m\u001b[0m\u001b[0m\n\u001b[0m\u001b[1;32m     12\u001b[0m     \u001b[0mscore\u001b[0m \u001b[0;34m=\u001b[0m \u001b[0msilhouette_score\u001b[0m\u001b[0;34m(\u001b[0m\u001b[0mupdated_array\u001b[0m\u001b[0;34m,\u001b[0m \u001b[0maffinity_labels\u001b[0m\u001b[0;34m)\u001b[0m\u001b[0;34m\u001b[0m\u001b[0;34m\u001b[0m\u001b[0m\n\u001b[1;32m     13\u001b[0m     \u001b[0msilhouette_scores_affinity\u001b[0m\u001b[0;34m.\u001b[0m\u001b[0mappend\u001b[0m\u001b[0;34m(\u001b[0m\u001b[0mscore\u001b[0m\u001b[0;34m)\u001b[0m\u001b[0;34m\u001b[0m\u001b[0;34m\u001b[0m\u001b[0m\n",
            "\u001b[0;32m/usr/local/lib/python3.10/dist-packages/sklearn/cluster/_affinity_propagation.py\u001b[0m in \u001b[0;36mfit_predict\u001b[0;34m(self, X, y)\u001b[0m\n\u001b[1;32m    601\u001b[0m             \u001b[0mCluster\u001b[0m \u001b[0mlabels\u001b[0m\u001b[0;34m.\u001b[0m\u001b[0;34m\u001b[0m\u001b[0;34m\u001b[0m\u001b[0m\n\u001b[1;32m    602\u001b[0m         \"\"\"\n\u001b[0;32m--> 603\u001b[0;31m         \u001b[0;32mreturn\u001b[0m \u001b[0msuper\u001b[0m\u001b[0;34m(\u001b[0m\u001b[0;34m)\u001b[0m\u001b[0;34m.\u001b[0m\u001b[0mfit_predict\u001b[0m\u001b[0;34m(\u001b[0m\u001b[0mX\u001b[0m\u001b[0;34m,\u001b[0m \u001b[0my\u001b[0m\u001b[0;34m)\u001b[0m\u001b[0;34m\u001b[0m\u001b[0;34m\u001b[0m\u001b[0m\n\u001b[0m",
            "\u001b[0;32m/usr/local/lib/python3.10/dist-packages/sklearn/base.py\u001b[0m in \u001b[0;36mfit_predict\u001b[0;34m(self, X, y, **kwargs)\u001b[0m\n\u001b[1;32m    717\u001b[0m         \u001b[0;31m# non-optimized default implementation; override when a better\u001b[0m\u001b[0;34m\u001b[0m\u001b[0;34m\u001b[0m\u001b[0m\n\u001b[1;32m    718\u001b[0m         \u001b[0;31m# method is possible for a given clustering algorithm\u001b[0m\u001b[0;34m\u001b[0m\u001b[0;34m\u001b[0m\u001b[0m\n\u001b[0;32m--> 719\u001b[0;31m         \u001b[0mself\u001b[0m\u001b[0;34m.\u001b[0m\u001b[0mfit\u001b[0m\u001b[0;34m(\u001b[0m\u001b[0mX\u001b[0m\u001b[0;34m,\u001b[0m \u001b[0;34m**\u001b[0m\u001b[0mkwargs\u001b[0m\u001b[0;34m)\u001b[0m\u001b[0;34m\u001b[0m\u001b[0;34m\u001b[0m\u001b[0m\n\u001b[0m\u001b[1;32m    720\u001b[0m         \u001b[0;32mreturn\u001b[0m \u001b[0mself\u001b[0m\u001b[0;34m.\u001b[0m\u001b[0mlabels_\u001b[0m\u001b[0;34m\u001b[0m\u001b[0;34m\u001b[0m\u001b[0m\n\u001b[1;32m    721\u001b[0m \u001b[0;34m\u001b[0m\u001b[0m\n",
            "\u001b[0;32m/usr/local/lib/python3.10/dist-packages/sklearn/base.py\u001b[0m in \u001b[0;36mwrapper\u001b[0;34m(estimator, *args, **kwargs)\u001b[0m\n\u001b[1;32m   1387\u001b[0m                 )\n\u001b[1;32m   1388\u001b[0m             ):\n\u001b[0;32m-> 1389\u001b[0;31m                 \u001b[0;32mreturn\u001b[0m \u001b[0mfit_method\u001b[0m\u001b[0;34m(\u001b[0m\u001b[0mestimator\u001b[0m\u001b[0;34m,\u001b[0m \u001b[0;34m*\u001b[0m\u001b[0margs\u001b[0m\u001b[0;34m,\u001b[0m \u001b[0;34m**\u001b[0m\u001b[0mkwargs\u001b[0m\u001b[0;34m)\u001b[0m\u001b[0;34m\u001b[0m\u001b[0;34m\u001b[0m\u001b[0m\n\u001b[0m\u001b[1;32m   1390\u001b[0m \u001b[0;34m\u001b[0m\u001b[0m\n\u001b[1;32m   1391\u001b[0m         \u001b[0;32mreturn\u001b[0m \u001b[0mwrapper\u001b[0m\u001b[0;34m\u001b[0m\u001b[0;34m\u001b[0m\u001b[0m\n",
            "\u001b[0;32m/usr/local/lib/python3.10/dist-packages/sklearn/cluster/_affinity_propagation.py\u001b[0m in \u001b[0;36mfit\u001b[0;34m(self, X, y)\u001b[0m\n\u001b[1;32m    531\u001b[0m             \u001b[0mself\u001b[0m\u001b[0;34m.\u001b[0m\u001b[0mlabels_\u001b[0m\u001b[0;34m,\u001b[0m\u001b[0;34m\u001b[0m\u001b[0;34m\u001b[0m\u001b[0m\n\u001b[1;32m    532\u001b[0m             \u001b[0mself\u001b[0m\u001b[0;34m.\u001b[0m\u001b[0mn_iter_\u001b[0m\u001b[0;34m,\u001b[0m\u001b[0;34m\u001b[0m\u001b[0;34m\u001b[0m\u001b[0m\n\u001b[0;32m--> 533\u001b[0;31m         \u001b[0;34m)\u001b[0m \u001b[0;34m=\u001b[0m \u001b[0m_affinity_propagation\u001b[0m\u001b[0;34m(\u001b[0m\u001b[0;34m\u001b[0m\u001b[0;34m\u001b[0m\u001b[0m\n\u001b[0m\u001b[1;32m    534\u001b[0m             \u001b[0mself\u001b[0m\u001b[0;34m.\u001b[0m\u001b[0maffinity_matrix_\u001b[0m\u001b[0;34m,\u001b[0m\u001b[0;34m\u001b[0m\u001b[0;34m\u001b[0m\u001b[0m\n\u001b[1;32m    535\u001b[0m             \u001b[0mmax_iter\u001b[0m\u001b[0;34m=\u001b[0m\u001b[0mself\u001b[0m\u001b[0;34m.\u001b[0m\u001b[0mmax_iter\u001b[0m\u001b[0;34m,\u001b[0m\u001b[0;34m\u001b[0m\u001b[0;34m\u001b[0m\u001b[0m\n",
            "\u001b[0;32m/usr/local/lib/python3.10/dist-packages/sklearn/cluster/_affinity_propagation.py\u001b[0m in \u001b[0;36m_affinity_propagation\u001b[0;34m(S, preference, convergence_iter, max_iter, damping, verbose, return_n_iter, random_state)\u001b[0m\n\u001b[1;32m    107\u001b[0m         \u001b[0mtmp\u001b[0m \u001b[0;34m-=\u001b[0m \u001b[0mnp\u001b[0m\u001b[0;34m.\u001b[0m\u001b[0msum\u001b[0m\u001b[0;34m(\u001b[0m\u001b[0mtmp\u001b[0m\u001b[0;34m,\u001b[0m \u001b[0maxis\u001b[0m\u001b[0;34m=\u001b[0m\u001b[0;36m0\u001b[0m\u001b[0;34m)\u001b[0m\u001b[0;34m\u001b[0m\u001b[0;34m\u001b[0m\u001b[0m\n\u001b[1;32m    108\u001b[0m         \u001b[0mdA\u001b[0m \u001b[0;34m=\u001b[0m \u001b[0mnp\u001b[0m\u001b[0;34m.\u001b[0m\u001b[0mdiag\u001b[0m\u001b[0;34m(\u001b[0m\u001b[0mtmp\u001b[0m\u001b[0;34m)\u001b[0m\u001b[0;34m.\u001b[0m\u001b[0mcopy\u001b[0m\u001b[0;34m(\u001b[0m\u001b[0;34m)\u001b[0m\u001b[0;34m\u001b[0m\u001b[0;34m\u001b[0m\u001b[0m\n\u001b[0;32m--> 109\u001b[0;31m         \u001b[0mtmp\u001b[0m\u001b[0;34m.\u001b[0m\u001b[0mclip\u001b[0m\u001b[0;34m(\u001b[0m\u001b[0;36m0\u001b[0m\u001b[0;34m,\u001b[0m \u001b[0mnp\u001b[0m\u001b[0;34m.\u001b[0m\u001b[0minf\u001b[0m\u001b[0;34m,\u001b[0m \u001b[0mtmp\u001b[0m\u001b[0;34m)\u001b[0m\u001b[0;34m\u001b[0m\u001b[0;34m\u001b[0m\u001b[0m\n\u001b[0m\u001b[1;32m    110\u001b[0m         \u001b[0mtmp\u001b[0m\u001b[0;34m.\u001b[0m\u001b[0mflat\u001b[0m\u001b[0;34m[\u001b[0m\u001b[0;34m:\u001b[0m\u001b[0;34m:\u001b[0m \u001b[0mn_samples\u001b[0m \u001b[0;34m+\u001b[0m \u001b[0;36m1\u001b[0m\u001b[0;34m]\u001b[0m \u001b[0;34m=\u001b[0m \u001b[0mdA\u001b[0m\u001b[0;34m\u001b[0m\u001b[0;34m\u001b[0m\u001b[0m\n\u001b[1;32m    111\u001b[0m \u001b[0;34m\u001b[0m\u001b[0m\n",
            "\u001b[0;32m/usr/local/lib/python3.10/dist-packages/numpy/core/_methods.py\u001b[0m in \u001b[0;36m_clip\u001b[0;34m(a, min, max, out, **kwargs)\u001b[0m\n\u001b[1;32m     97\u001b[0m         \u001b[0;32mreturn\u001b[0m \u001b[0mum\u001b[0m\u001b[0;34m.\u001b[0m\u001b[0mmaximum\u001b[0m\u001b[0;34m(\u001b[0m\u001b[0ma\u001b[0m\u001b[0;34m,\u001b[0m \u001b[0mmin\u001b[0m\u001b[0;34m,\u001b[0m \u001b[0mout\u001b[0m\u001b[0;34m=\u001b[0m\u001b[0mout\u001b[0m\u001b[0;34m,\u001b[0m \u001b[0;34m**\u001b[0m\u001b[0mkwargs\u001b[0m\u001b[0;34m)\u001b[0m\u001b[0;34m\u001b[0m\u001b[0;34m\u001b[0m\u001b[0m\n\u001b[1;32m     98\u001b[0m     \u001b[0;32melse\u001b[0m\u001b[0;34m:\u001b[0m\u001b[0;34m\u001b[0m\u001b[0;34m\u001b[0m\u001b[0m\n\u001b[0;32m---> 99\u001b[0;31m         \u001b[0;32mreturn\u001b[0m \u001b[0mum\u001b[0m\u001b[0;34m.\u001b[0m\u001b[0mclip\u001b[0m\u001b[0;34m(\u001b[0m\u001b[0ma\u001b[0m\u001b[0;34m,\u001b[0m \u001b[0mmin\u001b[0m\u001b[0;34m,\u001b[0m \u001b[0mmax\u001b[0m\u001b[0;34m,\u001b[0m \u001b[0mout\u001b[0m\u001b[0;34m=\u001b[0m\u001b[0mout\u001b[0m\u001b[0;34m,\u001b[0m \u001b[0;34m**\u001b[0m\u001b[0mkwargs\u001b[0m\u001b[0;34m)\u001b[0m\u001b[0;34m\u001b[0m\u001b[0;34m\u001b[0m\u001b[0m\n\u001b[0m\u001b[1;32m    100\u001b[0m \u001b[0;34m\u001b[0m\u001b[0m\n\u001b[1;32m    101\u001b[0m \u001b[0;32mdef\u001b[0m \u001b[0m_mean\u001b[0m\u001b[0;34m(\u001b[0m\u001b[0ma\u001b[0m\u001b[0;34m,\u001b[0m \u001b[0maxis\u001b[0m\u001b[0;34m=\u001b[0m\u001b[0;32mNone\u001b[0m\u001b[0;34m,\u001b[0m \u001b[0mdtype\u001b[0m\u001b[0;34m=\u001b[0m\u001b[0;32mNone\u001b[0m\u001b[0;34m,\u001b[0m \u001b[0mout\u001b[0m\u001b[0;34m=\u001b[0m\u001b[0;32mNone\u001b[0m\u001b[0;34m,\u001b[0m \u001b[0mkeepdims\u001b[0m\u001b[0;34m=\u001b[0m\u001b[0;32mFalse\u001b[0m\u001b[0;34m,\u001b[0m \u001b[0;34m*\u001b[0m\u001b[0;34m,\u001b[0m \u001b[0mwhere\u001b[0m\u001b[0;34m=\u001b[0m\u001b[0;32mTrue\u001b[0m\u001b[0;34m)\u001b[0m\u001b[0;34m:\u001b[0m\u001b[0;34m\u001b[0m\u001b[0;34m\u001b[0m\u001b[0m\n",
            "\u001b[0;31mKeyboardInterrupt\u001b[0m: "
          ]
        }
      ]
    },
    {
      "cell_type": "code",
      "source": [
        "from sklearn.cluster import AffinityPropagation\n",
        "from sklearn.metrics import silhouette_score\n",
        "import matplotlib.pyplot as plt\n",
        "\n",
        "# Affinity Propagation Clustering\n",
        "silhouette_scores_affinity = []\n",
        "preference_range = range(-100, 0, 10)\n",
        "\n",
        "for preference in preference_range:\n",
        "    affinity = AffinityPropagation(preference=preference)\n",
        "    affinity_labels = affinity.fit_predict(updated_array)\n",
        "    score = silhouette_score(updated_array, affinity_labels)\n",
        "    silhouette_scores_affinity.append(score)\n",
        "\n",
        "# Plotting the Silhouette Score for Affinity Propagation\n",
        "plt.plot(preference_range, silhouette_scores_affinity, marker='o')\n",
        "plt.xlabel('Preference')\n",
        "plt.ylabel('Silhouette Score')\n",
        "plt.title('Affinity Propagation Silhouette Score vs Preference')\n",
        "plt.show()\n"
      ],
      "metadata": {
        "colab": {
          "base_uri": "https://localhost:8080/",
          "height": 770
        },
        "id": "-x3J4qCTlz37",
        "outputId": "cacc7705-b6ef-4d93-a15a-c070dfe8c70b"
      },
      "execution_count": null,
      "outputs": [
        {
          "output_type": "stream",
          "name": "stderr",
          "text": [
            "/usr/local/lib/python3.10/dist-packages/sklearn/cluster/_affinity_propagation.py:140: ConvergenceWarning: Affinity propagation did not converge, this model may return degenerate cluster centers and labels.\n",
            "  warnings.warn(\n",
            "/usr/local/lib/python3.10/dist-packages/sklearn/cluster/_affinity_propagation.py:140: ConvergenceWarning: Affinity propagation did not converge, this model may return degenerate cluster centers and labels.\n",
            "  warnings.warn(\n",
            "/usr/local/lib/python3.10/dist-packages/sklearn/cluster/_affinity_propagation.py:140: ConvergenceWarning: Affinity propagation did not converge, this model may return degenerate cluster centers and labels.\n",
            "  warnings.warn(\n",
            "/usr/local/lib/python3.10/dist-packages/sklearn/cluster/_affinity_propagation.py:140: ConvergenceWarning: Affinity propagation did not converge, this model may return degenerate cluster centers and labels.\n",
            "  warnings.warn(\n",
            "/usr/local/lib/python3.10/dist-packages/sklearn/cluster/_affinity_propagation.py:140: ConvergenceWarning: Affinity propagation did not converge, this model may return degenerate cluster centers and labels.\n",
            "  warnings.warn(\n",
            "/usr/local/lib/python3.10/dist-packages/sklearn/cluster/_affinity_propagation.py:140: ConvergenceWarning: Affinity propagation did not converge, this model may return degenerate cluster centers and labels.\n",
            "  warnings.warn(\n",
            "/usr/local/lib/python3.10/dist-packages/sklearn/cluster/_affinity_propagation.py:140: ConvergenceWarning: Affinity propagation did not converge, this model may return degenerate cluster centers and labels.\n",
            "  warnings.warn(\n",
            "/usr/local/lib/python3.10/dist-packages/sklearn/cluster/_affinity_propagation.py:140: ConvergenceWarning: Affinity propagation did not converge, this model may return degenerate cluster centers and labels.\n",
            "  warnings.warn(\n"
          ]
        },
        {
          "output_type": "display_data",
          "data": {
            "text/plain": [
              "<Figure size 640x480 with 1 Axes>"
            ],
            "image/png": "[encoded data removed]"
          },
          "metadata": {}
        }
      ]
    }
  ]
}