{
 "cells": [
  {
   "cell_type": "markdown",
   "id": "ae696e77",
   "metadata": {},
   "source": [
    "## This would be applying RL without clustring"
   ]
  },
  {
   "cell_type": "code",
   "execution_count": 6,
   "id": "82a08656",
   "metadata": {},
   "outputs": [],
   "source": [
    "import pandas as pd\n",
    "import numpy as np\n",
    "import os\n",
    "\n",
    "import gymnasium as gym\n",
    "from gym import Env\n",
    "from gym import spaces\n",
    "\n",
    "from enum import Enum\n",
    "\n",
    "from stable_baselines3 import PPO"
   ]
  },
  {
   "cell_type": "code",
   "execution_count": 3,
   "id": "d152f206",
   "metadata": {},
   "outputs": [
    {
     "data": {
      "text/plain": [
       "array([0.83460546], dtype=float32)"
      ]
     },
     "execution_count": 3,
     "metadata": {},
     "output_type": "execute_result"
    }
   ],
   "source": [
    "# spaces.Box(low = 0, high = 1).sample()"
   ]
  },
  {
   "cell_type": "code",
   "execution_count": 2,
   "id": "c6ca0d2f",
   "metadata": {},
   "outputs": [
    {
     "name": "stdout",
     "output_type": "stream",
     "text": [
      "C:\\Users\\AbdulRahman\\Desktop\\gradproj\\Grad-Project\\Implementation\\AI\\Agent\n"
     ]
    }
   ],
   "source": [
    "#get path of the curr project\n",
    "print(os.getcwd())"
   ]
  },
  {
   "cell_type": "code",
   "execution_count": 8,
   "id": "f5483177",
   "metadata": {},
   "outputs": [],
   "source": [
    "df = pd.read_csv(\"C:/Users/AbdulRahman/Desktop/gradproj/Grad-Project/Implementation/AI/DataSet/lateset Dataset Main/pre_processed_df_without.csv\")"
   ]
  },
  {
   "cell_type": "code",
   "execution_count": 4,
   "id": "8913e382",
   "metadata": {},
   "outputs": [
    {
     "name": "stdout",
     "output_type": "stream",
     "text": [
      "{1, 2, 3, 4}\n"
     ]
    }
   ],
   "source": [
    "print((set(list(df['attributes_RestaurantsPriceRange2']))))"
   ]
  },
  {
   "cell_type": "code",
   "execution_count": 5,
   "id": "1c32733e",
   "metadata": {},
   "outputs": [
    {
     "name": "stdout",
     "output_type": "stream",
     "text": [
      "{5.0, 3.5, 4.0, 4.5}\n"
     ]
    }
   ],
   "source": [
    "print((set(list(df['stars']))))"
   ]
  },
  {
   "cell_type": "code",
   "execution_count": 6,
   "id": "b6a9003a",
   "metadata": {},
   "outputs": [
    {
     "data": {
      "text/plain": [
       "Index(['latitude', 'longitude', 'stars', 'review_count',\n",
       "       'attributes_RestaurantsPriceRange2', 'attributes_GoodForKids',\n",
       "       'attributes_Ambience_touristy', 'attributes_Ambience_romantic',\n",
       "       'attributes_Ambience_intimate', 'attributes_Ambience_trendy',\n",
       "       'attributes_Ambience_classy', 'attributes_Ambience_casual',\n",
       "       'Bars_Night', 'Beauty_Health_Care', 'Cafes', 'GYM',\n",
       "       'Restaurants_Cuisines', 'Shops'],\n",
       "      dtype='object')"
      ]
     },
     "execution_count": 6,
     "metadata": {},
     "output_type": "execute_result"
    }
   ],
   "source": [
    "df.columns"
   ]
  },
  {
   "cell_type": "code",
   "execution_count": 7,
   "id": "f3d693f4",
   "metadata": {},
   "outputs": [
    {
     "data": {
      "text/html": [
       "<div>\n",
       "<style scoped>\n",
       "    .dataframe tbody tr th:only-of-type {\n",
       "        vertical-align: middle;\n",
       "    }\n",
       "\n",
       "    .dataframe tbody tr th {\n",
       "        vertical-align: top;\n",
       "    }\n",
       "\n",
       "    .dataframe thead th {\n",
       "        text-align: right;\n",
       "    }\n",
       "</style>\n",
       "<table border=\"1\" class=\"dataframe\">\n",
       "  <thead>\n",
       "    <tr style=\"text-align: right;\">\n",
       "      <th></th>\n",
       "      <th>latitude</th>\n",
       "      <th>longitude</th>\n",
       "      <th>stars</th>\n",
       "      <th>review_count</th>\n",
       "      <th>attributes_RestaurantsPriceRange2</th>\n",
       "      <th>attributes_GoodForKids</th>\n",
       "      <th>attributes_Ambience_touristy</th>\n",
       "      <th>attributes_Ambience_romantic</th>\n",
       "      <th>attributes_Ambience_intimate</th>\n",
       "      <th>attributes_Ambience_trendy</th>\n",
       "      <th>attributes_Ambience_classy</th>\n",
       "      <th>attributes_Ambience_casual</th>\n",
       "      <th>Bars_Night</th>\n",
       "      <th>Beauty_Health_Care</th>\n",
       "      <th>Cafes</th>\n",
       "      <th>GYM</th>\n",
       "      <th>Restaurants_Cuisines</th>\n",
       "      <th>Shops</th>\n",
       "    </tr>\n",
       "  </thead>\n",
       "  <tbody>\n",
       "    <tr>\n",
       "      <th>0</th>\n",
       "      <td>39.955505</td>\n",
       "      <td>-75.155564</td>\n",
       "      <td>4.0</td>\n",
       "      <td>80</td>\n",
       "      <td>1</td>\n",
       "      <td>1</td>\n",
       "      <td>0</td>\n",
       "      <td>0</td>\n",
       "      <td>0</td>\n",
       "      <td>0</td>\n",
       "      <td>0</td>\n",
       "      <td>1</td>\n",
       "      <td>0</td>\n",
       "      <td>0</td>\n",
       "      <td>1</td>\n",
       "      <td>0</td>\n",
       "      <td>1</td>\n",
       "      <td>0</td>\n",
       "    </tr>\n",
       "    <tr>\n",
       "      <th>1</th>\n",
       "      <td>39.953949</td>\n",
       "      <td>-75.143226</td>\n",
       "      <td>4.0</td>\n",
       "      <td>245</td>\n",
       "      <td>2</td>\n",
       "      <td>0</td>\n",
       "      <td>0</td>\n",
       "      <td>0</td>\n",
       "      <td>0</td>\n",
       "      <td>0</td>\n",
       "      <td>1</td>\n",
       "      <td>0</td>\n",
       "      <td>0</td>\n",
       "      <td>0</td>\n",
       "      <td>0</td>\n",
       "      <td>0</td>\n",
       "      <td>1</td>\n",
       "      <td>0</td>\n",
       "    </tr>\n",
       "    <tr>\n",
       "      <th>2</th>\n",
       "      <td>39.943223</td>\n",
       "      <td>-75.162568</td>\n",
       "      <td>4.5</td>\n",
       "      <td>205</td>\n",
       "      <td>1</td>\n",
       "      <td>1</td>\n",
       "      <td>0</td>\n",
       "      <td>0</td>\n",
       "      <td>0</td>\n",
       "      <td>0</td>\n",
       "      <td>0</td>\n",
       "      <td>1</td>\n",
       "      <td>0</td>\n",
       "      <td>0</td>\n",
       "      <td>0</td>\n",
       "      <td>0</td>\n",
       "      <td>1</td>\n",
       "      <td>0</td>\n",
       "    </tr>\n",
       "    <tr>\n",
       "      <th>3</th>\n",
       "      <td>40.006707</td>\n",
       "      <td>-75.289671</td>\n",
       "      <td>3.5</td>\n",
       "      <td>109</td>\n",
       "      <td>1</td>\n",
       "      <td>1</td>\n",
       "      <td>0</td>\n",
       "      <td>0</td>\n",
       "      <td>0</td>\n",
       "      <td>0</td>\n",
       "      <td>0</td>\n",
       "      <td>1</td>\n",
       "      <td>0</td>\n",
       "      <td>0</td>\n",
       "      <td>0</td>\n",
       "      <td>0</td>\n",
       "      <td>1</td>\n",
       "      <td>0</td>\n",
       "    </tr>\n",
       "    <tr>\n",
       "      <th>4</th>\n",
       "      <td>39.962582</td>\n",
       "      <td>-75.135657</td>\n",
       "      <td>3.5</td>\n",
       "      <td>65</td>\n",
       "      <td>2</td>\n",
       "      <td>1</td>\n",
       "      <td>0</td>\n",
       "      <td>0</td>\n",
       "      <td>0</td>\n",
       "      <td>0</td>\n",
       "      <td>1</td>\n",
       "      <td>0</td>\n",
       "      <td>0</td>\n",
       "      <td>0</td>\n",
       "      <td>0</td>\n",
       "      <td>0</td>\n",
       "      <td>1</td>\n",
       "      <td>0</td>\n",
       "    </tr>\n",
       "  </tbody>\n",
       "</table>\n",
       "</div>"
      ],
      "text/plain": [
       "    latitude  longitude  stars  review_count  \\\n",
       "0  39.955505 -75.155564    4.0            80   \n",
       "1  39.953949 -75.143226    4.0           245   \n",
       "2  39.943223 -75.162568    4.5           205   \n",
       "3  40.006707 -75.289671    3.5           109   \n",
       "4  39.962582 -75.135657    3.5            65   \n",
       "\n",
       "   attributes_RestaurantsPriceRange2  attributes_GoodForKids  \\\n",
       "0                                  1                       1   \n",
       "1                                  2                       0   \n",
       "2                                  1                       1   \n",
       "3                                  1                       1   \n",
       "4                                  2                       1   \n",
       "\n",
       "   attributes_Ambience_touristy  attributes_Ambience_romantic  \\\n",
       "0                             0                             0   \n",
       "1                             0                             0   \n",
       "2                             0                             0   \n",
       "3                             0                             0   \n",
       "4                             0                             0   \n",
       "\n",
       "   attributes_Ambience_intimate  attributes_Ambience_trendy  \\\n",
       "0                             0                           0   \n",
       "1                             0                           0   \n",
       "2                             0                           0   \n",
       "3                             0                           0   \n",
       "4                             0                           0   \n",
       "\n",
       "   attributes_Ambience_classy  attributes_Ambience_casual  Bars_Night  \\\n",
       "0                           0                           1           0   \n",
       "1                           1                           0           0   \n",
       "2                           0                           1           0   \n",
       "3                           0                           1           0   \n",
       "4                           1                           0           0   \n",
       "\n",
       "   Beauty_Health_Care  Cafes  GYM  Restaurants_Cuisines  Shops  \n",
       "0                   0      1    0                     1      0  \n",
       "1                   0      0    0                     1      0  \n",
       "2                   0      0    0                     1      0  \n",
       "3                   0      0    0                     1      0  \n",
       "4                   0      0    0                     1      0  "
      ]
     },
     "execution_count": 7,
     "metadata": {},
     "output_type": "execute_result"
    }
   ],
   "source": [
    "df.head()"
   ]
  },
  {
   "cell_type": "code",
   "execution_count": 23,
   "id": "9e8fb302",
   "metadata": {},
   "outputs": [
    {
     "data": {
      "text/plain": [
       "array([1.6066295 , 2.4351947 , 1.4334623 , 3.050269  , 3.3055985 ,\n",
       "       1.458249  , 0.28778958, 0.72118527, 0.3882745 , 3.296755  ,\n",
       "       0.53379095, 2.2658453 , 0.48177618, 4.4178843 , 4.453072  ,\n",
       "       2.4207904 , 0.75164735, 0.08341315, 3.6692133 , 2.5314713 ],\n",
       "      dtype=float32)"
      ]
     },
     "execution_count": 23,
     "metadata": {},
     "output_type": "execute_result"
    }
   ],
   "source": [
    "# Box(low=0, high=5, shape=(20,), dtype=np.float32).sample()"
   ]
  },
  {
   "cell_type": "code",
   "execution_count": 4,
   "id": "a4cd6dfc",
   "metadata": {},
   "outputs": [
    {
     "data": {
      "text/plain": [
       "array([0.7398428], dtype=float32)"
      ]
     },
     "execution_count": 4,
     "metadata": {},
     "output_type": "execute_result"
    }
   ],
   "source": [
    "spaces.Box(low = 0, high = 1).sample()"
   ]
  },
  {
   "cell_type": "markdown",
   "id": "77cbb17f",
   "metadata": {},
   "source": [
    "# mapping user pref text to vector"
   ]
  },
  {
   "cell_type": "code",
   "execution_count": null,
   "id": "e0faaf86",
   "metadata": {},
   "outputs": [],
   "source": [
    "lst = ['Bars_Night','Beauty_Health_Care','Cafes','GYM','Restaurants_Cuisines','Shops',\n",
    "'romantic', 'intimate', 'family_friendly', 'star', 'price_range','trendy','classy','touristy', 'casual']\n",
    "\n",
    "user_pref = [0]*len(lst)\n",
    "\n",
    "print(user_pref)\n",
    "# len(user_pref)\n",
    "\n",
    "mp = {}\n",
    "for i in range(len(lst)):\n",
    "  mp[lst[i]] = i\n",
    "\n",
    "for x in mp.items():\n",
    "  print(x)"
   ]
  },
  {
   "cell_type": "code",
   "execution_count": null,
   "id": "9b1dd556",
   "metadata": {},
   "outputs": [],
   "source": [
    "class preferences:\n",
    "  def __init__(self, category : str,\n",
    "               star : float,\n",
    "               days: int,\n",
    "               price_range: int,\n",
    "               trendy : bool,\n",
    "               classy : bool,\n",
    "               touristy : bool,\n",
    "               casual : bool,\n",
    "               family_friendly_or_romantic: str):\n",
    "    self.category = category\n",
    "    self.star = star\n",
    "    self.days = days\n",
    "    self.price_range = price_range\n",
    "    self.trendy = trendy\n",
    "    self.classy = classy\n",
    "    self.touristy = touristy\n",
    "    self.casual = casual\n",
    "    self.family_friendly_or_romantic = family_friendly_or_romantic"
   ]
  },
  {
   "cell_type": "code",
   "execution_count": null,
   "id": "c10b387a",
   "metadata": {},
   "outputs": [],
   "source": [
    "def fill(pref : preferences):\n",
    "  user_pref[mp[pref.category]] = 1\n",
    "  user_pref[mp['star']] = pref.star\n",
    "  user_pref[mp['price_range']] = pref.price_range\n",
    "  user_pref[mp['trendy']] = 0 if pref.trendy == False else 1\n",
    "  user_pref[mp['classy']] = 0 if pref.classy == False else 1\n",
    "  user_pref[mp['touristy']] = 0 if pref.touristy == False else 1\n",
    "  user_pref[mp['casual']] = 0 if pref.casual == False else 1\n",
    "  user_pref[mp[pref.family_friendly_or_romantic]] = 1"
   ]
  },
  {
   "cell_type": "code",
   "execution_count": null,
   "id": "4cd37663",
   "metadata": {},
   "outputs": [],
   "source": [
    "def get_mapping(user_pref, lst):\n",
    "  for i in range(0,len(lst)):\n",
    "    print(lst[i], user_pref[i])"
   ]
  },
  {
   "cell_type": "code",
   "execution_count": null,
   "id": "cbd6390a",
   "metadata": {},
   "outputs": [],
   "source": [
    "user_pref = [0]*len(lst)\n",
    "pref = preferences('Restaurants_Cuisines', 3.5, 3, 2, True, False, False, False, 'family_friendly')\n",
    "fill(pref)"
   ]
  },
  {
   "cell_type": "code",
   "execution_count": null,
   "id": "221c8bd5",
   "metadata": {},
   "outputs": [],
   "source": [
    "get_mapping(user_pref, lst)"
   ]
  },
  {
   "cell_type": "markdown",
   "id": "661cd2fd",
   "metadata": {},
   "source": [
    "# Building the enviroment "
   ]
  },
  {
   "cell_type": "code",
   "execution_count": 42,
   "id": "7f4bc361",
   "metadata": {},
   "outputs": [],
   "source": [
    "# class Travia_Env(Env):\n",
    "#     def __init__(self):\n",
    "#         business_space = spaces.Dict({\n",
    "#             \"stars\": spaces.Box(low=0, high=5, shape=(1,), dtype=np.float32),\n",
    "#             \"price_range\": spaces.Discrete(5),\n",
    "#             \"attributes_GoodForKids\": spaces.Discrete(2),\n",
    "#             \"attributes_Ambience_romantic\": spaces.Discrete(2),\n",
    "#             \"attributes_Ambience_intimate\": spaces.Discrete(2),\n",
    "#             \"attributes_Ambience_trendy\": spaces.Discrete(2),\n",
    "#             \"attributes_Ambience_classy\": spaces.Discrete(2),\n",
    "#             \"attributes_Ambience_casual\": spaces.Discrete(2),\n",
    "#             \"Bars_Night\": spaces.Discrete(2),\n",
    "#             \"Beauty_Health_Care\": spaces.Discrete(2),\n",
    "#             \"Cafes\": spaces.Discrete(2),\n",
    "#             \"GYM\": spaces.Discrete(2),\n",
    "#             \"Restaurants_Cuisines\": spaces.Discrete(2),\n",
    "#             \"Shops\": spaces.Discrete(2),\n",
    "#         })\n",
    "#         self.observation_space = spaces.Dict({\n",
    "#             \"user_pref\": spaces.Dict({\n",
    "#                     \"Bars_Night\": spaces.Discrete(2),\n",
    "#                     \"Beauty_Health_Care\": spaces.Discrete(2),\n",
    "#                     \"Cafes\": spaces.Discrete(2),\n",
    "#                     \"GYM\": spaces.Discrete(2),\n",
    "#                     \"Restaurants_Cuisines\": spaces.Discrete(2),\n",
    "#                     \"Shops\": spaces.Discrete(2),\n",
    "#                     \"attributes_Ambience_romantic\": spaces.Discrete(2),\n",
    "#                     \"attributes_Ambience_intimate\": spaces.Discrete(2),\n",
    "#                     \"attributes_GoodForKids\": spaces.Discrete(2),\n",
    "#                     \"star\": spaces.Box(low=0, high=5, shape=(1,), dtype=np.float32),\n",
    "#                     \"price_range\": spaces.Discrete(5),\n",
    "#                     \"trendy\": spaces.Discrete(2),\n",
    "#                     \"classy\": spaces.Discrete(2),\n",
    "#                     \"touristy\": spaces.Discrete(2),\n",
    "#                     \"casual\": spaces.Discrete(2),\n",
    "#                 }),\n",
    "#             \"business_data\": spaces.Sequence(business_space)\n",
    "#         })\n",
    "#         self.action_space = spaces.Box(low=0, high=1, shape=(1,15), dtype=np.float32)\n",
    "#     def render(self):\n",
    "#         pass\n",
    "#     def step(self, action):\n",
    "#         pass\n",
    "#     def reset(self):\n",
    "#         pass"
   ]
  },
  {
   "cell_type": "code",
   "execution_count": 47,
   "id": "a07fbe53",
   "metadata": {},
   "outputs": [],
   "source": [
    "from gym import Env\n",
    "from gym.spaces import Dict, Box, Discrete, Sequence\n",
    "import numpy as np\n",
    "from sklearn.metrics.pairwise import cosine_similarity\n",
    "import pandas as pd\n",
    "\n",
    "class Travia_Env(Env):\n",
    "    def __init__(self, dataset_path, k_days):\n",
    "        # Load the dataset\n",
    "        self.df = pd.read_csv(dataset_path)\n",
    "        self.k_days = k_days\n",
    "\n",
    "        # Define features used for cosine similarity\n",
    "        self.feature_cols = [\n",
    "            \"stars\",\n",
    "            \"attributes_RestaurantsPriceRange2\",\n",
    "            \"attributes_GoodForKids\",\n",
    "            \"attributes_Ambience_touristy\",\n",
    "            \"attributes_Ambience_romantic\",\n",
    "            \"attributes_Ambience_intimate\",\n",
    "            \"attributes_Ambience_trendy\",\n",
    "            \"attributes_Ambience_classy\",\n",
    "            \"attributes_Ambience_casual\"\n",
    "        ]\n",
    "        self.num_features = len(self.feature_cols)  # 9 features\n",
    "\n",
    "        # Category columns for filtering\n",
    "        self.category_cols = [\n",
    "            \"Bars_Night\", \"Beauty_Health_Care\", \"Cafes\", \"GYM\",\n",
    "            \"Restaurants_Cuisines\", \"Shops\"\n",
    "        ]\n",
    "\n",
    "        # Define business space (subset of dataset columns)\n",
    "        business_space = spaces.Dict({\n",
    "            \"stars\": spaces.Box(low=0, high=5, shape=(1,), dtype=np.float32),\n",
    "            \"attributes_RestaurantsPriceRange2\": spaces.Discrete(5),  # 0-4 (0 if missing)\n",
    "            \"attributes_GoodForKids\": spaces.Discrete(2),\n",
    "            \"attributes_Ambience_touristy\": spaces.Discrete(2),\n",
    "            \"attributes_Ambience_romantic\": spaces.Discrete(2),\n",
    "            \"attributes_Ambience_intimate\": spaces.Discrete(2),\n",
    "            \"attributes_Ambience_trendy\": spaces.Discrete(2),\n",
    "            \"attributes_Ambience_classy\": spaces.Discrete(2),\n",
    "            \"attributes_Ambience_casual\": spaces.Discrete(2),\n",
    "            \"Bars_Night\": spaces.Discrete(2),\n",
    "            \"Beauty_Health_Care\": spaces.Discrete(2),\n",
    "            \"Cafes\": spaces.Discrete(2),\n",
    "            \"GYM\": spaces.Discrete(2),\n",
    "            \"Restaurants_Cuisines\": spaces.Discrete(2),\n",
    "            \"Shops\": spaces.Discrete(2),\n",
    "        })\n",
    "\n",
    "        # Observation space\n",
    "        self.observation_space = spaces.Dict({\n",
    "            \"user_pref\": spaces.Dict({\n",
    "                \"category\": spaces.Discrete(6),  # Index of category_cols\n",
    "                \"min_stars\": spaces.Discrete(5, start=1),  # 1-5\n",
    "                \"price_range\": spaces.Discrete(4, start=1),  # 1-4\n",
    "                \"ambience\": spaces.Discrete(4),  # 0: touristy, 1: trendy, 2: classy, 3: casual\n",
    "                \"intimate_or_family\": spaces.Discrete(3)  # 0: romantic, 1: intimate, 2: GoodForKids\n",
    "            }),\n",
    "            \"business_data\": spaces.Sequence(business_space),\n",
    "        })\n",
    "\n",
    "        # Action space: Weight vector for features (0 to 1)\n",
    "        self.action_space = spaces.Box(\n",
    "            low=0.0,\n",
    "            high=1.0,\n",
    "            shape=(self.num_features,),  # One weight per feature\n",
    "            dtype=np.float32\n",
    "        )\n",
    "\n",
    "    def _business_to_vector(self, business):\n",
    "        \"\"\"Convert a business dict to a vector for cosine similarity.\"\"\"\n",
    "        return np.array([\n",
    "            business[\"stars\"][0],\n",
    "            business[\"attributes_RestaurantsPriceRange2\"],\n",
    "            business[\"attributes_GoodForKids\"],\n",
    "            business[\"attributes_Ambience_touristy\"],\n",
    "            business[\"attributes_Ambience_romantic\"],\n",
    "            business[\"attributes_Ambience_intimate\"],\n",
    "            business[\"attributes_Ambience_trendy\"],\n",
    "            business[\"attributes_Ambience_classy\"],\n",
    "            business[\"attributes_Ambience_casual\"]\n",
    "        ], dtype=np.float32)\n",
    "\n",
    "    def _pref_to_target_vector(self):\n",
    "        \"\"\"Convert user preferences to a target vector for reward calculation.\"\"\"\n",
    "        target = np.zeros(self.num_features, dtype=np.float32)\n",
    "        target[0] = self.user_pref[\"min_stars\"]  # stars\n",
    "        target[1] = self.user_pref[\"price_range\"]  # price range\n",
    "        if self.user_pref[\"category\"] in [2, 4]:  # Cafes or Restaurants_Cuisines\n",
    "            if self.user_pref[\"intimate_or_family\"] == 0:  # romantic\n",
    "                target[4] = 1.0\n",
    "            elif self.user_pref[\"intimate_or_family\"] == 1:  # intimate\n",
    "                target[5] = 1.0\n",
    "            elif self.user_pref[\"intimate_or_family\"] == 2:  # GoodForKids\n",
    "                target[2] = 1.0\n",
    "        ambience_idx = {\n",
    "            0: 3,  # touristy\n",
    "            1: 6,  # trendy\n",
    "            2: 7,  # classy\n",
    "            3: 8   # casual\n",
    "        }[self.user_pref[\"ambience\"]]\n",
    "        target[ambience_idx] = 1.0\n",
    "        return target\n",
    "\n",
    "    def reset(self, user_pref):\n",
    "        \"\"\"Reset the environment with new user preferences.\"\"\"\n",
    "        self.user_pref = user_pref\n",
    "        category_idx = user_pref[\"category\"]\n",
    "        category = self.category_cols[category_idx]\n",
    "        min_stars = user_pref[\"min_stars\"]\n",
    "\n",
    "        # Filter businesses by category and min stars\n",
    "        filtered_df = self.df[\n",
    "            (self.df[category] == 1) & (self.df[\"stars\"] >= min_stars)\n",
    "        ].fillna(0)  # Replace NaN with 0 for missing attributes\n",
    "        self.businesses = [row.to_dict() for _, row in filtered_df.iterrows()]\n",
    "        return self._get_obs()\n",
    "\n",
    "    def step(self, action):\n",
    "        \"\"\"Take a step: generate weights, score businesses, select top k_days.\"\"\"\n",
    "        weights = action.reshape(1, -1)  # Shape: (1, num_features)\n",
    "\n",
    "        # Convert businesses to vectors\n",
    "        business_vectors = np.array([self._business_to_vector(b) for b in self.businesses])\n",
    "\n",
    "        # Compute cosine similarity\n",
    "        scores = cosine_similarity(weights, business_vectors).flatten()\n",
    "\n",
    "        # Select top k_days businesses\n",
    "        top_k_indices = np.argsort(scores)[-self.k_days:]\n",
    "        selected_businesses = [self.businesses[i] for i in top_k_indices]\n",
    "\n",
    "        # Compute reward\n",
    "        reward = self._compute_reward(selected_businesses)\n",
    "\n",
    "        # Done after one step\n",
    "        done = True\n",
    "        info = {\"selected_businesses\": selected_businesses, \"scores\": scores[top_k_indices]}\n",
    "        return self._get_obs(), reward, done, info\n",
    "\n",
    "    def _get_obs(self):\n",
    "        return {\n",
    "            \"user_pref\": self.user_pref,\n",
    "            \"business_data\": self.businesses\n",
    "        }\n",
    "\n",
    "    def _compute_reward(self, selected_businesses):\n",
    "        \"\"\"Reward based on how well selections match user preferences.\"\"\"\n",
    "        target_vector = self._pref_to_target_vector().reshape(1, -1)\n",
    "        selected_vectors = np.array([self._business_to_vector(b) for b in selected_businesses])\n",
    "        similarities = cosine_similarity(target_vector, selected_vectors).flatten()\n",
    "        return np.mean(similarities)"
   ]
  },
  {
   "cell_type": "code",
   "execution_count": 49,
   "id": "3c432ae5",
   "metadata": {},
   "outputs": [],
   "source": [
    "path = \"C:/Users/AbdulRahman/Desktop/gradproj/Grad-Project/Implementation/AI/DataSet/lateset Dataset Main/pre_processed_df_without.csv\"     \n",
    "env = Travia_Env(path,3) "
   ]
  },
  {
   "cell_type": "code",
   "execution_count": 54,
   "id": "df02e556",
   "metadata": {
    "scrolled": false
   },
   "outputs": [
    {
     "data": {
      "text/plain": [
       "OrderedDict([('business_data',\n",
       "              (OrderedDict([('Bars_Night', 1),\n",
       "                            ('Beauty_Health_Care', 1),\n",
       "                            ('Cafes', 0),\n",
       "                            ('GYM', 0),\n",
       "                            ('Restaurants_Cuisines', 0),\n",
       "                            ('Shops', 1),\n",
       "                            ('attributes_Ambience_casual', 0),\n",
       "                            ('attributes_Ambience_classy', 0),\n",
       "                            ('attributes_Ambience_intimate', 0),\n",
       "                            ('attributes_Ambience_romantic', 0),\n",
       "                            ('attributes_Ambience_touristy', 1),\n",
       "                            ('attributes_Ambience_trendy', 1),\n",
       "                            ('attributes_GoodForKids', 1),\n",
       "                            ('attributes_RestaurantsPriceRange2', 4),\n",
       "                            ('stars', array([3.8269427], dtype=float32))]),\n",
       "               OrderedDict([('Bars_Night', 1),\n",
       "                            ('Beauty_Health_Care', 0),\n",
       "                            ('Cafes', 0),\n",
       "                            ('GYM', 1),\n",
       "                            ('Restaurants_Cuisines', 1),\n",
       "                            ('Shops', 0),\n",
       "                            ('attributes_Ambience_casual', 0),\n",
       "                            ('attributes_Ambience_classy', 0),\n",
       "                            ('attributes_Ambience_intimate', 0),\n",
       "                            ('attributes_Ambience_romantic', 1),\n",
       "                            ('attributes_Ambience_touristy', 0),\n",
       "                            ('attributes_Ambience_trendy', 0),\n",
       "                            ('attributes_GoodForKids', 1),\n",
       "                            ('attributes_RestaurantsPriceRange2', 4),\n",
       "                            ('stars', array([0.08822977], dtype=float32))]),\n",
       "               OrderedDict([('Bars_Night', 1),\n",
       "                            ('Beauty_Health_Care', 1),\n",
       "                            ('Cafes', 0),\n",
       "                            ('GYM', 1),\n",
       "                            ('Restaurants_Cuisines', 0),\n",
       "                            ('Shops', 1),\n",
       "                            ('attributes_Ambience_casual', 0),\n",
       "                            ('attributes_Ambience_classy', 0),\n",
       "                            ('attributes_Ambience_intimate', 1),\n",
       "                            ('attributes_Ambience_romantic', 0),\n",
       "                            ('attributes_Ambience_touristy', 1),\n",
       "                            ('attributes_Ambience_trendy', 0),\n",
       "                            ('attributes_GoodForKids', 0),\n",
       "                            ('attributes_RestaurantsPriceRange2', 1),\n",
       "                            ('stars', array([1.9666427], dtype=float32))]),\n",
       "               OrderedDict([('Bars_Night', 1),\n",
       "                            ('Beauty_Health_Care', 1),\n",
       "                            ('Cafes', 1),\n",
       "                            ('GYM', 1),\n",
       "                            ('Restaurants_Cuisines', 1),\n",
       "                            ('Shops', 1),\n",
       "                            ('attributes_Ambience_casual', 0),\n",
       "                            ('attributes_Ambience_classy', 1),\n",
       "                            ('attributes_Ambience_intimate', 1),\n",
       "                            ('attributes_Ambience_romantic', 0),\n",
       "                            ('attributes_Ambience_touristy', 1),\n",
       "                            ('attributes_Ambience_trendy', 0),\n",
       "                            ('attributes_GoodForKids', 0),\n",
       "                            ('attributes_RestaurantsPriceRange2', 3),\n",
       "                            ('stars', array([0.7484928], dtype=float32))]),\n",
       "               OrderedDict([('Bars_Night', 0),\n",
       "                            ('Beauty_Health_Care', 0),\n",
       "                            ('Cafes', 0),\n",
       "                            ('GYM', 1),\n",
       "                            ('Restaurants_Cuisines', 0),\n",
       "                            ('Shops', 1),\n",
       "                            ('attributes_Ambience_casual', 0),\n",
       "                            ('attributes_Ambience_classy', 1),\n",
       "                            ('attributes_Ambience_intimate', 1),\n",
       "                            ('attributes_Ambience_romantic', 0),\n",
       "                            ('attributes_Ambience_touristy', 1),\n",
       "                            ('attributes_Ambience_trendy', 1),\n",
       "                            ('attributes_GoodForKids', 1),\n",
       "                            ('attributes_RestaurantsPriceRange2', 1),\n",
       "                            ('stars', array([0.88021606], dtype=float32))]),\n",
       "               OrderedDict([('Bars_Night', 0),\n",
       "                            ('Beauty_Health_Care', 0),\n",
       "                            ('Cafes', 0),\n",
       "                            ('GYM', 0),\n",
       "                            ('Restaurants_Cuisines', 1),\n",
       "                            ('Shops', 0),\n",
       "                            ('attributes_Ambience_casual', 1),\n",
       "                            ('attributes_Ambience_classy', 1),\n",
       "                            ('attributes_Ambience_intimate', 1),\n",
       "                            ('attributes_Ambience_romantic', 1),\n",
       "                            ('attributes_Ambience_touristy', 0),\n",
       "                            ('attributes_Ambience_trendy', 1),\n",
       "                            ('attributes_GoodForKids', 1),\n",
       "                            ('attributes_RestaurantsPriceRange2', 1),\n",
       "                            ('stars', array([0.17938374], dtype=float32))]),\n",
       "               OrderedDict([('Bars_Night', 0),\n",
       "                            ('Beauty_Health_Care', 0),\n",
       "                            ('Cafes', 0),\n",
       "                            ('GYM', 1),\n",
       "                            ('Restaurants_Cuisines', 0),\n",
       "                            ('Shops', 0),\n",
       "                            ('attributes_Ambience_casual', 1),\n",
       "                            ('attributes_Ambience_classy', 1),\n",
       "                            ('attributes_Ambience_intimate', 0),\n",
       "                            ('attributes_Ambience_romantic', 0),\n",
       "                            ('attributes_Ambience_touristy', 0),\n",
       "                            ('attributes_Ambience_trendy', 0),\n",
       "                            ('attributes_GoodForKids', 1),\n",
       "                            ('attributes_RestaurantsPriceRange2', 4),\n",
       "                            ('stars', array([2.6474352], dtype=float32))]))),\n",
       "             ('user_pref',\n",
       "              OrderedDict([('ambience', 2),\n",
       "                           ('category', 5),\n",
       "                           ('intimate_or_family', 2),\n",
       "                           ('min_stars', 3),\n",
       "                           ('price_range', 1)]))])"
      ]
     },
     "execution_count": 54,
     "metadata": {},
     "output_type": "execute_result"
    }
   ],
   "source": [
    "env.observation_space.sample()"
   ]
  },
  {
   "cell_type": "code",
   "execution_count": 55,
   "id": "5d3467ae",
   "metadata": {},
   "outputs": [
    {
     "data": {
      "text/plain": [
       "array([0.4452875 , 0.1437275 , 0.28770465, 0.90674895, 0.5641847 ,\n",
       "       0.37494993, 0.01858635, 0.36591086, 0.918976  ], dtype=float32)"
      ]
     },
     "execution_count": 55,
     "metadata": {},
     "output_type": "execute_result"
    }
   ],
   "source": [
    "env.action_space.sample()"
   ]
  },
  {
   "cell_type": "code",
   "execution_count": 64,
   "id": "3a4e8303",
   "metadata": {
    "scrolled": true
   },
   "outputs": [
    {
     "name": "stderr",
     "output_type": "stream",
     "text": [
      "C:\\Users\\AbdulRahman\\AppData\\Roaming\\Python\\Python313\\site-packages\\stable_baselines3\\common\\env_checker.py:462: UserWarning: We recommend you to use a symmetric and normalized Box action space (range=[-1, 1]) cf. https://stable-baselines3.readthedocs.io/en/master/guide/rl_tips.html\n",
      "  warnings.warn(\n"
     ]
    },
    {
     "name": "stdout",
     "output_type": "stream",
     "text": [
      "Using cuda device\n"
     ]
    },
    {
     "name": "stderr",
     "output_type": "stream",
     "text": [
      "C:\\Users\\AbdulRahman\\AppData\\Roaming\\Python\\Python313\\site-packages\\stable_baselines3\\common\\on_policy_algorithm.py:150: UserWarning: You are trying to run PPO on the GPU, but it is primarily intended to run on the CPU when not using a CNN policy (you are using ActorCriticPolicy which should be a MlpPolicy). See https://github.com/DLR-RM/stable-baselines3/issues/1245 for more info. You can pass `device='cpu'` or `export CUDA_VISIBLE_DEVICES=` to force using the CPU.Note: The model will train, but the GPU utilization will be poor and the training might take longer than on CPU.\n",
      "  warnings.warn(\n"
     ]
    },
    {
     "name": "stdout",
     "output_type": "stream",
     "text": [
      "-----------------------------\n",
      "| time/              |      |\n",
      "|    fps             | 8    |\n",
      "|    iterations      | 1    |\n",
      "|    time_elapsed    | 228  |\n",
      "|    total_timesteps | 2048 |\n",
      "-----------------------------\n",
      "-----------------------------------------\n",
      "| time/                   |             |\n",
      "|    fps                  | 8           |\n",
      "|    iterations           | 2           |\n",
      "|    time_elapsed         | 466         |\n",
      "|    total_timesteps      | 4096        |\n",
      "| train/                  |             |\n",
      "|    approx_kl            | 0.019075137 |\n",
      "|    clip_fraction        | 0.235       |\n",
      "|    clip_range           | 0.2         |\n",
      "|    entropy_loss         | -12.7       |\n",
      "|    explained_variance   | -3.05       |\n",
      "|    learning_rate        | 0.0003      |\n",
      "|    loss                 | -0.0469     |\n",
      "|    n_updates            | 10          |\n",
      "|    policy_gradient_loss | -0.0242     |\n",
      "|    std                  | 0.994       |\n",
      "|    value_loss           | 0.0308      |\n",
      "-----------------------------------------\n",
      "----------------------------------------\n",
      "| time/                   |            |\n",
      "|    fps                  | 8          |\n",
      "|    iterations           | 3          |\n",
      "|    time_elapsed         | 694        |\n",
      "|    total_timesteps      | 6144       |\n",
      "| train/                  |            |\n",
      "|    approx_kl            | 0.03958304 |\n",
      "|    clip_fraction        | 0.378      |\n",
      "|    clip_range           | 0.2        |\n",
      "|    entropy_loss         | -12.7      |\n",
      "|    explained_variance   | 0.6        |\n",
      "|    learning_rate        | 0.0003     |\n",
      "|    loss                 | -0.065     |\n",
      "|    n_updates            | 20         |\n",
      "|    policy_gradient_loss | -0.053     |\n",
      "|    std                  | 0.985      |\n",
      "|    value_loss           | 0.00505    |\n",
      "----------------------------------------\n",
      "----------------------------------------\n",
      "| time/                   |            |\n",
      "|    fps                  | 8          |\n",
      "|    iterations           | 4          |\n",
      "|    time_elapsed         | 938        |\n",
      "|    total_timesteps      | 8192       |\n",
      "| train/                  |            |\n",
      "|    approx_kl            | 0.05534581 |\n",
      "|    clip_fraction        | 0.415      |\n",
      "|    clip_range           | 0.2        |\n",
      "|    entropy_loss         | -12.6      |\n",
      "|    explained_variance   | 0.633      |\n",
      "|    learning_rate        | 0.0003     |\n",
      "|    loss                 | -0.0685    |\n",
      "|    n_updates            | 30         |\n",
      "|    policy_gradient_loss | -0.0679    |\n",
      "|    std                  | 0.976      |\n",
      "|    value_loss           | 0.00428    |\n",
      "----------------------------------------\n",
      "----------------------------------------\n",
      "| time/                   |            |\n",
      "|    fps                  | 8          |\n",
      "|    iterations           | 5          |\n",
      "|    time_elapsed         | 1161       |\n",
      "|    total_timesteps      | 10240      |\n",
      "| train/                  |            |\n",
      "|    approx_kl            | 0.05846829 |\n",
      "|    clip_fraction        | 0.394      |\n",
      "|    clip_range           | 0.2        |\n",
      "|    entropy_loss         | -12.5      |\n",
      "|    explained_variance   | 0.586      |\n",
      "|    learning_rate        | 0.0003     |\n",
      "|    loss                 | -0.088     |\n",
      "|    n_updates            | 40         |\n",
      "|    policy_gradient_loss | -0.0662    |\n",
      "|    std                  | 0.964      |\n",
      "|    value_loss           | 0.00356    |\n",
      "----------------------------------------\n"
     ]
    },
    {
     "ename": "TypeError",
     "evalue": "ObservationWrapper.reset() got an unexpected keyword argument 'user_pref'",
     "output_type": "error",
     "traceback": [
      "\u001b[1;31m---------------------------------------------------------------------------\u001b[0m",
      "\u001b[1;31mTypeError\u001b[0m                                 Traceback (most recent call last)",
      "Cell \u001b[1;32mIn[64], line 234\u001b[0m\n\u001b[0;32m    225\u001b[0m user_pref \u001b[38;5;241m=\u001b[39m {\n\u001b[0;32m    226\u001b[0m     \u001b[38;5;124m\"\u001b[39m\u001b[38;5;124mcategory\u001b[39m\u001b[38;5;124m\"\u001b[39m: \u001b[38;5;241m2\u001b[39m,  \u001b[38;5;66;03m# Cafes\u001b[39;00m\n\u001b[0;32m    227\u001b[0m     \u001b[38;5;124m\"\u001b[39m\u001b[38;5;124mmin_stars\u001b[39m\u001b[38;5;124m\"\u001b[39m: \u001b[38;5;241m4\u001b[39m,  \u001b[38;5;66;03m# 4+ stars\u001b[39;00m\n\u001b[1;32m   (...)\u001b[0m\n\u001b[0;32m    230\u001b[0m     \u001b[38;5;124m\"\u001b[39m\u001b[38;5;124mintimate_or_family\u001b[39m\u001b[38;5;124m\"\u001b[39m: \u001b[38;5;241m2\u001b[39m  \u001b[38;5;66;03m# GoodForKids\u001b[39;00m\n\u001b[0;32m    231\u001b[0m }\n\u001b[0;32m    233\u001b[0m eval_env \u001b[38;5;241m=\u001b[39m Travia_Env(dataset_path, k_days)\n\u001b[1;32m--> 234\u001b[0m \u001b[43mevaluate_model\u001b[49m\u001b[43m(\u001b[49m\u001b[43mmodel\u001b[49m\u001b[43m,\u001b[49m\u001b[43m \u001b[49m\u001b[43meval_env\u001b[49m\u001b[43m,\u001b[49m\u001b[43m \u001b[49m\u001b[43muser_pref\u001b[49m\u001b[43m)\u001b[49m\n",
      "Cell \u001b[1;32mIn[64], line 210\u001b[0m, in \u001b[0;36mevaluate_model\u001b[1;34m(model, env, user_pref, n_episodes)\u001b[0m\n\u001b[0;32m    208\u001b[0m rewards \u001b[38;5;241m=\u001b[39m []\n\u001b[0;32m    209\u001b[0m \u001b[38;5;28;01mfor\u001b[39;00m _ \u001b[38;5;129;01min\u001b[39;00m \u001b[38;5;28mrange\u001b[39m(n_episodes):\n\u001b[1;32m--> 210\u001b[0m     obs, _ \u001b[38;5;241m=\u001b[39m \u001b[43menv\u001b[49m\u001b[38;5;241;43m.\u001b[39;49m\u001b[43mreset\u001b[49m\u001b[43m(\u001b[49m\u001b[43muser_pref\u001b[49m\u001b[38;5;241;43m=\u001b[39;49m\u001b[43muser_pref\u001b[49m\u001b[43m)\u001b[49m\n\u001b[0;32m    211\u001b[0m     action, _ \u001b[38;5;241m=\u001b[39m model\u001b[38;5;241m.\u001b[39mpredict(obs, deterministic\u001b[38;5;241m=\u001b[39m\u001b[38;5;28;01mTrue\u001b[39;00m)\n\u001b[0;32m    212\u001b[0m     obs, reward, done, truncated, info \u001b[38;5;241m=\u001b[39m env\u001b[38;5;241m.\u001b[39mstep(action)\n",
      "\u001b[1;31mTypeError\u001b[0m: ObservationWrapper.reset() got an unexpected keyword argument 'user_pref'"
     ]
    }
   ],
   "source": []
  },
  {
   "cell_type": "code",
   "execution_count": 65,
   "id": "92e864ec",
   "metadata": {},
   "outputs": [],
   "source": [
    "def evaluate_model(model, env, user_pref, n_episodes=5):\n",
    "    env = FlattenObservation(env)\n",
    "    rewards = []\n",
    "    for _ in range(n_episodes):\n",
    "        obs, _ = env.reset(user_pref=user_pref)\n",
    "        action, _ = model.predict(obs, deterministic=True)\n",
    "        obs, reward, done, truncated, info = env.step(action)\n",
    "        rewards.append(reward)\n",
    "        print(f\"Selected businesses: {[b['name'] for b in info['selected_businesses']]}\")\n",
    "        print(f\"Reward: {reward}\")\n",
    "    print(f\"Average reward over {n_episodes} episodes: {np.mean(rewards)}\")"
   ]
  },
  {
   "cell_type": "code",
   "execution_count": 67,
   "id": "095cf68f",
   "metadata": {},
   "outputs": [
    {
     "ename": "TypeError",
     "evalue": "ObservationWrapper.reset() got an unexpected keyword argument 'user_pref'",
     "output_type": "error",
     "traceback": [
      "\u001b[1;31m---------------------------------------------------------------------------\u001b[0m",
      "\u001b[1;31mTypeError\u001b[0m                                 Traceback (most recent call last)",
      "Cell \u001b[1;32mIn[67], line 9\u001b[0m\n\u001b[0;32m      1\u001b[0m user_pref \u001b[38;5;241m=\u001b[39m {\n\u001b[0;32m      2\u001b[0m         \u001b[38;5;124m\"\u001b[39m\u001b[38;5;124mcategory\u001b[39m\u001b[38;5;124m\"\u001b[39m: \u001b[38;5;241m2\u001b[39m,  \u001b[38;5;66;03m# Cafes\u001b[39;00m\n\u001b[0;32m      3\u001b[0m         \u001b[38;5;124m\"\u001b[39m\u001b[38;5;124mmin_stars\u001b[39m\u001b[38;5;124m\"\u001b[39m: \u001b[38;5;241m4\u001b[39m,  \u001b[38;5;66;03m# 4+ stars\u001b[39;00m\n\u001b[1;32m   (...)\u001b[0m\n\u001b[0;32m      6\u001b[0m         \u001b[38;5;124m\"\u001b[39m\u001b[38;5;124mintimate_or_family\u001b[39m\u001b[38;5;124m\"\u001b[39m: \u001b[38;5;241m2\u001b[39m  \u001b[38;5;66;03m# GoodForKids\u001b[39;00m\n\u001b[0;32m      7\u001b[0m     }\n\u001b[0;32m      8\u001b[0m eval_env \u001b[38;5;241m=\u001b[39m Travia_Env(dataset_path, k_days)\n\u001b[1;32m----> 9\u001b[0m \u001b[43mevaluate_model\u001b[49m\u001b[43m(\u001b[49m\u001b[43mmodel\u001b[49m\u001b[43m,\u001b[49m\u001b[43m \u001b[49m\u001b[43meval_env\u001b[49m\u001b[43m,\u001b[49m\u001b[43m \u001b[49m\u001b[43muser_pref\u001b[49m\u001b[43m)\u001b[49m\n",
      "Cell \u001b[1;32mIn[65], line 5\u001b[0m, in \u001b[0;36mevaluate_model\u001b[1;34m(model, env, user_pref, n_episodes)\u001b[0m\n\u001b[0;32m      3\u001b[0m rewards \u001b[38;5;241m=\u001b[39m []\n\u001b[0;32m      4\u001b[0m \u001b[38;5;28;01mfor\u001b[39;00m _ \u001b[38;5;129;01min\u001b[39;00m \u001b[38;5;28mrange\u001b[39m(n_episodes):\n\u001b[1;32m----> 5\u001b[0m     obs, _ \u001b[38;5;241m=\u001b[39m \u001b[43menv\u001b[49m\u001b[38;5;241;43m.\u001b[39;49m\u001b[43mreset\u001b[49m\u001b[43m(\u001b[49m\u001b[43muser_pref\u001b[49m\u001b[38;5;241;43m=\u001b[39;49m\u001b[43muser_pref\u001b[49m\u001b[43m)\u001b[49m\n\u001b[0;32m      6\u001b[0m     action, _ \u001b[38;5;241m=\u001b[39m model\u001b[38;5;241m.\u001b[39mpredict(obs, deterministic\u001b[38;5;241m=\u001b[39m\u001b[38;5;28;01mTrue\u001b[39;00m)\n\u001b[0;32m      7\u001b[0m     obs, reward, done, truncated, info \u001b[38;5;241m=\u001b[39m env\u001b[38;5;241m.\u001b[39mstep(action)\n",
      "\u001b[1;31mTypeError\u001b[0m: ObservationWrapper.reset() got an unexpected keyword argument 'user_pref'"
     ]
    }
   ],
   "source": [
    "user_pref = {\n",
    "        \"category\": 2,  # Cafes\n",
    "        \"min_stars\": 4,  # 4+ stars\n",
    "        \"price_range\": 2,  # $$\n",
    "        \"ambience\": 3,  # casual\n",
    "        \"intimate_or_family\": 2  # GoodForKids\n",
    "    }\n",
    "eval_env = Travia_Env(dataset_path, k_days)\n",
    "evaluate_model(model, eval_env, user_pref)"
   ]
  }
 ],
 "metadata": {
  "kernelspec": {
   "display_name": "Python 3.13 (CUDA)",
   "language": "python",
   "name": "python313"
  },
  "language_info": {
   "codemirror_mode": {
    "name": "ipython",
    "version": 3
   },
   "file_extension": ".py",
   "mimetype": "text/x-python",
   "name": "python",
   "nbconvert_exporter": "python",
   "pygments_lexer": "ipython3",
   "version": "3.13.2"
  }
 },
 "nbformat": 4,
 "nbformat_minor": 5
}
