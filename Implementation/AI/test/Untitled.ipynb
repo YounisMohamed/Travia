{
 "cells": [
  {
   "cell_type": "code",
   "execution_count": 2,
   "id": "229b584a",
   "metadata": {},
   "outputs": [],
   "source": [
    "import numpy as np\n",
    "import pandas as pd"
   ]
  },
  {
   "cell_type": "code",
   "execution_count": 5,
   "id": "175587e0",
   "metadata": {},
   "outputs": [],
   "source": [
    "df = pd.read_csv(\"C:/Users/AbdulRahman/Desktop/grad_folders/MAIN_GRAD/Travia/Implementation/AI/DataSet/lateset Dataset Main/pre_processed_df_without.csv\")"
   ]
  },
  {
   "cell_type": "code",
   "execution_count": 6,
   "id": "e1797dea",
   "metadata": {},
   "outputs": [
    {
     "data": {
      "text/plain": [
       "Index(['latitude', 'longitude', 'stars', 'review_count',\n",
       "       'attributes_RestaurantsPriceRange2', 'attributes_GoodForKids',\n",
       "       'attributes_Ambience_touristy', 'attributes_Ambience_romantic',\n",
       "       'attributes_Ambience_intimate', 'attributes_Ambience_trendy',\n",
       "       'attributes_Ambience_classy', 'attributes_Ambience_casual',\n",
       "       'Bars_Night', 'Beauty_Health_Care', 'Cafes', 'GYM',\n",
       "       'Restaurants_Cuisines', 'Shops'],\n",
       "      dtype='object')"
      ]
     },
     "execution_count": 6,
     "metadata": {},
     "output_type": "execute_result"
    }
   ],
   "source": [
    "df.columns"
   ]
  }
 ],
 "metadata": {
  "kernelspec": {
   "display_name": "Python 3.13 (CUDA)",
   "language": "python",
   "name": "python313"
  },
  "language_info": {
   "codemirror_mode": {
    "name": "ipython",
    "version": 3
   },
   "file_extension": ".py",
   "mimetype": "text/x-python",
   "name": "python",
   "nbconvert_exporter": "python",
   "pygments_lexer": "ipython3",
   "version": "3.13.2"
  }
 },
 "nbformat": 4,
 "nbformat_minor": 5
}
