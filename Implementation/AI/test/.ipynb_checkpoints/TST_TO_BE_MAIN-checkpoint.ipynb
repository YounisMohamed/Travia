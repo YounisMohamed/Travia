{
 "cells": [
  {
   "cell_type": "code",
   "execution_count": null,
   "id": "a005f8fd",
   "metadata": {},
   "outputs": [],
   "source": [
    "import pandas as pd\n",
    "import numpy as np\n",
    "import os\n",
    "\n",
    "import gymnasium\n",
    "# from gym import Env\n",
    "from gymnasium.spaces import Discrete, Dict,  Sequence, Box, MultiBinary\n",
    "\n",
    "from enum import Enum\n",
    "\n",
    "from stable_baselines3 import PPO\n",
    "from stable_baselines3.common.env_checker import check_env\n",
    "from stable_baselines3.common.callbacks import BaseCallback\n",
    "\n",
    "from sklearn.metrics.pairwise import cosine_similarity"
   ]
  },
  {
   "cell_type": "code",
   "execution_count": null,
   "id": "2874c207",
   "metadata": {},
   "outputs": [],
   "source": [
    "df = pd.read_csv(\"C:/Users/AbdulRahman/Desktop/gradproj/Grad-Project/Implementation/AI/DataSet/lateset Dataset Main/pre_processed_df_with.csv\")"
   ]
  },
  {
   "cell_type": "code",
   "execution_count": null,
   "id": "d5809fb3",
   "metadata": {},
   "outputs": [],
   "source": [
    "df.head()"
   ]
  },
  {
   "cell_type": "markdown",
   "id": "1f4bb81e",
   "metadata": {},
   "source": [
    "# Feature Selection"
   ]
  },
  {
   "cell_type": "code",
   "execution_count": null,
   "id": "ff501dff",
   "metadata": {},
   "outputs": [],
   "source": [
    "final = df[\n",
    "    [\n",
    "            \"stars\",\n",
    "            \"attributes_RestaurantsPriceRange2\",\n",
    "            \"attributes_GoodForKids\",\n",
    "            \"attributes_Ambience_touristy\",\n",
    "            \"attributes_Ambience_romantic\",\n",
    "            \"attributes_Ambience_intimate\",\n",
    "            \"attributes_Ambience_trendy\",\n",
    "            \"attributes_Ambience_classy\",\n",
    "            \"attributes_Ambience_casual\",\n",
    "            \"Bars_Night\",\n",
    "            \"Beauty_Health_Care\",\n",
    "            \"Cafes\",\n",
    "            \"GYM\",\n",
    "            \"Restaurants_Cuisines\",\n",
    "            \"Shops\"\n",
    "    ]\n",
    "]"
   ]
  }
 ],
 "metadata": {
  "kernelspec": {
   "display_name": "Python 3.13 (CUDA)",
   "language": "python",
   "name": "python313"
  },
  "language_info": {
   "codemirror_mode": {
    "name": "ipython",
    "version": 3
   },
   "file_extension": ".py",
   "mimetype": "text/x-python",
   "name": "python",
   "nbconvert_exporter": "python",
   "pygments_lexer": "ipython3",
   "version": "3.13.2"
  }
 },
 "nbformat": 4,
 "nbformat_minor": 5
}
