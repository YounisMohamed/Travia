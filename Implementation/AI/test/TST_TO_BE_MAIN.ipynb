{
 "cells": [
  {
   "cell_type": "markdown",
   "id": "c563184f",
   "metadata": {},
   "source": [
    "# Importing Libs"
   ]
  },
  {
   "cell_type": "code",
   "execution_count": 1,
   "id": "52560a2d",
   "metadata": {},
   "outputs": [],
   "source": [
    "import pandas as pd\n",
    "import numpy as np\n",
    "import os\n",
    "\n",
    "import gymnasium\n",
    "# from gym import Env\n",
    "from gymnasium.spaces import Discrete, Dict,  Sequence, Box, MultiBinary\n",
    "\n",
    "from enum import Enum\n",
    "\n",
    "from stable_baselines3 import PPO\n",
    "from stable_baselines3.common.env_checker import check_env\n",
    "from stable_baselines3.common.callbacks import BaseCallback\n",
    "\n",
    "from sklearn.metrics.pairwise import cosine_similarity"
   ]
  },
  {
   "cell_type": "code",
   "execution_count": 7,
   "id": "99dc466c",
   "metadata": {},
   "outputs": [
    {
     "data": {
      "text/plain": [
       "{'agent1': {'position': array([6.69763002, 9.06939025]),\n",
       "  'velocity': array([0.57876343, 0.59707456])},\n",
       " 'agent2': {'position': array([7.10756753, 5.30841066]),\n",
       "  'velocity': array([-0.88066963,  0.69256701])}}"
      ]
     },
     "execution_count": 7,
     "metadata": {},
     "output_type": "execute_result"
    }
   ],
   "source": [
    "observation_space = Dict({\n",
    "    'agent1': Dict({\n",
    "        'position': Box(low=0, high=10, shape=(2,), dtype=float),\n",
    "        'velocity': Box(low=-1, high=1, shape=(2,), dtype=float),\n",
    "    }),\n",
    "    'agent2': Dict({\n",
    "        'position': Box(low=0, high=10, shape=(2,), dtype=float),\n",
    "        'velocity': Box(low=-1, high=1, shape=(2,), dtype=float),\n",
    "    }),\n",
    "})"
   ]
  },
  {
   "cell_type": "code",
   "execution_count": 25,
   "id": "272555cf",
   "metadata": {},
   "outputs": [],
   "source": [
    "s = Box(\n",
    "                low=np.tile(np.array([0.0, 0.0, 0, 0, 0, 0, 0, 0, 0, 0, 0, 0, 0, 0, 0], dtype=np.float32), (4, 1)),\n",
    "                high=np.tile(np.array([5.0, 3.0, 1, 1, 1, 1, 1, 1, 1, 1, 1, 1, 1, 1, 1], dtype=np.float32), (4, 1)),\n",
    "                shape=(4, 15),\n",
    "                dtype=np.float32\n",
    "            )"
   ]
  },
  {
   "cell_type": "code",
   "execution_count": 43,
   "id": "a46f98e1",
   "metadata": {},
   "outputs": [
    {
     "data": {
      "text/plain": [
       "array([[3.750093  , 2.1917503 , 0.67606014, 0.74742854, 0.6806147 ,\n",
       "        0.7903431 , 0.94962245, 0.21334183, 0.7884452 , 0.38142616,\n",
       "        0.9077409 , 0.22624761, 0.17160405, 0.52813476, 0.62012315],\n",
       "       [3.4495099 , 2.4214327 , 0.58301353, 0.03406712, 0.72757477,\n",
       "        0.898974  , 0.37100732, 0.08875587, 0.06169442, 0.2710371 ,\n",
       "        0.94496644, 0.95791036, 0.34538138, 0.4238569 , 0.9476926 ],\n",
       "       [0.4912485 , 1.7714927 , 0.82405114, 0.8581617 , 0.4079374 ,\n",
       "        0.01459149, 0.05613265, 0.11691606, 0.02681535, 0.3879947 ,\n",
       "        0.117247  , 0.87918425, 0.6507222 , 0.04164007, 0.40855253],\n",
       "       [1.3974247 , 0.9814787 , 0.7517068 , 0.9618329 , 0.8163135 ,\n",
       "        0.47875577, 0.45422193, 0.3324125 , 0.6563544 , 0.7741481 ,\n",
       "        0.8174719 , 0.03596969, 0.9463957 , 0.07908114, 0.5274372 ]],\n",
       "      dtype=float32)"
      ]
     },
     "execution_count": 43,
     "metadata": {},
     "output_type": "execute_result"
    }
   ],
   "source": [
    "s.sample()"
   ]
  },
  {
   "cell_type": "code",
   "execution_count": 20,
   "id": "e8e3f36e",
   "metadata": {},
   "outputs": [
    {
     "data": {
      "text/plain": [
       "{'agent1': {'position': array([9.19956768, 5.74149911]),\n",
       "  'velocity': array([0.21864603, 0.20285114])},\n",
       " 'agent2': {'position': array([4.30410991, 2.85447221]),\n",
       "  'velocity': array([-0.83659027,  0.73316766])}}"
      ]
     },
     "execution_count": 20,
     "metadata": {},
     "output_type": "execute_result"
    }
   ],
   "source": [
    "observation_space.sample()"
   ]
  },
  {
   "cell_type": "code",
   "execution_count": null,
   "id": "42294902",
   "metadata": {},
   "outputs": [],
   "source": [
    "df = pd.read_csv(\"C:/Users/AbdulRahman/Desktop/gradproj/Grad-Project/Implementation/AI/DataSet/lateset Dataset Main/pre_processed_df_with.csv\")"
   ]
  },
  {
   "cell_type": "code",
   "execution_count": null,
   "id": "f2a70b2b",
   "metadata": {},
   "outputs": [],
   "source": [
    "df.head()"
   ]
  },
  {
   "cell_type": "markdown",
   "id": "6c62d799",
   "metadata": {},
   "source": [
    "## Feature Selection"
   ]
  },
  {
   "cell_type": "code",
   "execution_count": null,
   "id": "ded3678e",
   "metadata": {},
   "outputs": [],
   "source": [
    "final = df[\n",
    "    [\n",
    "            \"stars\",\n",
    "            \"attributes_RestaurantsPriceRange2\",\n",
    "            \"attributes_GoodForKids\",\n",
    "            \"attributes_Ambience_touristy\",\n",
    "            \"attributes_Ambience_romantic\",\n",
    "            \"attributes_Ambience_intimate\",\n",
    "            \"attributes_Ambience_trendy\",\n",
    "            \"attributes_Ambience_classy\",\n",
    "            \"attributes_Ambience_casual\",\n",
    "            \"Bars_Night\",\n",
    "            \"Beauty_Health_Care\",\n",
    "            \"Cafes\",\n",
    "            \"GYM\",\n",
    "            \"Restaurants_Cuisines\",\n",
    "            \"Shops\"\n",
    "    ]\n",
    "]"
   ]
  },
  {
   "cell_type": "code",
   "execution_count": null,
   "id": "3551065f",
   "metadata": {},
   "outputs": [],
   "source": [
    "# user pref shape\n",
    "user_pref = {\n",
    "    \"category\": 2,\n",
    "    \"min_stars\": 3.5,\n",
    "    \"price_range\": 3,\n",
    "    \"attributes_Ambience_touristy\": 0,\n",
    "    \"attributes_Ambience_trendy\": 1,\n",
    "    \"attributes_Ambience_classy\": 0,\n",
    "    \"attributes_Ambience_casual\": 1,\n",
    "    \"intimate_or_family\": 0\n",
    "}"
   ]
  }
 ],
 "metadata": {
  "kernelspec": {
   "display_name": "Python 3.13 (CUDA)",
   "language": "python",
   "name": "python313"
  },
  "language_info": {
   "codemirror_mode": {
    "name": "ipython",
    "version": 3
   },
   "file_extension": ".py",
   "mimetype": "text/x-python",
   "name": "python",
   "nbconvert_exporter": "python",
   "pygments_lexer": "ipython3",
   "version": "3.13.2"
  }
 },
 "nbformat": 4,
 "nbformat_minor": 5
}
