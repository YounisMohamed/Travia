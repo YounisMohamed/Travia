{
 "cells": [
  {
   "cell_type": "code",
   "execution_count": 1,
   "id": "47dbd0b3",
   "metadata": {},
   "outputs": [
    {
     "name": "stdout",
     "output_type": "stream",
     "text": [
      "User-Post Matrix:\n",
      "        Post1  Post2  Post3  Post4  Post5\n",
      "UserA      1      1      0      0      0\n",
      "UserB      0      1      1      0      0\n",
      "UserC      1      0      1      0      1\n",
      "UserD      0      0      1      1      1\n",
      "UserE      0      0      0      1      1\n"
     ]
    }
   ],
   "source": [
    "import pandas as pd\n",
    "from sklearn.metrics.pairwise import cosine_similarity\n",
    "import numpy as np\n",
    "\n",
    "# Users interact with posts (e.g., 1 = liked, 0 = no interaction)\n",
    "data = {\n",
    "    'Post1': [1, 0, 1, 0, 0],\n",
    "    'Post2': [1, 1, 0, 0, 0],\n",
    "    'Post3': [0, 1, 1, 1, 0],\n",
    "    'Post4': [0, 0, 0, 1, 1],\n",
    "    'Post5': [0, 0, 1, 1, 1],\n",
    "}\n",
    "\n",
    "users = ['UserA', 'UserB', 'UserC', 'UserD', 'UserE']\n",
    "\n",
    "df = pd.DataFrame(data, index=users)\n",
    "print(\"User-Post Matrix:\\n\", df)\n"
   ]
  },
  {
   "cell_type": "code",
   "execution_count": 2,
   "id": "9c6d77d2",
   "metadata": {
    "scrolled": false
   },
   "outputs": [
    {
     "data": {
      "text/html": [
       "<div>\n",
       "<style scoped>\n",
       "    .dataframe tbody tr th:only-of-type {\n",
       "        vertical-align: middle;\n",
       "    }\n",
       "\n",
       "    .dataframe tbody tr th {\n",
       "        vertical-align: top;\n",
       "    }\n",
       "\n",
       "    .dataframe thead th {\n",
       "        text-align: right;\n",
       "    }\n",
       "</style>\n",
       "<table border=\"1\" class=\"dataframe\">\n",
       "  <thead>\n",
       "    <tr style=\"text-align: right;\">\n",
       "      <th></th>\n",
       "      <th>Post1</th>\n",
       "      <th>Post2</th>\n",
       "      <th>Post3</th>\n",
       "      <th>Post4</th>\n",
       "      <th>Post5</th>\n",
       "    </tr>\n",
       "  </thead>\n",
       "  <tbody>\n",
       "    <tr>\n",
       "      <th>UserA</th>\n",
       "      <td>1</td>\n",
       "      <td>1</td>\n",
       "      <td>0</td>\n",
       "      <td>0</td>\n",
       "      <td>0</td>\n",
       "    </tr>\n",
       "    <tr>\n",
       "      <th>UserB</th>\n",
       "      <td>0</td>\n",
       "      <td>1</td>\n",
       "      <td>1</td>\n",
       "      <td>0</td>\n",
       "      <td>0</td>\n",
       "    </tr>\n",
       "    <tr>\n",
       "      <th>UserC</th>\n",
       "      <td>1</td>\n",
       "      <td>0</td>\n",
       "      <td>1</td>\n",
       "      <td>0</td>\n",
       "      <td>1</td>\n",
       "    </tr>\n",
       "    <tr>\n",
       "      <th>UserD</th>\n",
       "      <td>0</td>\n",
       "      <td>0</td>\n",
       "      <td>1</td>\n",
       "      <td>1</td>\n",
       "      <td>1</td>\n",
       "    </tr>\n",
       "    <tr>\n",
       "      <th>UserE</th>\n",
       "      <td>0</td>\n",
       "      <td>0</td>\n",
       "      <td>0</td>\n",
       "      <td>1</td>\n",
       "      <td>1</td>\n",
       "    </tr>\n",
       "  </tbody>\n",
       "</table>\n",
       "</div>"
      ],
      "text/plain": [
       "       Post1  Post2  Post3  Post4  Post5\n",
       "UserA      1      1      0      0      0\n",
       "UserB      0      1      1      0      0\n",
       "UserC      1      0      1      0      1\n",
       "UserD      0      0      1      1      1\n",
       "UserE      0      0      0      1      1"
      ]
     },
     "execution_count": 2,
     "metadata": {},
     "output_type": "execute_result"
    }
   ],
   "source": [
    "df.head()"
   ]
  },
  {
   "cell_type": "markdown",
   "id": "cda43cc9",
   "metadata": {},
   "source": [
    "# user-user recommendation, user_based"
   ]
  },
  {
   "cell_type": "code",
   "execution_count": 3,
   "id": "fe10c1ea",
   "metadata": {},
   "outputs": [
    {
     "name": "stdout",
     "output_type": "stream",
     "text": [
      "\n",
      "User Similarity Matrix:\n",
      "           UserA     UserB     UserC     UserD     UserE\n",
      "UserA  1.000000  0.500000  0.408248  0.000000  0.000000\n",
      "UserB  0.500000  1.000000  0.408248  0.408248  0.000000\n",
      "UserC  0.408248  0.408248  1.000000  0.666667  0.408248\n",
      "UserD  0.000000  0.408248  0.666667  1.000000  0.816497\n",
      "UserE  0.000000  0.000000  0.408248  0.816497  1.000000\n"
     ]
    }
   ],
   "source": [
    "# Compute cosine similarity between users\n",
    "similarity_matrix = cosine_similarity(df)\n",
    "similar_users = pd.DataFrame(similarity_matrix, index=users, columns=users)\n",
    "print(\"\\nUser Similarity Matrix:\\n\", similar_users)"
   ]
  },
  {
   "cell_type": "code",
   "execution_count": 4,
   "id": "becf399d",
   "metadata": {},
   "outputs": [
    {
     "name": "stdout",
     "output_type": "stream",
     "text": [
      "\n",
      "Top Recommendations for UserA:\n",
      " Post3    0.908248\n",
      "Post5    0.408248\n",
      "Post1    0.000000\n",
      "Post2    0.000000\n",
      "Post4    0.000000\n",
      "dtype: float64\n"
     ]
    }
   ],
   "source": [
    "target_user = 'UserA'\n",
    "target_index = users.index(target_user)\n",
    "\n",
    "# Get similarity scores for UserA\n",
    "user_similarities = similarity_matrix[target_index]\n",
    "\n",
    "# Weighted sum of other users' interactions\n",
    "scores = np.dot(user_similarities, df.values)\n",
    "\n",
    "# Avoid recommending items the user already interacted with\n",
    "user_seen = df.loc[target_user].values\n",
    "recommendation_scores = scores * (user_seen == 0)\n",
    "\n",
    "# Rank and show top recommendations\n",
    "post_names = df.columns\n",
    "recommendations = pd.Series(recommendation_scores, index=post_names)\n",
    "top_recommendations = recommendations.sort_values(ascending=False)\n",
    "\n",
    "print(f\"\\nTop Recommendations for {target_user}:\\n\", top_recommendations)\n"
   ]
  },
  {
   "cell_type": "markdown",
   "id": "f41d7ff3",
   "metadata": {},
   "source": [
    "# item-item recommendation, item_based"
   ]
  },
  {
   "cell_type": "code",
   "execution_count": 6,
   "id": "12065483",
   "metadata": {
    "scrolled": true
   },
   "outputs": [
    {
     "name": "stdout",
     "output_type": "stream",
     "text": [
      "\n",
      "Item-User Matrix:\n",
      "        UserA  UserB  UserC  UserD  UserE\n",
      "Post1      1      0      1      0      0\n",
      "Post2      1      1      0      0      0\n",
      "Post3      0      1      1      1      0\n",
      "Post4      0      0      0      1      1\n",
      "Post5      0      0      1      1      1\n"
     ]
    }
   ],
   "source": [
    "item_user_matrix = df.T\n",
    "print(\"\\nItem-User Matrix:\\n\", item_user_matrix)"
   ]
  },
  {
   "cell_type": "code",
   "execution_count": 7,
   "id": "12f753af",
   "metadata": {},
   "outputs": [
    {
     "name": "stdout",
     "output_type": "stream",
     "text": [
      "\n",
      "Item (Post) Similarity Matrix:\n",
      "           Post1     Post2     Post3     Post4     Post5\n",
      "Post1  1.000000  0.500000  0.408248  0.000000  0.408248\n",
      "Post2  0.500000  1.000000  0.408248  0.000000  0.000000\n",
      "Post3  0.408248  0.408248  1.000000  0.408248  0.666667\n",
      "Post4  0.000000  0.000000  0.408248  1.000000  0.816497\n",
      "Post5  0.408248  0.000000  0.666667  0.816497  1.000000\n"
     ]
    }
   ],
   "source": [
    "# Cosine similarity between items (posts)\n",
    "item_sim = cosine_similarity(item_user_matrix)\n",
    "item_sim_df = pd.DataFrame(item_sim, index=df.columns, columns=df.columns)\n",
    "print(\"\\nItem (Post) Similarity Matrix:\\n\", item_sim_df)\n"
   ]
  },
  {
   "cell_type": "code",
   "execution_count": 12,
   "id": "95f1d7c5",
   "metadata": {
    "scrolled": true
   },
   "outputs": [
    {
     "name": "stdout",
     "output_type": "stream",
     "text": [
      "\n",
      "Item-Based Recommendations for UserA:\n",
      " Post3    0.816497\n",
      "Post5    0.408248\n",
      "Post1    0.000000\n",
      "Post2    0.000000\n",
      "Post4    0.000000\n",
      "dtype: float64\n"
     ]
    }
   ],
   "source": [
    "target_user = 'UserA'\n",
    "user_ratings = df.loc[target_user]\n",
    "# print(user_ratings)\n",
    "# Score = similarity of an item to others * user's interactions with those others\n",
    "scores = item_sim_df.dot(user_ratings)\n",
    "# print(scores)\n",
    "# Don't recommend items the user already interacted with\n",
    "already_seen = user_ratings == 1\n",
    "scores[already_seen] = 0\n",
    "\n",
    "# Show recommendations\n",
    "recommendations = scores.sort_values(ascending=False)\n",
    "print(f\"\\nItem-Based Recommendations for {target_user}:\\n\", recommendations)\n"
   ]
  },
  {
   "cell_type": "markdown",
   "id": "62068d4c",
   "metadata": {},
   "source": [
    "# MF"
   ]
  },
  {
   "cell_type": "code",
   "execution_count": 1,
   "id": "c82d4965",
   "metadata": {},
   "outputs": [
    {
     "name": "stdout",
     "output_type": "stream",
     "text": [
      "Original User-Item Matrix:\n",
      " [[5. 3. 0. 1. 0.]\n",
      " [4. 0. 0. 1. 2.]\n",
      " [1. 1. 0. 5. 0.]\n",
      " [0. 0. 5. 4. 0.]\n",
      " [0. 1. 5. 4. 0.]]\n"
     ]
    }
   ],
   "source": [
    "import numpy as np\n",
    "\n",
    "# User-item interaction matrix (rows = users, columns = posts)\n",
    "# 0 means no interaction, 1 means interaction\n",
    "R = np.array([\n",
    "    [5, 3, 0, 1, 0],\n",
    "    [4, 0, 0, 1, 2],\n",
    "    [1, 1, 0, 5, 0],\n",
    "    [0, 0, 5, 4, 0],\n",
    "    [0, 1, 5, 4, 0],\n",
    "], dtype=float)\n",
    "\n",
    "print(\"Original User-Item Matrix:\\n\", R)"
   ]
  },
  {
   "cell_type": "code",
   "execution_count": 2,
   "id": "4fde529d",
   "metadata": {},
   "outputs": [
    {
     "name": "stdout",
     "output_type": "stream",
     "text": [
      "U shape: (5, 5)\n",
      "sigma shape: (5,)\n",
      "Vt shape: (5, 5)\n"
     ]
    }
   ],
   "source": [
    "from numpy.linalg import svd\n",
    "\n",
    "# Perform SVD\n",
    "U, sigma, Vt = svd(R, full_matrices=False)\n",
    "\n",
    "print(\"U shape:\", U.shape)\n",
    "print(\"sigma shape:\", sigma.shape)\n",
    "print(\"Vt shape:\", Vt.shape)"
   ]
  },
  {
   "cell_type": "code",
   "execution_count": 3,
   "id": "a32147f5",
   "metadata": {},
   "outputs": [
    {
     "name": "stdout",
     "output_type": "stream",
     "text": [
      "U_reduced shape: (5, 2)\n",
      "S shape: (2, 2)\n",
      "Vt_reduced shape: (2, 5)\n"
     ]
    }
   ],
   "source": [
    "k = 2  # number of latent features to keep\n",
    "\n",
    "# Create diagonal matrix for sigma\n",
    "S = np.diag(sigma[:k])\n",
    "\n",
    "# Reduce U and Vt to k features\n",
    "U_reduced = U[:, :k]\n",
    "Vt_reduced = Vt[:k, :]\n",
    "\n",
    "print(\"U_reduced shape:\", U_reduced.shape)\n",
    "print(\"S shape:\", S.shape)\n",
    "print(\"Vt_reduced shape:\", Vt_reduced.shape)\n"
   ]
  },
  {
   "cell_type": "code",
   "execution_count": 4,
   "id": "409f65be",
   "metadata": {},
   "outputs": [
    {
     "name": "stdout",
     "output_type": "stream",
     "text": [
      "Approximated User-Item Matrix:\n",
      " [[ 4.97610591  1.99126782 -0.53812927  1.6547332   0.86865619]\n",
      " [ 3.56653408  1.42685597 -0.38836997  1.1832309   0.62261781]\n",
      " [ 1.83307084  1.03235209  2.09065716  2.97862929  0.29931595]\n",
      " [-0.36542033  0.43169409  4.46627415  4.46030584 -0.1037754 ]\n",
      " [-0.06527349  0.5545843   4.45512256  4.58216885 -0.05157259]]\n"
     ]
    }
   ],
   "source": [
    "# Approximate original matrix\n",
    "R_approx = np.dot(np.dot(U_reduced, S), Vt_reduced)\n",
    "print(\"Approximated User-Item Matrix:\\n\", R_approx)\n"
   ]
  },
  {
   "cell_type": "code",
   "execution_count": 5,
   "id": "8041522f",
   "metadata": {},
   "outputs": [
    {
     "name": "stdout",
     "output_type": "stream",
     "text": [
      "Recommended posts for user 0:\n",
      "Post 4 with predicted rating 0.87\n",
      "Post 2 with predicted rating -0.54\n"
     ]
    }
   ],
   "source": [
    "user_id = 0\n",
    "user_interactions = R[user_id]\n",
    "user_predictions = R_approx[user_id]\n",
    "\n",
    "# Recommend posts with zero original interaction but high predicted score\n",
    "recommendations = [(i, score) for i, (orig, score) in enumerate(zip(user_interactions, user_predictions)) if orig == 0]\n",
    "recommendations.sort(key=lambda x: x[1], reverse=True)\n",
    "\n",
    "print(f\"Recommended posts for user {user_id}:\")\n",
    "for post_id, score in recommendations:\n",
    "    print(f\"Post {post_id} with predicted rating {score:.2f}\")\n"
   ]
  }
 ],
 "metadata": {
  "kernelspec": {
   "display_name": "Python 3.13 (CUDA)",
   "language": "python",
   "name": "python313"
  },
  "language_info": {
   "codemirror_mode": {
    "name": "ipython",
    "version": 3
   },
   "file_extension": ".py",
   "mimetype": "text/x-python",
   "name": "python",
   "nbconvert_exporter": "python",
   "pygments_lexer": "ipython3",
   "version": "3.13.2"
  }
 },
 "nbformat": 4,
 "nbformat_minor": 5
}
